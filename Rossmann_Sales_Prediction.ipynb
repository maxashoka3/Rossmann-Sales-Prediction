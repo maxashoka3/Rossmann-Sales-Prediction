{
  "cells": [
    {
      "cell_type": "markdown",
      "metadata": {
        "id": "view-in-github",
        "colab_type": "text"
      },
      "source": [
        "<a href=\"https://colab.research.google.com/github/maxashoka3/Rossmann-Sales-Prediction/blob/main/Rossmann_Sales_Prediction.ipynb\" target=\"_parent\"><img src=\"https://colab.research.google.com/assets/colab-badge.svg\" alt=\"Open In Colab\"/></a>"
      ]
    },
    {
      "cell_type": "markdown",
      "metadata": {
        "id": "ncyrV27ZBc65"
      },
      "source": [
        "### Importing Packages"
      ]
    },
    {
      "cell_type": "code",
      "execution_count": null,
      "metadata": {
        "id": "z3ME2sw6ZDbr"
      },
      "outputs": [],
      "source": [
        "#Import Packages\n",
        "import numpy as np\n",
        "import pandas as pd\n",
        "\n",
        "import matplotlib.pyplot as plt\n",
        "%matplotlib inline\n",
        "import seaborn as sns\n",
        "sns.set_style(\"whitegrid\")\n",
        "\n",
        "#Ignore warnings\n",
        "import warnings\n",
        "warnings.filterwarnings(\"ignore\")"
      ]
    },
    {
      "cell_type": "markdown",
      "metadata": {
        "id": "3cWFhZ4YZdGv"
      },
      "source": [
        "### **2.Data Preprocessing**\n",
        "    2.1 Load Dataset"
      ]
    },
    {
      "cell_type": "code",
      "execution_count": null,
      "metadata": {
        "id": "G8p5eP1EZcuT"
      },
      "outputs": [],
      "source": [
        "#importing the both data\n",
        "rossmann_df = pd.read_csv('/content/drive/MyDrive/AlmaBetter/Machine Learning Project/Rossmann Retail Sales Prediction/Rossmann Stores Data.csv',\n",
        "                \n",
        "                          parse_dates = True, index_col = 'Date')\n",
        "store = pd.read_csv('/content/drive/MyDrive/AlmaBetter/Machine Learning Project/Rossmann Retail Sales Prediction/store.csv')\n"
      ]
    },
    {
      "cell_type": "code",
      "execution_count": null,
      "metadata": {
        "colab": {
          "base_uri": "https://localhost:8080/",
          "height": 406
        },
        "id": "te93WaGSZP0w",
        "outputId": "643fb56a-68c7-4e1a-fee2-089d7a309847"
      },
      "outputs": [
        {
          "name": "stdout",
          "output_type": "stream",
          "text": [
            "# of observations & # of features (1017209, 8)\n"
          ]
        },
        {
          "data": {
            "text/html": [
              "\n",
              "  <div id=\"df-d53e086b-a55e-4ee3-a6e4-559455b30c41\">\n",
              "    <div class=\"colab-df-container\">\n",
              "      <div>\n",
              "<style scoped>\n",
              "    .dataframe tbody tr th:only-of-type {\n",
              "        vertical-align: middle;\n",
              "    }\n",
              "\n",
              "    .dataframe tbody tr th {\n",
              "        vertical-align: top;\n",
              "    }\n",
              "\n",
              "    .dataframe thead th {\n",
              "        text-align: right;\n",
              "    }\n",
              "</style>\n",
              "<table border=\"1\" class=\"dataframe\">\n",
              "  <thead>\n",
              "    <tr style=\"text-align: right;\">\n",
              "      <th></th>\n",
              "      <th>Store</th>\n",
              "      <th>DayOfWeek</th>\n",
              "      <th>Sales</th>\n",
              "      <th>Customers</th>\n",
              "      <th>Open</th>\n",
              "      <th>Promo</th>\n",
              "      <th>StateHoliday</th>\n",
              "      <th>SchoolHoliday</th>\n",
              "    </tr>\n",
              "    <tr>\n",
              "      <th>Date</th>\n",
              "      <th></th>\n",
              "      <th></th>\n",
              "      <th></th>\n",
              "      <th></th>\n",
              "      <th></th>\n",
              "      <th></th>\n",
              "      <th></th>\n",
              "      <th></th>\n",
              "    </tr>\n",
              "  </thead>\n",
              "  <tbody>\n",
              "    <tr>\n",
              "      <th>2015-07-31</th>\n",
              "      <td>1</td>\n",
              "      <td>5</td>\n",
              "      <td>5263</td>\n",
              "      <td>555</td>\n",
              "      <td>1</td>\n",
              "      <td>1</td>\n",
              "      <td>0</td>\n",
              "      <td>1</td>\n",
              "    </tr>\n",
              "    <tr>\n",
              "      <th>2015-07-31</th>\n",
              "      <td>2</td>\n",
              "      <td>5</td>\n",
              "      <td>6064</td>\n",
              "      <td>625</td>\n",
              "      <td>1</td>\n",
              "      <td>1</td>\n",
              "      <td>0</td>\n",
              "      <td>1</td>\n",
              "    </tr>\n",
              "    <tr>\n",
              "      <th>2015-07-31</th>\n",
              "      <td>3</td>\n",
              "      <td>5</td>\n",
              "      <td>8314</td>\n",
              "      <td>821</td>\n",
              "      <td>1</td>\n",
              "      <td>1</td>\n",
              "      <td>0</td>\n",
              "      <td>1</td>\n",
              "    </tr>\n",
              "    <tr>\n",
              "      <th>2015-07-31</th>\n",
              "      <td>4</td>\n",
              "      <td>5</td>\n",
              "      <td>13995</td>\n",
              "      <td>1498</td>\n",
              "      <td>1</td>\n",
              "      <td>1</td>\n",
              "      <td>0</td>\n",
              "      <td>1</td>\n",
              "    </tr>\n",
              "    <tr>\n",
              "      <th>2015-07-31</th>\n",
              "      <td>5</td>\n",
              "      <td>5</td>\n",
              "      <td>4822</td>\n",
              "      <td>559</td>\n",
              "      <td>1</td>\n",
              "      <td>1</td>\n",
              "      <td>0</td>\n",
              "      <td>1</td>\n",
              "    </tr>\n",
              "  </tbody>\n",
              "</table>\n",
              "</div>\n",
              "      <button class=\"colab-df-convert\" onclick=\"convertToInteractive('df-d53e086b-a55e-4ee3-a6e4-559455b30c41')\"\n",
              "              title=\"Convert this dataframe to an interactive table.\"\n",
              "              style=\"display:none;\">\n",
              "        \n",
              "  <svg xmlns=\"http://www.w3.org/2000/svg\" height=\"24px\"viewBox=\"0 0 24 24\"\n",
              "       width=\"24px\">\n",
              "    <path d=\"M0 0h24v24H0V0z\" fill=\"none\"/>\n",
              "    <path d=\"M18.56 5.44l.94 2.06.94-2.06 2.06-.94-2.06-.94-.94-2.06-.94 2.06-2.06.94zm-11 1L8.5 8.5l.94-2.06 2.06-.94-2.06-.94L8.5 2.5l-.94 2.06-2.06.94zm10 10l.94 2.06.94-2.06 2.06-.94-2.06-.94-.94-2.06-.94 2.06-2.06.94z\"/><path d=\"M17.41 7.96l-1.37-1.37c-.4-.4-.92-.59-1.43-.59-.52 0-1.04.2-1.43.59L10.3 9.45l-7.72 7.72c-.78.78-.78 2.05 0 2.83L4 21.41c.39.39.9.59 1.41.59.51 0 1.02-.2 1.41-.59l7.78-7.78 2.81-2.81c.8-.78.8-2.07 0-2.86zM5.41 20L4 18.59l7.72-7.72 1.47 1.35L5.41 20z\"/>\n",
              "  </svg>\n",
              "      </button>\n",
              "      \n",
              "  <style>\n",
              "    .colab-df-container {\n",
              "      display:flex;\n",
              "      flex-wrap:wrap;\n",
              "      gap: 12px;\n",
              "    }\n",
              "\n",
              "    .colab-df-convert {\n",
              "      background-color: #E8F0FE;\n",
              "      border: none;\n",
              "      border-radius: 50%;\n",
              "      cursor: pointer;\n",
              "      display: none;\n",
              "      fill: #1967D2;\n",
              "      height: 32px;\n",
              "      padding: 0 0 0 0;\n",
              "      width: 32px;\n",
              "    }\n",
              "\n",
              "    .colab-df-convert:hover {\n",
              "      background-color: #E2EBFA;\n",
              "      box-shadow: 0px 1px 2px rgba(60, 64, 67, 0.3), 0px 1px 3px 1px rgba(60, 64, 67, 0.15);\n",
              "      fill: #174EA6;\n",
              "    }\n",
              "\n",
              "    [theme=dark] .colab-df-convert {\n",
              "      background-color: #3B4455;\n",
              "      fill: #D2E3FC;\n",
              "    }\n",
              "\n",
              "    [theme=dark] .colab-df-convert:hover {\n",
              "      background-color: #434B5C;\n",
              "      box-shadow: 0px 1px 3px 1px rgba(0, 0, 0, 0.15);\n",
              "      filter: drop-shadow(0px 1px 2px rgba(0, 0, 0, 0.3));\n",
              "      fill: #FFFFFF;\n",
              "    }\n",
              "  </style>\n",
              "\n",
              "      <script>\n",
              "        const buttonEl =\n",
              "          document.querySelector('#df-d53e086b-a55e-4ee3-a6e4-559455b30c41 button.colab-df-convert');\n",
              "        buttonEl.style.display =\n",
              "          google.colab.kernel.accessAllowed ? 'block' : 'none';\n",
              "\n",
              "        async function convertToInteractive(key) {\n",
              "          const element = document.querySelector('#df-d53e086b-a55e-4ee3-a6e4-559455b30c41');\n",
              "          const dataTable =\n",
              "            await google.colab.kernel.invokeFunction('convertToInteractive',\n",
              "                                                     [key], {});\n",
              "          if (!dataTable) return;\n",
              "\n",
              "          const docLinkHtml = 'Like what you see? Visit the ' +\n",
              "            '<a target=\"_blank\" href=https://colab.research.google.com/notebooks/data_table.ipynb>data table notebook</a>'\n",
              "            + ' to learn more about interactive tables.';\n",
              "          element.innerHTML = '';\n",
              "          dataTable['output_type'] = 'display_data';\n",
              "          await google.colab.output.renderOutput(dataTable, element);\n",
              "          const docLink = document.createElement('div');\n",
              "          docLink.innerHTML = docLinkHtml;\n",
              "          element.appendChild(docLink);\n",
              "        }\n",
              "      </script>\n",
              "    </div>\n",
              "  </div>\n",
              "  "
            ],
            "text/plain": [
              "            Store  DayOfWeek  Sales  ...  Promo  StateHoliday  SchoolHoliday\n",
              "Date                                 ...                                    \n",
              "2015-07-31      1          5   5263  ...      1             0              1\n",
              "2015-07-31      2          5   6064  ...      1             0              1\n",
              "2015-07-31      3          5   8314  ...      1             0              1\n",
              "2015-07-31      4          5  13995  ...      1             0              1\n",
              "2015-07-31      5          5   4822  ...      1             0              1\n",
              "\n",
              "[5 rows x 8 columns]"
            ]
          },
          "execution_count": 4,
          "metadata": {},
          "output_type": "execute_result"
        }
      ],
      "source": [
        "# No of rows and columns in rossmann dataset\n",
        "print(\"# of observations & # of features\", rossmann_df.shape)\n",
        "rossmann_df.head()"
      ]
    },
    {
      "cell_type": "code",
      "execution_count": null,
      "metadata": {
        "colab": {
          "base_uri": "https://localhost:8080/"
        },
        "id": "5fMiyaTXCMzS",
        "outputId": "71b1a38c-5cda-4492-d8d7-c9697036ab6e"
      },
      "outputs": [
        {
          "name": "stdout",
          "output_type": "stream",
          "text": [
            "<class 'pandas.core.frame.DataFrame'>\n",
            "DatetimeIndex: 1017209 entries, 2015-07-31 to 2013-01-01\n",
            "Data columns (total 8 columns):\n",
            " #   Column         Non-Null Count    Dtype \n",
            "---  ------         --------------    ----- \n",
            " 0   Store          1017209 non-null  int64 \n",
            " 1   DayOfWeek      1017209 non-null  int64 \n",
            " 2   Sales          1017209 non-null  int64 \n",
            " 3   Customers      1017209 non-null  int64 \n",
            " 4   Open           1017209 non-null  int64 \n",
            " 5   Promo          1017209 non-null  int64 \n",
            " 6   StateHoliday   1017209 non-null  object\n",
            " 7   SchoolHoliday  1017209 non-null  int64 \n",
            "dtypes: int64(7), object(1)\n",
            "memory usage: 69.8+ MB\n"
          ]
        }
      ],
      "source": [
        "# Getting the Rossmann dataset information\n",
        "rossmann_df.info()"
      ]
    },
    {
      "cell_type": "code",
      "execution_count": null,
      "metadata": {
        "colab": {
          "base_uri": "https://localhost:8080/",
          "height": 364
        },
        "id": "d5n-Ko9sBt_8",
        "outputId": "5556810c-23a0-4bb4-9408-711e599e5214"
      },
      "outputs": [
        {
          "data": {
            "text/html": [
              "\n",
              "  <div id=\"df-396be749-e3b3-48f7-b19c-281bfb31fba8\">\n",
              "    <div class=\"colab-df-container\">\n",
              "      <div>\n",
              "<style scoped>\n",
              "    .dataframe tbody tr th:only-of-type {\n",
              "        vertical-align: middle;\n",
              "    }\n",
              "\n",
              "    .dataframe tbody tr th {\n",
              "        vertical-align: top;\n",
              "    }\n",
              "\n",
              "    .dataframe thead th {\n",
              "        text-align: right;\n",
              "    }\n",
              "</style>\n",
              "<table border=\"1\" class=\"dataframe\">\n",
              "  <thead>\n",
              "    <tr style=\"text-align: right;\">\n",
              "      <th></th>\n",
              "      <th>Store</th>\n",
              "      <th>DayOfWeek</th>\n",
              "      <th>Sales</th>\n",
              "      <th>Customers</th>\n",
              "      <th>Open</th>\n",
              "      <th>Promo</th>\n",
              "      <th>SchoolHoliday</th>\n",
              "    </tr>\n",
              "  </thead>\n",
              "  <tbody>\n",
              "    <tr>\n",
              "      <th>count</th>\n",
              "      <td>1.017209e+06</td>\n",
              "      <td>1.017209e+06</td>\n",
              "      <td>1.017209e+06</td>\n",
              "      <td>1.017209e+06</td>\n",
              "      <td>1.017209e+06</td>\n",
              "      <td>1.017209e+06</td>\n",
              "      <td>1.017209e+06</td>\n",
              "    </tr>\n",
              "    <tr>\n",
              "      <th>mean</th>\n",
              "      <td>5.584297e+02</td>\n",
              "      <td>3.998341e+00</td>\n",
              "      <td>5.773819e+03</td>\n",
              "      <td>6.331459e+02</td>\n",
              "      <td>8.301067e-01</td>\n",
              "      <td>3.815145e-01</td>\n",
              "      <td>1.786467e-01</td>\n",
              "    </tr>\n",
              "    <tr>\n",
              "      <th>std</th>\n",
              "      <td>3.219087e+02</td>\n",
              "      <td>1.997391e+00</td>\n",
              "      <td>3.849926e+03</td>\n",
              "      <td>4.644117e+02</td>\n",
              "      <td>3.755392e-01</td>\n",
              "      <td>4.857586e-01</td>\n",
              "      <td>3.830564e-01</td>\n",
              "    </tr>\n",
              "    <tr>\n",
              "      <th>min</th>\n",
              "      <td>1.000000e+00</td>\n",
              "      <td>1.000000e+00</td>\n",
              "      <td>0.000000e+00</td>\n",
              "      <td>0.000000e+00</td>\n",
              "      <td>0.000000e+00</td>\n",
              "      <td>0.000000e+00</td>\n",
              "      <td>0.000000e+00</td>\n",
              "    </tr>\n",
              "    <tr>\n",
              "      <th>25%</th>\n",
              "      <td>2.800000e+02</td>\n",
              "      <td>2.000000e+00</td>\n",
              "      <td>3.727000e+03</td>\n",
              "      <td>4.050000e+02</td>\n",
              "      <td>1.000000e+00</td>\n",
              "      <td>0.000000e+00</td>\n",
              "      <td>0.000000e+00</td>\n",
              "    </tr>\n",
              "    <tr>\n",
              "      <th>50%</th>\n",
              "      <td>5.580000e+02</td>\n",
              "      <td>4.000000e+00</td>\n",
              "      <td>5.744000e+03</td>\n",
              "      <td>6.090000e+02</td>\n",
              "      <td>1.000000e+00</td>\n",
              "      <td>0.000000e+00</td>\n",
              "      <td>0.000000e+00</td>\n",
              "    </tr>\n",
              "    <tr>\n",
              "      <th>75%</th>\n",
              "      <td>8.380000e+02</td>\n",
              "      <td>6.000000e+00</td>\n",
              "      <td>7.856000e+03</td>\n",
              "      <td>8.370000e+02</td>\n",
              "      <td>1.000000e+00</td>\n",
              "      <td>1.000000e+00</td>\n",
              "      <td>0.000000e+00</td>\n",
              "    </tr>\n",
              "    <tr>\n",
              "      <th>max</th>\n",
              "      <td>1.115000e+03</td>\n",
              "      <td>7.000000e+00</td>\n",
              "      <td>4.155100e+04</td>\n",
              "      <td>7.388000e+03</td>\n",
              "      <td>1.000000e+00</td>\n",
              "      <td>1.000000e+00</td>\n",
              "      <td>1.000000e+00</td>\n",
              "    </tr>\n",
              "  </tbody>\n",
              "</table>\n",
              "</div>\n",
              "      <button class=\"colab-df-convert\" onclick=\"convertToInteractive('df-396be749-e3b3-48f7-b19c-281bfb31fba8')\"\n",
              "              title=\"Convert this dataframe to an interactive table.\"\n",
              "              style=\"display:none;\">\n",
              "        \n",
              "  <svg xmlns=\"http://www.w3.org/2000/svg\" height=\"24px\"viewBox=\"0 0 24 24\"\n",
              "       width=\"24px\">\n",
              "    <path d=\"M0 0h24v24H0V0z\" fill=\"none\"/>\n",
              "    <path d=\"M18.56 5.44l.94 2.06.94-2.06 2.06-.94-2.06-.94-.94-2.06-.94 2.06-2.06.94zm-11 1L8.5 8.5l.94-2.06 2.06-.94-2.06-.94L8.5 2.5l-.94 2.06-2.06.94zm10 10l.94 2.06.94-2.06 2.06-.94-2.06-.94-.94-2.06-.94 2.06-2.06.94z\"/><path d=\"M17.41 7.96l-1.37-1.37c-.4-.4-.92-.59-1.43-.59-.52 0-1.04.2-1.43.59L10.3 9.45l-7.72 7.72c-.78.78-.78 2.05 0 2.83L4 21.41c.39.39.9.59 1.41.59.51 0 1.02-.2 1.41-.59l7.78-7.78 2.81-2.81c.8-.78.8-2.07 0-2.86zM5.41 20L4 18.59l7.72-7.72 1.47 1.35L5.41 20z\"/>\n",
              "  </svg>\n",
              "      </button>\n",
              "      \n",
              "  <style>\n",
              "    .colab-df-container {\n",
              "      display:flex;\n",
              "      flex-wrap:wrap;\n",
              "      gap: 12px;\n",
              "    }\n",
              "\n",
              "    .colab-df-convert {\n",
              "      background-color: #E8F0FE;\n",
              "      border: none;\n",
              "      border-radius: 50%;\n",
              "      cursor: pointer;\n",
              "      display: none;\n",
              "      fill: #1967D2;\n",
              "      height: 32px;\n",
              "      padding: 0 0 0 0;\n",
              "      width: 32px;\n",
              "    }\n",
              "\n",
              "    .colab-df-convert:hover {\n",
              "      background-color: #E2EBFA;\n",
              "      box-shadow: 0px 1px 2px rgba(60, 64, 67, 0.3), 0px 1px 3px 1px rgba(60, 64, 67, 0.15);\n",
              "      fill: #174EA6;\n",
              "    }\n",
              "\n",
              "    [theme=dark] .colab-df-convert {\n",
              "      background-color: #3B4455;\n",
              "      fill: #D2E3FC;\n",
              "    }\n",
              "\n",
              "    [theme=dark] .colab-df-convert:hover {\n",
              "      background-color: #434B5C;\n",
              "      box-shadow: 0px 1px 3px 1px rgba(0, 0, 0, 0.15);\n",
              "      filter: drop-shadow(0px 1px 2px rgba(0, 0, 0, 0.3));\n",
              "      fill: #FFFFFF;\n",
              "    }\n",
              "  </style>\n",
              "\n",
              "      <script>\n",
              "        const buttonEl =\n",
              "          document.querySelector('#df-396be749-e3b3-48f7-b19c-281bfb31fba8 button.colab-df-convert');\n",
              "        buttonEl.style.display =\n",
              "          google.colab.kernel.accessAllowed ? 'block' : 'none';\n",
              "\n",
              "        async function convertToInteractive(key) {\n",
              "          const element = document.querySelector('#df-396be749-e3b3-48f7-b19c-281bfb31fba8');\n",
              "          const dataTable =\n",
              "            await google.colab.kernel.invokeFunction('convertToInteractive',\n",
              "                                                     [key], {});\n",
              "          if (!dataTable) return;\n",
              "\n",
              "          const docLinkHtml = 'Like what you see? Visit the ' +\n",
              "            '<a target=\"_blank\" href=https://colab.research.google.com/notebooks/data_table.ipynb>data table notebook</a>'\n",
              "            + ' to learn more about interactive tables.';\n",
              "          element.innerHTML = '';\n",
              "          dataTable['output_type'] = 'display_data';\n",
              "          await google.colab.output.renderOutput(dataTable, element);\n",
              "          const docLink = document.createElement('div');\n",
              "          docLink.innerHTML = docLinkHtml;\n",
              "          element.appendChild(docLink);\n",
              "        }\n",
              "      </script>\n",
              "    </div>\n",
              "  </div>\n",
              "  "
            ],
            "text/plain": [
              "              Store     DayOfWeek  ...         Promo  SchoolHoliday\n",
              "count  1.017209e+06  1.017209e+06  ...  1.017209e+06   1.017209e+06\n",
              "mean   5.584297e+02  3.998341e+00  ...  3.815145e-01   1.786467e-01\n",
              "std    3.219087e+02  1.997391e+00  ...  4.857586e-01   3.830564e-01\n",
              "min    1.000000e+00  1.000000e+00  ...  0.000000e+00   0.000000e+00\n",
              "25%    2.800000e+02  2.000000e+00  ...  0.000000e+00   0.000000e+00\n",
              "50%    5.580000e+02  4.000000e+00  ...  0.000000e+00   0.000000e+00\n",
              "75%    8.380000e+02  6.000000e+00  ...  1.000000e+00   0.000000e+00\n",
              "max    1.115000e+03  7.000000e+00  ...  1.000000e+00   1.000000e+00\n",
              "\n",
              "[8 rows x 7 columns]"
            ]
          },
          "execution_count": 6,
          "metadata": {},
          "output_type": "execute_result"
        }
      ],
      "source": [
        "# Getting the Description of Rossmann Dataset\n",
        "rossmann_df.describe()"
      ]
    },
    {
      "cell_type": "code",
      "execution_count": null,
      "metadata": {
        "colab": {
          "base_uri": "https://localhost:8080/",
          "height": 288
        },
        "id": "sTDF1I0AaZMc",
        "outputId": "48d177d5-ceff-4c58-d546-723d4f0a348e"
      },
      "outputs": [
        {
          "name": "stdout",
          "output_type": "stream",
          "text": [
            "# of observations & # of features (1115, 10)\n"
          ]
        },
        {
          "data": {
            "text/html": [
              "\n",
              "  <div id=\"df-4f0dae61-7646-4f80-9539-7afa5b89cfe2\">\n",
              "    <div class=\"colab-df-container\">\n",
              "      <div>\n",
              "<style scoped>\n",
              "    .dataframe tbody tr th:only-of-type {\n",
              "        vertical-align: middle;\n",
              "    }\n",
              "\n",
              "    .dataframe tbody tr th {\n",
              "        vertical-align: top;\n",
              "    }\n",
              "\n",
              "    .dataframe thead th {\n",
              "        text-align: right;\n",
              "    }\n",
              "</style>\n",
              "<table border=\"1\" class=\"dataframe\">\n",
              "  <thead>\n",
              "    <tr style=\"text-align: right;\">\n",
              "      <th></th>\n",
              "      <th>Store</th>\n",
              "      <th>StoreType</th>\n",
              "      <th>Assortment</th>\n",
              "      <th>CompetitionDistance</th>\n",
              "      <th>CompetitionOpenSinceMonth</th>\n",
              "      <th>CompetitionOpenSinceYear</th>\n",
              "      <th>Promo2</th>\n",
              "      <th>Promo2SinceWeek</th>\n",
              "      <th>Promo2SinceYear</th>\n",
              "      <th>PromoInterval</th>\n",
              "    </tr>\n",
              "  </thead>\n",
              "  <tbody>\n",
              "    <tr>\n",
              "      <th>0</th>\n",
              "      <td>1</td>\n",
              "      <td>c</td>\n",
              "      <td>a</td>\n",
              "      <td>1270.0</td>\n",
              "      <td>9.0</td>\n",
              "      <td>2008.0</td>\n",
              "      <td>0</td>\n",
              "      <td>NaN</td>\n",
              "      <td>NaN</td>\n",
              "      <td>NaN</td>\n",
              "    </tr>\n",
              "    <tr>\n",
              "      <th>1</th>\n",
              "      <td>2</td>\n",
              "      <td>a</td>\n",
              "      <td>a</td>\n",
              "      <td>570.0</td>\n",
              "      <td>11.0</td>\n",
              "      <td>2007.0</td>\n",
              "      <td>1</td>\n",
              "      <td>13.0</td>\n",
              "      <td>2010.0</td>\n",
              "      <td>Jan,Apr,Jul,Oct</td>\n",
              "    </tr>\n",
              "    <tr>\n",
              "      <th>2</th>\n",
              "      <td>3</td>\n",
              "      <td>a</td>\n",
              "      <td>a</td>\n",
              "      <td>14130.0</td>\n",
              "      <td>12.0</td>\n",
              "      <td>2006.0</td>\n",
              "      <td>1</td>\n",
              "      <td>14.0</td>\n",
              "      <td>2011.0</td>\n",
              "      <td>Jan,Apr,Jul,Oct</td>\n",
              "    </tr>\n",
              "    <tr>\n",
              "      <th>3</th>\n",
              "      <td>4</td>\n",
              "      <td>c</td>\n",
              "      <td>c</td>\n",
              "      <td>620.0</td>\n",
              "      <td>9.0</td>\n",
              "      <td>2009.0</td>\n",
              "      <td>0</td>\n",
              "      <td>NaN</td>\n",
              "      <td>NaN</td>\n",
              "      <td>NaN</td>\n",
              "    </tr>\n",
              "    <tr>\n",
              "      <th>4</th>\n",
              "      <td>5</td>\n",
              "      <td>a</td>\n",
              "      <td>a</td>\n",
              "      <td>29910.0</td>\n",
              "      <td>4.0</td>\n",
              "      <td>2015.0</td>\n",
              "      <td>0</td>\n",
              "      <td>NaN</td>\n",
              "      <td>NaN</td>\n",
              "      <td>NaN</td>\n",
              "    </tr>\n",
              "  </tbody>\n",
              "</table>\n",
              "</div>\n",
              "      <button class=\"colab-df-convert\" onclick=\"convertToInteractive('df-4f0dae61-7646-4f80-9539-7afa5b89cfe2')\"\n",
              "              title=\"Convert this dataframe to an interactive table.\"\n",
              "              style=\"display:none;\">\n",
              "        \n",
              "  <svg xmlns=\"http://www.w3.org/2000/svg\" height=\"24px\"viewBox=\"0 0 24 24\"\n",
              "       width=\"24px\">\n",
              "    <path d=\"M0 0h24v24H0V0z\" fill=\"none\"/>\n",
              "    <path d=\"M18.56 5.44l.94 2.06.94-2.06 2.06-.94-2.06-.94-.94-2.06-.94 2.06-2.06.94zm-11 1L8.5 8.5l.94-2.06 2.06-.94-2.06-.94L8.5 2.5l-.94 2.06-2.06.94zm10 10l.94 2.06.94-2.06 2.06-.94-2.06-.94-.94-2.06-.94 2.06-2.06.94z\"/><path d=\"M17.41 7.96l-1.37-1.37c-.4-.4-.92-.59-1.43-.59-.52 0-1.04.2-1.43.59L10.3 9.45l-7.72 7.72c-.78.78-.78 2.05 0 2.83L4 21.41c.39.39.9.59 1.41.59.51 0 1.02-.2 1.41-.59l7.78-7.78 2.81-2.81c.8-.78.8-2.07 0-2.86zM5.41 20L4 18.59l7.72-7.72 1.47 1.35L5.41 20z\"/>\n",
              "  </svg>\n",
              "      </button>\n",
              "      \n",
              "  <style>\n",
              "    .colab-df-container {\n",
              "      display:flex;\n",
              "      flex-wrap:wrap;\n",
              "      gap: 12px;\n",
              "    }\n",
              "\n",
              "    .colab-df-convert {\n",
              "      background-color: #E8F0FE;\n",
              "      border: none;\n",
              "      border-radius: 50%;\n",
              "      cursor: pointer;\n",
              "      display: none;\n",
              "      fill: #1967D2;\n",
              "      height: 32px;\n",
              "      padding: 0 0 0 0;\n",
              "      width: 32px;\n",
              "    }\n",
              "\n",
              "    .colab-df-convert:hover {\n",
              "      background-color: #E2EBFA;\n",
              "      box-shadow: 0px 1px 2px rgba(60, 64, 67, 0.3), 0px 1px 3px 1px rgba(60, 64, 67, 0.15);\n",
              "      fill: #174EA6;\n",
              "    }\n",
              "\n",
              "    [theme=dark] .colab-df-convert {\n",
              "      background-color: #3B4455;\n",
              "      fill: #D2E3FC;\n",
              "    }\n",
              "\n",
              "    [theme=dark] .colab-df-convert:hover {\n",
              "      background-color: #434B5C;\n",
              "      box-shadow: 0px 1px 3px 1px rgba(0, 0, 0, 0.15);\n",
              "      filter: drop-shadow(0px 1px 2px rgba(0, 0, 0, 0.3));\n",
              "      fill: #FFFFFF;\n",
              "    }\n",
              "  </style>\n",
              "\n",
              "      <script>\n",
              "        const buttonEl =\n",
              "          document.querySelector('#df-4f0dae61-7646-4f80-9539-7afa5b89cfe2 button.colab-df-convert');\n",
              "        buttonEl.style.display =\n",
              "          google.colab.kernel.accessAllowed ? 'block' : 'none';\n",
              "\n",
              "        async function convertToInteractive(key) {\n",
              "          const element = document.querySelector('#df-4f0dae61-7646-4f80-9539-7afa5b89cfe2');\n",
              "          const dataTable =\n",
              "            await google.colab.kernel.invokeFunction('convertToInteractive',\n",
              "                                                     [key], {});\n",
              "          if (!dataTable) return;\n",
              "\n",
              "          const docLinkHtml = 'Like what you see? Visit the ' +\n",
              "            '<a target=\"_blank\" href=https://colab.research.google.com/notebooks/data_table.ipynb>data table notebook</a>'\n",
              "            + ' to learn more about interactive tables.';\n",
              "          element.innerHTML = '';\n",
              "          dataTable['output_type'] = 'display_data';\n",
              "          await google.colab.output.renderOutput(dataTable, element);\n",
              "          const docLink = document.createElement('div');\n",
              "          docLink.innerHTML = docLinkHtml;\n",
              "          element.appendChild(docLink);\n",
              "        }\n",
              "      </script>\n",
              "    </div>\n",
              "  </div>\n",
              "  "
            ],
            "text/plain": [
              "   Store StoreType  ... Promo2SinceYear    PromoInterval\n",
              "0      1         c  ...             NaN              NaN\n",
              "1      2         a  ...          2010.0  Jan,Apr,Jul,Oct\n",
              "2      3         a  ...          2011.0  Jan,Apr,Jul,Oct\n",
              "3      4         c  ...             NaN              NaN\n",
              "4      5         a  ...             NaN              NaN\n",
              "\n",
              "[5 rows x 10 columns]"
            ]
          },
          "execution_count": 7,
          "metadata": {},
          "output_type": "execute_result"
        }
      ],
      "source": [
        "print(\"# of observations & # of features\", store.shape)\n",
        "store.head()"
      ]
    },
    {
      "cell_type": "code",
      "execution_count": null,
      "metadata": {
        "id": "u3n5nyKABszl"
      },
      "outputs": [],
      "source": [
        ""
      ]
    },
    {
      "cell_type": "markdown",
      "metadata": {
        "id": "uWuInZD4as4U"
      },
      "source": [
        "2.2 Dealing with Missing Values\n",
        "\n",
        "2.2.1 Count missing values in each dataset"
      ]
    },
    {
      "cell_type": "code",
      "execution_count": null,
      "metadata": {
        "colab": {
          "base_uri": "https://localhost:8080/"
        },
        "id": "j18Y0I24apGi",
        "outputId": "90f8a820-b9d6-4443-c808-ab4fec9d7002"
      },
      "outputs": [
        {
          "name": "stdout",
          "output_type": "stream",
          "text": [
            "rossmann dataset : \n",
            "Store            0\n",
            "DayOfWeek        0\n",
            "Sales            0\n",
            "Customers        0\n",
            "Open             0\n",
            "Promo            0\n",
            "StateHoliday     0\n",
            "SchoolHoliday    0\n",
            "dtype: int64\n",
            "\n",
            "\n",
            " Store: \n",
            "Store                          0\n",
            "StoreType                      0\n",
            "Assortment                     0\n",
            "CompetitionDistance            3\n",
            "CompetitionOpenSinceMonth    354\n",
            "CompetitionOpenSinceYear     354\n",
            "Promo2                         0\n",
            "Promo2SinceWeek              544\n",
            "Promo2SinceYear              544\n",
            "PromoInterval                544\n",
            "dtype: int64\n"
          ]
        }
      ],
      "source": [
        "print(f\"rossmann dataset : \\n{rossmann_df.isnull().sum()}\")\n",
        "print(f\"\\n\\n Store: \\n{store.isnull().sum()}\")"
      ]
    },
    {
      "cell_type": "markdown",
      "metadata": {
        "id": "TwcxrXA9bknt"
      },
      "source": [
        "**2.2.2 Remove features with high percentages of missing values**\n",
        "\n",
        "we can see that some features have a high percentage of missing values and they won't be accurate as indicators, so we will remove features with more than 30% missing values."
      ]
    },
    {
      "cell_type": "code",
      "execution_count": null,
      "metadata": {
        "id": "xNKrCIbvbevu"
      },
      "outputs": [],
      "source": [
        "# removing features\n",
        "store = store.drop(['CompetitionOpenSinceMonth', \n",
        "                    'CompetitionOpenSinceYear','Promo2SinceWeek',\n",
        "                     'Promo2SinceYear', 'PromoInterval'], axis=1)"
      ]
    },
    {
      "cell_type": "code",
      "execution_count": null,
      "metadata": {
        "colab": {
          "base_uri": "https://localhost:8080/",
          "height": 312
        },
        "id": "AhPOwWf6b8fT",
        "outputId": "d00bf59c-ea34-4622-9832-1b14427309cb"
      },
      "outputs": [
        {
          "data": {
            "text/plain": [
              "Text(0.5, 1.0, 'Distribution of Store Competition Distance')"
            ]
          },
          "execution_count": 10,
          "metadata": {},
          "output_type": "execute_result"
        },
        {
          "data": {
            "image/png": "[encoded data removed]",
            "text/plain": [
              "<Figure size 432x288 with 1 Axes>"
            ]
          },
          "metadata": {},
          "output_type": "display_data"
        }
      ],
      "source": [
        "# CompetitionDistance is distance in meters to the nearest competitor\n",
        "sns.distplot(store.CompetitionDistance.dropna())\n",
        "plt.title(\"Distribution of Store Competition Distance\")"
      ]
    },
    {
      "cell_type": "markdown",
      "metadata": {
        "id": "pq1ElSOtdtyj"
      },
      "source": [
        "**The distribution is right skewed, so we'll replace missing values with the median.**"
      ]
    },
    {
      "cell_type": "code",
      "execution_count": null,
      "metadata": {
        "id": "LQFuJgphdEs7"
      },
      "outputs": [],
      "source": [
        "# replace missing values in Competition Distance with median for the store dataset\n",
        "store.CompetitionDistance.fillna(store.CompetitionDistance.median(),inplace = True)"
      ]
    },
    {
      "cell_type": "markdown",
      "metadata": {
        "id": "lywJr3WCeUAi"
      },
      "source": [
        "**2.3 Data Extraction**"
      ]
    },
    {
      "cell_type": "code",
      "execution_count": null,
      "metadata": {
        "colab": {
          "base_uri": "https://localhost:8080/"
        },
        "id": "vMJEgomBeptp",
        "outputId": "df10731d-b8c8-4cc7-9a9e-456f6667f0c4"
      },
      "outputs": [
        {
          "data": {
            "text/plain": [
              "Index(['Store', 'DayOfWeek', 'Sales', 'Customers', 'Open', 'Promo',\n",
              "       'StateHoliday', 'SchoolHoliday'],\n",
              "      dtype='object')"
            ]
          },
          "execution_count": 12,
          "metadata": {},
          "output_type": "execute_result"
        }
      ],
      "source": [
        "rossmann_df.columns"
      ]
    },
    {
      "cell_type": "code",
      "execution_count": null,
      "metadata": {
        "id": "Cm12UkHWeQJo"
      },
      "outputs": [],
      "source": [
        "# extract year, month, day and week of year from 'Date\n",
        "rossmann_df['Year'] = rossmann_df.index.year\n",
        "rossmann_df['Month'] = rossmann_df.index.month\n",
        "rossmann_df['Day'] = rossmann_df.index.day\n",
        "rossmann_df['WeekOfYear'] = rossmann_df.index.weekofyear\n",
        "rossmann_df = rossmann_df.reset_index()"
      ]
    },
    {
      "cell_type": "markdown",
      "metadata": {
        "id": "xcoiEs7khCTR"
      },
      "source": [
        "**2.4  Joining Tables**"
      ]
    },
    {
      "cell_type": "code",
      "execution_count": null,
      "metadata": {
        "colab": {
          "base_uri": "https://localhost:8080/",
          "height": 644
        },
        "id": "3gc42JfZg7d_",
        "outputId": "4d5cb5cd-6893-4680-bc9e-ea962ca76f91"
      },
      "outputs": [
        {
          "data": {
            "text/html": [
              "\n",
              "  <div id=\"df-6a41998c-d9b3-4e90-ae53-57d46dbcfbcc\">\n",
              "    <div class=\"colab-df-container\">\n",
              "      <div>\n",
              "<style scoped>\n",
              "    .dataframe tbody tr th:only-of-type {\n",
              "        vertical-align: middle;\n",
              "    }\n",
              "\n",
              "    .dataframe tbody tr th {\n",
              "        vertical-align: top;\n",
              "    }\n",
              "\n",
              "    .dataframe thead th {\n",
              "        text-align: right;\n",
              "    }\n",
              "</style>\n",
              "<table border=\"1\" class=\"dataframe\">\n",
              "  <thead>\n",
              "    <tr style=\"text-align: right;\">\n",
              "      <th></th>\n",
              "      <th>0</th>\n",
              "      <th>1</th>\n",
              "      <th>2</th>\n",
              "      <th>3</th>\n",
              "      <th>4</th>\n",
              "    </tr>\n",
              "  </thead>\n",
              "  <tbody>\n",
              "    <tr>\n",
              "      <th>Date</th>\n",
              "      <td>2015-07-31 00:00:00</td>\n",
              "      <td>2015-07-31 00:00:00</td>\n",
              "      <td>2015-07-31 00:00:00</td>\n",
              "      <td>2015-07-31 00:00:00</td>\n",
              "      <td>2015-07-31 00:00:00</td>\n",
              "    </tr>\n",
              "    <tr>\n",
              "      <th>Store</th>\n",
              "      <td>1</td>\n",
              "      <td>2</td>\n",
              "      <td>3</td>\n",
              "      <td>4</td>\n",
              "      <td>5</td>\n",
              "    </tr>\n",
              "    <tr>\n",
              "      <th>DayOfWeek</th>\n",
              "      <td>5</td>\n",
              "      <td>5</td>\n",
              "      <td>5</td>\n",
              "      <td>5</td>\n",
              "      <td>5</td>\n",
              "    </tr>\n",
              "    <tr>\n",
              "      <th>Sales</th>\n",
              "      <td>5263</td>\n",
              "      <td>6064</td>\n",
              "      <td>8314</td>\n",
              "      <td>13995</td>\n",
              "      <td>4822</td>\n",
              "    </tr>\n",
              "    <tr>\n",
              "      <th>Customers</th>\n",
              "      <td>555</td>\n",
              "      <td>625</td>\n",
              "      <td>821</td>\n",
              "      <td>1498</td>\n",
              "      <td>559</td>\n",
              "    </tr>\n",
              "    <tr>\n",
              "      <th>Open</th>\n",
              "      <td>1</td>\n",
              "      <td>1</td>\n",
              "      <td>1</td>\n",
              "      <td>1</td>\n",
              "      <td>1</td>\n",
              "    </tr>\n",
              "    <tr>\n",
              "      <th>Promo</th>\n",
              "      <td>1</td>\n",
              "      <td>1</td>\n",
              "      <td>1</td>\n",
              "      <td>1</td>\n",
              "      <td>1</td>\n",
              "    </tr>\n",
              "    <tr>\n",
              "      <th>StateHoliday</th>\n",
              "      <td>0</td>\n",
              "      <td>0</td>\n",
              "      <td>0</td>\n",
              "      <td>0</td>\n",
              "      <td>0</td>\n",
              "    </tr>\n",
              "    <tr>\n",
              "      <th>SchoolHoliday</th>\n",
              "      <td>1</td>\n",
              "      <td>1</td>\n",
              "      <td>1</td>\n",
              "      <td>1</td>\n",
              "      <td>1</td>\n",
              "    </tr>\n",
              "    <tr>\n",
              "      <th>Year</th>\n",
              "      <td>2015</td>\n",
              "      <td>2015</td>\n",
              "      <td>2015</td>\n",
              "      <td>2015</td>\n",
              "      <td>2015</td>\n",
              "    </tr>\n",
              "    <tr>\n",
              "      <th>Month</th>\n",
              "      <td>7</td>\n",
              "      <td>7</td>\n",
              "      <td>7</td>\n",
              "      <td>7</td>\n",
              "      <td>7</td>\n",
              "    </tr>\n",
              "    <tr>\n",
              "      <th>Day</th>\n",
              "      <td>31</td>\n",
              "      <td>31</td>\n",
              "      <td>31</td>\n",
              "      <td>31</td>\n",
              "      <td>31</td>\n",
              "    </tr>\n",
              "    <tr>\n",
              "      <th>WeekOfYear</th>\n",
              "      <td>31</td>\n",
              "      <td>31</td>\n",
              "      <td>31</td>\n",
              "      <td>31</td>\n",
              "      <td>31</td>\n",
              "    </tr>\n",
              "    <tr>\n",
              "      <th>StoreType</th>\n",
              "      <td>c</td>\n",
              "      <td>a</td>\n",
              "      <td>a</td>\n",
              "      <td>c</td>\n",
              "      <td>a</td>\n",
              "    </tr>\n",
              "    <tr>\n",
              "      <th>Assortment</th>\n",
              "      <td>a</td>\n",
              "      <td>a</td>\n",
              "      <td>a</td>\n",
              "      <td>c</td>\n",
              "      <td>a</td>\n",
              "    </tr>\n",
              "    <tr>\n",
              "      <th>CompetitionDistance</th>\n",
              "      <td>1270.0</td>\n",
              "      <td>570.0</td>\n",
              "      <td>14130.0</td>\n",
              "      <td>620.0</td>\n",
              "      <td>29910.0</td>\n",
              "    </tr>\n",
              "    <tr>\n",
              "      <th>Promo2</th>\n",
              "      <td>0</td>\n",
              "      <td>1</td>\n",
              "      <td>1</td>\n",
              "      <td>0</td>\n",
              "      <td>0</td>\n",
              "    </tr>\n",
              "  </tbody>\n",
              "</table>\n",
              "</div>\n",
              "      <button class=\"colab-df-convert\" onclick=\"convertToInteractive('df-6a41998c-d9b3-4e90-ae53-57d46dbcfbcc')\"\n",
              "              title=\"Convert this dataframe to an interactive table.\"\n",
              "              style=\"display:none;\">\n",
              "        \n",
              "  <svg xmlns=\"http://www.w3.org/2000/svg\" height=\"24px\"viewBox=\"0 0 24 24\"\n",
              "       width=\"24px\">\n",
              "    <path d=\"M0 0h24v24H0V0z\" fill=\"none\"/>\n",
              "    <path d=\"M18.56 5.44l.94 2.06.94-2.06 2.06-.94-2.06-.94-.94-2.06-.94 2.06-2.06.94zm-11 1L8.5 8.5l.94-2.06 2.06-.94-2.06-.94L8.5 2.5l-.94 2.06-2.06.94zm10 10l.94 2.06.94-2.06 2.06-.94-2.06-.94-.94-2.06-.94 2.06-2.06.94z\"/><path d=\"M17.41 7.96l-1.37-1.37c-.4-.4-.92-.59-1.43-.59-.52 0-1.04.2-1.43.59L10.3 9.45l-7.72 7.72c-.78.78-.78 2.05 0 2.83L4 21.41c.39.39.9.59 1.41.59.51 0 1.02-.2 1.41-.59l7.78-7.78 2.81-2.81c.8-.78.8-2.07 0-2.86zM5.41 20L4 18.59l7.72-7.72 1.47 1.35L5.41 20z\"/>\n",
              "  </svg>\n",
              "      </button>\n",
              "      \n",
              "  <style>\n",
              "    .colab-df-container {\n",
              "      display:flex;\n",
              "      flex-wrap:wrap;\n",
              "      gap: 12px;\n",
              "    }\n",
              "\n",
              "    .colab-df-convert {\n",
              "      background-color: #E8F0FE;\n",
              "      border: none;\n",
              "      border-radius: 50%;\n",
              "      cursor: pointer;\n",
              "      display: none;\n",
              "      fill: #1967D2;\n",
              "      height: 32px;\n",
              "      padding: 0 0 0 0;\n",
              "      width: 32px;\n",
              "    }\n",
              "\n",
              "    .colab-df-convert:hover {\n",
              "      background-color: #E2EBFA;\n",
              "      box-shadow: 0px 1px 2px rgba(60, 64, 67, 0.3), 0px 1px 3px 1px rgba(60, 64, 67, 0.15);\n",
              "      fill: #174EA6;\n",
              "    }\n",
              "\n",
              "    [theme=dark] .colab-df-convert {\n",
              "      background-color: #3B4455;\n",
              "      fill: #D2E3FC;\n",
              "    }\n",
              "\n",
              "    [theme=dark] .colab-df-convert:hover {\n",
              "      background-color: #434B5C;\n",
              "      box-shadow: 0px 1px 3px 1px rgba(0, 0, 0, 0.15);\n",
              "      filter: drop-shadow(0px 1px 2px rgba(0, 0, 0, 0.3));\n",
              "      fill: #FFFFFF;\n",
              "    }\n",
              "  </style>\n",
              "\n",
              "      <script>\n",
              "        const buttonEl =\n",
              "          document.querySelector('#df-6a41998c-d9b3-4e90-ae53-57d46dbcfbcc button.colab-df-convert');\n",
              "        buttonEl.style.display =\n",
              "          google.colab.kernel.accessAllowed ? 'block' : 'none';\n",
              "\n",
              "        async function convertToInteractive(key) {\n",
              "          const element = document.querySelector('#df-6a41998c-d9b3-4e90-ae53-57d46dbcfbcc');\n",
              "          const dataTable =\n",
              "            await google.colab.kernel.invokeFunction('convertToInteractive',\n",
              "                                                     [key], {});\n",
              "          if (!dataTable) return;\n",
              "\n",
              "          const docLinkHtml = 'Like what you see? Visit the ' +\n",
              "            '<a target=\"_blank\" href=https://colab.research.google.com/notebooks/data_table.ipynb>data table notebook</a>'\n",
              "            + ' to learn more about interactive tables.';\n",
              "          element.innerHTML = '';\n",
              "          dataTable['output_type'] = 'display_data';\n",
              "          await google.colab.output.renderOutput(dataTable, element);\n",
              "          const docLink = document.createElement('div');\n",
              "          docLink.innerHTML = docLinkHtml;\n",
              "          element.appendChild(docLink);\n",
              "        }\n",
              "      </script>\n",
              "    </div>\n",
              "  </div>\n",
              "  "
            ],
            "text/plain": [
              "                                       0  ...                    4\n",
              "Date                 2015-07-31 00:00:00  ...  2015-07-31 00:00:00\n",
              "Store                                  1  ...                    5\n",
              "DayOfWeek                              5  ...                    5\n",
              "Sales                               5263  ...                 4822\n",
              "Customers                            555  ...                  559\n",
              "Open                                   1  ...                    1\n",
              "Promo                                  1  ...                    1\n",
              "StateHoliday                           0  ...                    0\n",
              "SchoolHoliday                          1  ...                    1\n",
              "Year                                2015  ...                 2015\n",
              "Month                                  7  ...                    7\n",
              "Day                                   31  ...                   31\n",
              "WeekOfYear                            31  ...                   31\n",
              "StoreType                              c  ...                    a\n",
              "Assortment                             a  ...                    a\n",
              "CompetitionDistance               1270.0  ...              29910.0\n",
              "Promo2                                 0  ...                    0\n",
              "\n",
              "[17 rows x 5 columns]"
            ]
          },
          "execution_count": 14,
          "metadata": {},
          "output_type": "execute_result"
        }
      ],
      "source": [
        "# Joining the rossman dataset and store dataset\n",
        "df = pd.merge(rossmann_df,store,how = 'left',on = 'Store')\n",
        "df.head().T"
      ]
    },
    {
      "cell_type": "code",
      "execution_count": null,
      "metadata": {
        "colab": {
          "base_uri": "https://localhost:8080/"
        },
        "id": "sQcyOO8GhR3K",
        "outputId": "249cf8cc-0c49-4416-d259-66f9824a770d"
      },
      "outputs": [
        {
          "name": "stdout",
          "output_type": "stream",
          "text": [
            "The length of new dataframe is : 1017209\n"
          ]
        }
      ],
      "source": [
        "print(f'The length of new dataframe is : {len(df)}')"
      ]
    },
    {
      "cell_type": "markdown",
      "metadata": {
        "id": "0QDcwkouiGYX"
      },
      "source": [
        "**2.5 Drop Subsets of Data where might Cause Bias**"
      ]
    },
    {
      "cell_type": "code",
      "execution_count": null,
      "metadata": {
        "colab": {
          "base_uri": "https://localhost:8080/"
        },
        "id": "tU9FOE53vVR9",
        "outputId": "85e777a4-b3c1-44dd-c0e5-8c2e1b07fb6e"
      },
      "outputs": [
        {
          "data": {
            "text/plain": [
              "array([1, 0])"
            ]
          },
          "execution_count": 16,
          "metadata": {},
          "output_type": "execute_result"
        }
      ],
      "source": [
        "# Checking the unique value of 'Open' features\n",
        "df['Open'].unique()"
      ]
    },
    {
      "cell_type": "markdown",
      "metadata": {
        "id": "9N97oVb_yt-X"
      },
      "source": [
        "Here open has two variables \n",
        "* 0 ---- Store has Closed\n",
        "* 1 ---- Store has Oened"
      ]
    },
    {
      "cell_type": "code",
      "execution_count": null,
      "metadata": {
        "colab": {
          "base_uri": "https://localhost:8080/",
          "height": 173
        },
        "id": "pDZRK0g9zUZ8",
        "outputId": "55912902-ba1f-4b1b-d8a4-5c72d6ae455a"
      },
      "outputs": [
        {
          "data": {
            "text/plain": [
              "<matplotlib.axes._subplots.AxesSubplot at 0x7f10c9641690>"
            ]
          },
          "execution_count": 17,
          "metadata": {},
          "output_type": "execute_result"
        },
        {
          "data": {
            "image/png": "[encoded data removed]",
            "text/plain": [
              "<Figure size 1440x288 with 1 Axes>"
            ]
          },
          "metadata": {},
          "output_type": "display_data"
        }
      ],
      "source": [
        "fig, ax = plt.subplots(1,figsize=(20,4))\n",
        "sns.countplot(x='Open',hue='DayOfWeek', data=df, ax=ax)"
      ]
    },
    {
      "cell_type": "markdown",
      "metadata": {
        "id": "RhGcR7pF0OiY"
      },
      "source": [
        "The above graph creates a question how **stores are selling when they are closed**.\n",
        "So we will delete the rows which are closed.."
      ]
    },
    {
      "cell_type": "code",
      "execution_count": null,
      "metadata": {
        "id": "u2KUi3OdvycM"
      },
      "outputs": [],
      "source": [
        "# Selecting the store which are opened\n",
        "df = df[df['Open'] == 1]"
      ]
    },
    {
      "cell_type": "code",
      "execution_count": null,
      "metadata": {
        "id": "77CJ9KcwicyP"
      },
      "outputs": [],
      "source": [
        "# Now we can delete the features Open as it will create bias\n",
        "df = df.drop('Open',axis = 1)\n"
      ]
    },
    {
      "cell_type": "code",
      "execution_count": null,
      "metadata": {
        "colab": {
          "base_uri": "https://localhost:8080/",
          "height": 330
        },
        "id": "TeRNuifxijMu",
        "outputId": "91c31483-5299-49cc-edaf-b2f30370f48d"
      },
      "outputs": [
        {
          "name": "stdout",
          "output_type": "stream",
          "text": [
            "Total Number of store with zero sales : 54\n",
            "\n"
          ]
        },
        {
          "data": {
            "text/plain": [
              "<matplotlib.axes._subplots.AxesSubplot at 0x7f10c90be950>"
            ]
          },
          "execution_count": 20,
          "metadata": {},
          "output_type": "execute_result"
        },
        {
          "data": {
            "image/png": "[encoded data removed]",
            "text/plain": [
              "<Figure size 432x288 with 1 Axes>"
            ]
          },
          "metadata": {},
          "output_type": "display_data"
        }
      ],
      "source": [
        "#  Checking the store with zero sales\n",
        "zero_sales = df[df.Sales == 0]\n",
        "print(f'Total Number of store with zero sales : {len(zero_sales)}\\n')\n",
        "zero_sales['Sales'].plot()"
      ]
    },
    {
      "cell_type": "code",
      "execution_count": null,
      "metadata": {
        "colab": {
          "base_uri": "https://localhost:8080/"
        },
        "id": "PnJnoKCL5hSR",
        "outputId": "be9a1281-081c-42a4-ca57-5faf56648acf"
      },
      "outputs": [
        {
          "data": {
            "text/plain": [
              "count    844392.000000\n",
              "mean       6955.514291\n",
              "std        3104.214680\n",
              "min           0.000000\n",
              "25%        4859.000000\n",
              "50%        6369.000000\n",
              "75%        8360.000000\n",
              "max       41551.000000\n",
              "Name: Sales, dtype: float64"
            ]
          },
          "execution_count": 21,
          "metadata": {},
          "output_type": "execute_result"
        }
      ],
      "source": [
        "df.Sales.describe()"
      ]
    },
    {
      "cell_type": "code",
      "execution_count": null,
      "metadata": {
        "id": "pQbE4u545HYh"
      },
      "outputs": [],
      "source": [
        "#removing the data with zero sales|\n",
        "df.drop(df[ (df.Sales < 1)].index,inplace=True)"
      ]
    },
    {
      "cell_type": "code",
      "execution_count": null,
      "metadata": {
        "colab": {
          "base_uri": "https://localhost:8080/"
        },
        "id": "L1Hd3zyI7SRA",
        "outputId": "de8f2c58-6943-4603-aa9b-73e9aadc98b3"
      },
      "outputs": [
        {
          "name": "stdout",
          "output_type": "stream",
          "text": [
            "The length of new dataframe is : 844338\n"
          ]
        }
      ],
      "source": [
        "print(f'The length of new dataframe is : {len(df)}')"
      ]
    },
    {
      "cell_type": "markdown",
      "metadata": {
        "id": "3k9EJYD_jjKD"
      },
      "source": [
        "**2.6 Feature Engineering**"
      ]
    },
    {
      "cell_type": "code",
      "execution_count": null,
      "metadata": {
        "colab": {
          "base_uri": "https://localhost:8080/"
        },
        "id": "T-dUXV3vjcAP",
        "outputId": "c58ccc24-9af5-43f1-8bb8-da8557ad5b18"
      },
      "outputs": [
        {
          "name": "stdout",
          "output_type": "stream",
          "text": [
            "<class 'pandas.core.frame.DataFrame'>\n",
            "Int64Index: 844338 entries, 0 to 1017190\n",
            "Data columns (total 16 columns):\n",
            " #   Column               Non-Null Count   Dtype         \n",
            "---  ------               --------------   -----         \n",
            " 0   Date                 844338 non-null  datetime64[ns]\n",
            " 1   Store                844338 non-null  int64         \n",
            " 2   DayOfWeek            844338 non-null  int64         \n",
            " 3   Sales                844338 non-null  int64         \n",
            " 4   Customers            844338 non-null  int64         \n",
            " 5   Promo                844338 non-null  int64         \n",
            " 6   StateHoliday         844338 non-null  object        \n",
            " 7   SchoolHoliday        844338 non-null  int64         \n",
            " 8   Year                 844338 non-null  int64         \n",
            " 9   Month                844338 non-null  int64         \n",
            " 10  Day                  844338 non-null  int64         \n",
            " 11  WeekOfYear           844338 non-null  int64         \n",
            " 12  StoreType            844338 non-null  object        \n",
            " 13  Assortment           844338 non-null  object        \n",
            " 14  CompetitionDistance  844338 non-null  float64       \n",
            " 15  Promo2               844338 non-null  int64         \n",
            "dtypes: datetime64[ns](1), float64(1), int64(11), object(3)\n",
            "memory usage: 109.5+ MB\n"
          ]
        }
      ],
      "source": [
        "# Getting the information\n",
        "df.info()"
      ]
    },
    {
      "cell_type": "markdown",
      "metadata": {
        "id": "GdBLg1bTGlsr"
      },
      "source": [
        "**2.6.1 Categorical Data**\n",
        "\n",
        "We should not encoding we are using the random forest or the esemble learning algorithm. But we will be using other algotrithm also\n",
        "\n",
        "2.6.1.1   Nominal Variables\n",
        "\n"
      ]
    },
    {
      "cell_type": "code",
      "execution_count": null,
      "metadata": {
        "colab": {
          "base_uri": "https://localhost:8080/"
        },
        "id": "TOspNtcdjtpy",
        "outputId": "5f20bf89-fb65-4bbe-9c88-d7cfdb3165c5"
      },
      "outputs": [
        {
          "name": "stdout",
          "output_type": "stream",
          "text": [
            "StateHoliday\n",
            "['0' 'a' 'b' 'c' 0]\n",
            "-----------------------\n",
            "StoreType\n",
            "['c' 'a' 'd' 'b']\n",
            "-----------------------\n",
            "Assortment\n",
            "['a' 'c' 'b']\n",
            "-----------------------\n"
          ]
        }
      ],
      "source": [
        "#Categorical data \n",
        "li = li = df.select_dtypes(include=[\"object_\"])\n",
        "\n",
        "for i in li:\n",
        "  print(i)\n",
        "  print(df[i].unique())\n",
        "  print(\"-----------------------\")"
      ]
    },
    {
      "cell_type": "markdown",
      "metadata": {
        "id": "gA2I8qpn0T30"
      },
      "source": [
        "We can see there are two **0** with numerical and integer types.So we need to convert it to string."
      ]
    },
    {
      "cell_type": "code",
      "execution_count": null,
      "metadata": {
        "id": "4ODiNOA0nvLu"
      },
      "outputs": [],
      "source": [
        "df.dropna(inplace = True)"
      ]
    },
    {
      "cell_type": "code",
      "execution_count": null,
      "metadata": {
        "id": "4Oxep_qlqP9j"
      },
      "outputs": [],
      "source": [
        ""
      ]
    },
    {
      "cell_type": "code",
      "execution_count": null,
      "metadata": {
        "id": "_25wfoDI0H2c"
      },
      "outputs": [],
      "source": [
        "#converting to string type\n",
        "df.loc[df.StateHoliday == 0,'StateHoliday'] = df.loc[df.StateHoliday == 0,'StateHoliday'].astype(str)"
      ]
    },
    {
      "cell_type": "code",
      "execution_count": null,
      "metadata": {
        "colab": {
          "base_uri": "https://localhost:8080/"
        },
        "id": "yhhkVlNO0_xc",
        "outputId": "c3875d67-5dcf-4576-f797-83b30b6f6f18"
      },
      "outputs": [
        {
          "data": {
            "text/plain": [
              "{'0', 'a', 'b', 'c'}"
            ]
          },
          "execution_count": 28,
          "metadata": {},
          "output_type": "execute_result"
        }
      ],
      "source": [
        "#Check again\n",
        "set(df.StateHoliday)"
      ]
    },
    {
      "cell_type": "code",
      "execution_count": null,
      "metadata": {
        "id": "qRXqR-_YlXAQ"
      },
      "outputs": [],
      "source": [
        "df = pd.get_dummies(df,drop_first = True)"
      ]
    },
    {
      "cell_type": "code",
      "execution_count": null,
      "metadata": {
        "colab": {
          "base_uri": "https://localhost:8080/",
          "height": 357
        },
        "id": "4zOpZH8aKwSj",
        "outputId": "24a2b1be-0e4d-43db-b5a2-99b9120dbcf3"
      },
      "outputs": [
        {
          "data": {
            "text/html": [
              "\n",
              "  <div id=\"df-70a17ed0-6b99-48a8-9ae2-aa3292fbf7c8\">\n",
              "    <div class=\"colab-df-container\">\n",
              "      <div>\n",
              "<style scoped>\n",
              "    .dataframe tbody tr th:only-of-type {\n",
              "        vertical-align: middle;\n",
              "    }\n",
              "\n",
              "    .dataframe tbody tr th {\n",
              "        vertical-align: top;\n",
              "    }\n",
              "\n",
              "    .dataframe thead th {\n",
              "        text-align: right;\n",
              "    }\n",
              "</style>\n",
              "<table border=\"1\" class=\"dataframe\">\n",
              "  <thead>\n",
              "    <tr style=\"text-align: right;\">\n",
              "      <th></th>\n",
              "      <th>Date</th>\n",
              "      <th>Store</th>\n",
              "      <th>DayOfWeek</th>\n",
              "      <th>Sales</th>\n",
              "      <th>Customers</th>\n",
              "      <th>Promo</th>\n",
              "      <th>SchoolHoliday</th>\n",
              "      <th>Year</th>\n",
              "      <th>Month</th>\n",
              "      <th>Day</th>\n",
              "      <th>WeekOfYear</th>\n",
              "      <th>CompetitionDistance</th>\n",
              "      <th>Promo2</th>\n",
              "      <th>StateHoliday_a</th>\n",
              "      <th>StateHoliday_b</th>\n",
              "      <th>StateHoliday_c</th>\n",
              "      <th>StoreType_b</th>\n",
              "      <th>StoreType_c</th>\n",
              "      <th>StoreType_d</th>\n",
              "      <th>Assortment_b</th>\n",
              "      <th>Assortment_c</th>\n",
              "    </tr>\n",
              "  </thead>\n",
              "  <tbody>\n",
              "    <tr>\n",
              "      <th>0</th>\n",
              "      <td>2015-07-31</td>\n",
              "      <td>1</td>\n",
              "      <td>5</td>\n",
              "      <td>5263</td>\n",
              "      <td>555</td>\n",
              "      <td>1</td>\n",
              "      <td>1</td>\n",
              "      <td>2015</td>\n",
              "      <td>7</td>\n",
              "      <td>31</td>\n",
              "      <td>31</td>\n",
              "      <td>1270.0</td>\n",
              "      <td>0</td>\n",
              "      <td>0</td>\n",
              "      <td>0</td>\n",
              "      <td>0</td>\n",
              "      <td>0</td>\n",
              "      <td>1</td>\n",
              "      <td>0</td>\n",
              "      <td>0</td>\n",
              "      <td>0</td>\n",
              "    </tr>\n",
              "    <tr>\n",
              "      <th>1</th>\n",
              "      <td>2015-07-31</td>\n",
              "      <td>2</td>\n",
              "      <td>5</td>\n",
              "      <td>6064</td>\n",
              "      <td>625</td>\n",
              "      <td>1</td>\n",
              "      <td>1</td>\n",
              "      <td>2015</td>\n",
              "      <td>7</td>\n",
              "      <td>31</td>\n",
              "      <td>31</td>\n",
              "      <td>570.0</td>\n",
              "      <td>1</td>\n",
              "      <td>0</td>\n",
              "      <td>0</td>\n",
              "      <td>0</td>\n",
              "      <td>0</td>\n",
              "      <td>0</td>\n",
              "      <td>0</td>\n",
              "      <td>0</td>\n",
              "      <td>0</td>\n",
              "    </tr>\n",
              "    <tr>\n",
              "      <th>2</th>\n",
              "      <td>2015-07-31</td>\n",
              "      <td>3</td>\n",
              "      <td>5</td>\n",
              "      <td>8314</td>\n",
              "      <td>821</td>\n",
              "      <td>1</td>\n",
              "      <td>1</td>\n",
              "      <td>2015</td>\n",
              "      <td>7</td>\n",
              "      <td>31</td>\n",
              "      <td>31</td>\n",
              "      <td>14130.0</td>\n",
              "      <td>1</td>\n",
              "      <td>0</td>\n",
              "      <td>0</td>\n",
              "      <td>0</td>\n",
              "      <td>0</td>\n",
              "      <td>0</td>\n",
              "      <td>0</td>\n",
              "      <td>0</td>\n",
              "      <td>0</td>\n",
              "    </tr>\n",
              "    <tr>\n",
              "      <th>3</th>\n",
              "      <td>2015-07-31</td>\n",
              "      <td>4</td>\n",
              "      <td>5</td>\n",
              "      <td>13995</td>\n",
              "      <td>1498</td>\n",
              "      <td>1</td>\n",
              "      <td>1</td>\n",
              "      <td>2015</td>\n",
              "      <td>7</td>\n",
              "      <td>31</td>\n",
              "      <td>31</td>\n",
              "      <td>620.0</td>\n",
              "      <td>0</td>\n",
              "      <td>0</td>\n",
              "      <td>0</td>\n",
              "      <td>0</td>\n",
              "      <td>0</td>\n",
              "      <td>1</td>\n",
              "      <td>0</td>\n",
              "      <td>0</td>\n",
              "      <td>1</td>\n",
              "    </tr>\n",
              "    <tr>\n",
              "      <th>4</th>\n",
              "      <td>2015-07-31</td>\n",
              "      <td>5</td>\n",
              "      <td>5</td>\n",
              "      <td>4822</td>\n",
              "      <td>559</td>\n",
              "      <td>1</td>\n",
              "      <td>1</td>\n",
              "      <td>2015</td>\n",
              "      <td>7</td>\n",
              "      <td>31</td>\n",
              "      <td>31</td>\n",
              "      <td>29910.0</td>\n",
              "      <td>0</td>\n",
              "      <td>0</td>\n",
              "      <td>0</td>\n",
              "      <td>0</td>\n",
              "      <td>0</td>\n",
              "      <td>0</td>\n",
              "      <td>0</td>\n",
              "      <td>0</td>\n",
              "      <td>0</td>\n",
              "    </tr>\n",
              "  </tbody>\n",
              "</table>\n",
              "</div>\n",
              "      <button class=\"colab-df-convert\" onclick=\"convertToInteractive('df-70a17ed0-6b99-48a8-9ae2-aa3292fbf7c8')\"\n",
              "              title=\"Convert this dataframe to an interactive table.\"\n",
              "              style=\"display:none;\">\n",
              "        \n",
              "  <svg xmlns=\"http://www.w3.org/2000/svg\" height=\"24px\"viewBox=\"0 0 24 24\"\n",
              "       width=\"24px\">\n",
              "    <path d=\"M0 0h24v24H0V0z\" fill=\"none\"/>\n",
              "    <path d=\"M18.56 5.44l.94 2.06.94-2.06 2.06-.94-2.06-.94-.94-2.06-.94 2.06-2.06.94zm-11 1L8.5 8.5l.94-2.06 2.06-.94-2.06-.94L8.5 2.5l-.94 2.06-2.06.94zm10 10l.94 2.06.94-2.06 2.06-.94-2.06-.94-.94-2.06-.94 2.06-2.06.94z\"/><path d=\"M17.41 7.96l-1.37-1.37c-.4-.4-.92-.59-1.43-.59-.52 0-1.04.2-1.43.59L10.3 9.45l-7.72 7.72c-.78.78-.78 2.05 0 2.83L4 21.41c.39.39.9.59 1.41.59.51 0 1.02-.2 1.41-.59l7.78-7.78 2.81-2.81c.8-.78.8-2.07 0-2.86zM5.41 20L4 18.59l7.72-7.72 1.47 1.35L5.41 20z\"/>\n",
              "  </svg>\n",
              "      </button>\n",
              "      \n",
              "  <style>\n",
              "    .colab-df-container {\n",
              "      display:flex;\n",
              "      flex-wrap:wrap;\n",
              "      gap: 12px;\n",
              "    }\n",
              "\n",
              "    .colab-df-convert {\n",
              "      background-color: #E8F0FE;\n",
              "      border: none;\n",
              "      border-radius: 50%;\n",
              "      cursor: pointer;\n",
              "      display: none;\n",
              "      fill: #1967D2;\n",
              "      height: 32px;\n",
              "      padding: 0 0 0 0;\n",
              "      width: 32px;\n",
              "    }\n",
              "\n",
              "    .colab-df-convert:hover {\n",
              "      background-color: #E2EBFA;\n",
              "      box-shadow: 0px 1px 2px rgba(60, 64, 67, 0.3), 0px 1px 3px 1px rgba(60, 64, 67, 0.15);\n",
              "      fill: #174EA6;\n",
              "    }\n",
              "\n",
              "    [theme=dark] .colab-df-convert {\n",
              "      background-color: #3B4455;\n",
              "      fill: #D2E3FC;\n",
              "    }\n",
              "\n",
              "    [theme=dark] .colab-df-convert:hover {\n",
              "      background-color: #434B5C;\n",
              "      box-shadow: 0px 1px 3px 1px rgba(0, 0, 0, 0.15);\n",
              "      filter: drop-shadow(0px 1px 2px rgba(0, 0, 0, 0.3));\n",
              "      fill: #FFFFFF;\n",
              "    }\n",
              "  </style>\n",
              "\n",
              "      <script>\n",
              "        const buttonEl =\n",
              "          document.querySelector('#df-70a17ed0-6b99-48a8-9ae2-aa3292fbf7c8 button.colab-df-convert');\n",
              "        buttonEl.style.display =\n",
              "          google.colab.kernel.accessAllowed ? 'block' : 'none';\n",
              "\n",
              "        async function convertToInteractive(key) {\n",
              "          const element = document.querySelector('#df-70a17ed0-6b99-48a8-9ae2-aa3292fbf7c8');\n",
              "          const dataTable =\n",
              "            await google.colab.kernel.invokeFunction('convertToInteractive',\n",
              "                                                     [key], {});\n",
              "          if (!dataTable) return;\n",
              "\n",
              "          const docLinkHtml = 'Like what you see? Visit the ' +\n",
              "            '<a target=\"_blank\" href=https://colab.research.google.com/notebooks/data_table.ipynb>data table notebook</a>'\n",
              "            + ' to learn more about interactive tables.';\n",
              "          element.innerHTML = '';\n",
              "          dataTable['output_type'] = 'display_data';\n",
              "          await google.colab.output.renderOutput(dataTable, element);\n",
              "          const docLink = document.createElement('div');\n",
              "          docLink.innerHTML = docLinkHtml;\n",
              "          element.appendChild(docLink);\n",
              "        }\n",
              "      </script>\n",
              "    </div>\n",
              "  </div>\n",
              "  "
            ],
            "text/plain": [
              "        Date  Store  DayOfWeek  ...  StoreType_d  Assortment_b  Assortment_c\n",
              "0 2015-07-31      1          5  ...            0             0             0\n",
              "1 2015-07-31      2          5  ...            0             0             0\n",
              "2 2015-07-31      3          5  ...            0             0             0\n",
              "3 2015-07-31      4          5  ...            0             0             1\n",
              "4 2015-07-31      5          5  ...            0             0             0\n",
              "\n",
              "[5 rows x 21 columns]"
            ]
          },
          "execution_count": 30,
          "metadata": {},
          "output_type": "execute_result"
        }
      ],
      "source": [
        "df.head()"
      ]
    },
    {
      "cell_type": "markdown",
      "metadata": {
        "id": "gk0g3sTwtTXj"
      },
      "source": [
        "### **3.Exploratory Data Analysis**"
      ]
    },
    {
      "cell_type": "code",
      "execution_count": null,
      "metadata": {
        "colab": {
          "base_uri": "https://localhost:8080/",
          "height": 459
        },
        "id": "mt0TTqiryb_9",
        "outputId": "16a683fa-af10-4d21-a8e1-f7255587f924"
      },
      "outputs": [
        {
          "data": {
            "text/plain": [
              "<matplotlib.axes._subplots.AxesSubplot at 0x7f10c903ba90>"
            ]
          },
          "execution_count": 31,
          "metadata": {},
          "output_type": "execute_result"
        },
        {
          "data": {
            "image/png": "[encoded data removed]",
            "text/plain": [
              "<Figure size 504x504 with 1 Axes>"
            ]
          },
          "metadata": {},
          "output_type": "display_data"
        }
      ],
      "source": [
        "plt.figure(figsize=(7,7))\n",
        "sns.distplot(df['Sales'])"
      ]
    },
    {
      "cell_type": "markdown",
      "metadata": {
        "id": "libjBTYEyqw4"
      },
      "source": [
        "Data is slightly right skewed"
      ]
    },
    {
      "cell_type": "code",
      "execution_count": null,
      "metadata": {
        "colab": {
          "base_uri": "https://localhost:8080/",
          "height": 459
        },
        "id": "Hy_29ASDyz7F",
        "outputId": "a60863e0-f2eb-4b14-b3eb-13d33b396688"
      },
      "outputs": [
        {
          "data": {
            "text/plain": [
              "<matplotlib.axes._subplots.AxesSubplot at 0x7f10c8f1a8d0>"
            ]
          },
          "execution_count": 32,
          "metadata": {},
          "output_type": "execute_result"
        },
        {
          "data": {
            "image/png": "[encoded data removed]",
            "text/plain": [
              "<Figure size 504x504 with 1 Axes>"
            ]
          },
          "metadata": {},
          "output_type": "display_data"
        }
      ],
      "source": [
        "# Dependent variable 'Price'\n",
        "plt.figure(figsize=(7,7))\n",
        "sns.distplot(np.log10(df['Sales']),color=\"y\")"
      ]
    },
    {
      "cell_type": "markdown",
      "metadata": {
        "id": "QEXpZgHjzQva"
      },
      "source": [
        "Even after taking log it really doesnt makes any changes."
      ]
    },
    {
      "cell_type": "code",
      "execution_count": null,
      "metadata": {
        "colab": {
          "base_uri": "https://localhost:8080/",
          "height": 437
        },
        "id": "m46SHWq30gdT",
        "outputId": "1dafe2cc-1cbe-4aee-bef3-bcaa7744e31a"
      },
      "outputs": [
        {
          "data": {
            "text/plain": [
              "<matplotlib.axes._subplots.AxesSubplot at 0x7f10cbff42d0>"
            ]
          },
          "execution_count": 33,
          "metadata": {},
          "output_type": "execute_result"
        },
        {
          "data": {
            "image/png": "[encoded data removed]",
            "text/plain": [
              "<Figure size 1080x576 with 2 Axes>"
            ]
          },
          "metadata": {},
          "output_type": "display_data"
        }
      ],
      "source": [
        " ## Correlation\n",
        "plt.figure(figsize=(15,8))\n",
        "correlation = df.corr()\n",
        "sns.heatmap(abs(correlation), annot=True, cmap='coolwarm')"
      ]
    },
    {
      "cell_type": "markdown",
      "metadata": {
        "id": "IO_tK1yi0wbr"
      },
      "source": [
        "Some of the features have Multi-colinearity with each other.So we need to remove it.But it is not necessary for the CART or esemble learning i.e xgboost,random forest"
      ]
    },
    {
      "cell_type": "code",
      "execution_count": null,
      "metadata": {
        "id": "X1PmuAGW3OAB"
      },
      "outputs": [],
      "source": [
        "df_m = df.copy()"
      ]
    },
    {
      "cell_type": "code",
      "execution_count": null,
      "metadata": {
        "id": "z6SKnuWB3gtB"
      },
      "outputs": [],
      "source": [
        "df.drop(['StoreType_b','WeekOfYear'],inplace = True,axis = 1)"
      ]
    },
    {
      "cell_type": "code",
      "execution_count": null,
      "metadata": {
        "colab": {
          "base_uri": "https://localhost:8080/",
          "height": 437
        },
        "id": "8EDiDW7H4siM",
        "outputId": "54f9966b-86b9-42ac-ba67-bfca53d2a51d"
      },
      "outputs": [
        {
          "data": {
            "text/plain": [
              "<matplotlib.axes._subplots.AxesSubplot at 0x7f10c8bc0210>"
            ]
          },
          "execution_count": 36,
          "metadata": {},
          "output_type": "execute_result"
        },
        {
          "data": {
            "image/png": "[encoded data removed]",
            "text/plain": [
              "<Figure size 1080x576 with 2 Axes>"
            ]
          },
          "metadata": {},
          "output_type": "display_data"
        }
      ],
      "source": [
        " ## Correlation\n",
        "plt.figure(figsize=(15,8))\n",
        "correlation = df.corr()\n",
        "sns.heatmap(abs(correlation), annot=True, cmap='coolwarm')"
      ]
    },
    {
      "cell_type": "markdown",
      "metadata": {
        "id": "TZ8LNIUKxaLU"
      },
      "source": [
        "3.12 Pair Plot"
      ]
    },
    {
      "cell_type": "markdown",
      "metadata": {
        "id": "nBwr52akxfYX"
      },
      "source": [
        "### 4. Sales Prediction Through Different Machine learning"
      ]
    },
    {
      "cell_type": "code",
      "execution_count": null,
      "metadata": {
        "id": "jLkvynBeDhQK"
      },
      "outputs": [],
      "source": [
        "df1 = df.drop(['Date','Store'], axis = 1)"
      ]
    },
    {
      "cell_type": "code",
      "execution_count": null,
      "metadata": {
        "id": "irarJDH7-cWm"
      },
      "outputs": [],
      "source": [
        "# Taking the sample of 50000\n",
        "sample_df = df1.sample(n=50000, random_state=1)"
      ]
    },
    {
      "cell_type": "code",
      "execution_count": null,
      "metadata": {
        "id": "y7GTZaMe0AVG"
      },
      "outputs": [],
      "source": [
        "# Dividing the dataset into dependent variables and independent variablesY\n",
        "y = sample_df['Sales']\n",
        "X = sample_df.drop(['Sales'],axis = 1)"
      ]
    },
    {
      "cell_type": "code",
      "execution_count": null,
      "metadata": {
        "colab": {
          "base_uri": "https://localhost:8080/"
        },
        "id": "l8ai-w-JOnP6",
        "outputId": "1e475d98-72f2-4718-c190-cb5d25c55364"
      },
      "outputs": [
        {
          "data": {
            "text/plain": [
              "418874     4116\n",
              "355293     2277\n",
              "874715     8336\n",
              "379691    10274\n",
              "111794     4294\n",
              "          ...  \n",
              "256374     8458\n",
              "446862     8178\n",
              "927314     4023\n",
              "80889      4653\n",
              "452149     7987\n",
              "Name: Sales, Length: 50000, dtype: int64"
            ]
          },
          "execution_count": 40,
          "metadata": {},
          "output_type": "execute_result"
        }
      ],
      "source": [
        "y"
      ]
    },
    {
      "cell_type": "code",
      "execution_count": null,
      "metadata": {
        "id": "rR3t-RT-7OPG"
      },
      "outputs": [],
      "source": [
        "#pip install scikit-optimize"
      ]
    },
    {
      "cell_type": "code",
      "execution_count": null,
      "metadata": {
        "id": "mWkAzcoI6lKt"
      },
      "outputs": [],
      "source": [
        "from sklearn.model_selection import train_test_split\n",
        "from sklearn.linear_model import LinearRegression\n",
        "from sklearn.preprocessing import OneHotEncoder\n",
        "from sklearn.model_selection import GridSearchCV\n",
        "from sklearn.model_selection import RandomizedSearchCV\n",
        "from sklearn.model_selection import train_test_split\n",
        "#from skopt import BayesSearchCV\n",
        "#from skopt.space import Real,Categorical,Integer\n",
        "from sklearn import ensemble\n",
        "from sklearn.preprocessing import MinMaxScaler\n",
        "from sklearn.metrics import r2_score\n",
        "from sklearn.metrics import mean_squared_error as mse\n",
        "from math import sqrt\n",
        "from sklearn.metrics import mean_absolute_percentage_error as mape\n"
      ]
    },
    {
      "cell_type": "code",
      "execution_count": null,
      "metadata": {
        "colab": {
          "base_uri": "https://localhost:8080/",
          "height": 270
        },
        "id": "98Lbgz1h_Aon",
        "outputId": "9642a985-69b0-4d20-ac68-981f52481845"
      },
      "outputs": [
        {
          "data": {
            "text/html": [
              "\n",
              "  <div id=\"df-c3f6f771-e745-45b1-9da1-0439a0c226ca\">\n",
              "    <div class=\"colab-df-container\">\n",
              "      <div>\n",
              "<style scoped>\n",
              "    .dataframe tbody tr th:only-of-type {\n",
              "        vertical-align: middle;\n",
              "    }\n",
              "\n",
              "    .dataframe tbody tr th {\n",
              "        vertical-align: top;\n",
              "    }\n",
              "\n",
              "    .dataframe thead th {\n",
              "        text-align: right;\n",
              "    }\n",
              "</style>\n",
              "<table border=\"1\" class=\"dataframe\">\n",
              "  <thead>\n",
              "    <tr style=\"text-align: right;\">\n",
              "      <th></th>\n",
              "      <th>DayOfWeek</th>\n",
              "      <th>Customers</th>\n",
              "      <th>Promo</th>\n",
              "      <th>SchoolHoliday</th>\n",
              "      <th>Year</th>\n",
              "      <th>Month</th>\n",
              "      <th>Day</th>\n",
              "      <th>CompetitionDistance</th>\n",
              "      <th>Promo2</th>\n",
              "      <th>StateHoliday_a</th>\n",
              "      <th>StateHoliday_b</th>\n",
              "      <th>StateHoliday_c</th>\n",
              "      <th>StoreType_c</th>\n",
              "      <th>StoreType_d</th>\n",
              "      <th>Assortment_b</th>\n",
              "      <th>Assortment_c</th>\n",
              "    </tr>\n",
              "  </thead>\n",
              "  <tbody>\n",
              "    <tr>\n",
              "      <th>418874</th>\n",
              "      <td>6</td>\n",
              "      <td>369</td>\n",
              "      <td>0</td>\n",
              "      <td>0</td>\n",
              "      <td>2014</td>\n",
              "      <td>6</td>\n",
              "      <td>21</td>\n",
              "      <td>250.0</td>\n",
              "      <td>1</td>\n",
              "      <td>0</td>\n",
              "      <td>0</td>\n",
              "      <td>0</td>\n",
              "      <td>0</td>\n",
              "      <td>1</td>\n",
              "      <td>0</td>\n",
              "      <td>1</td>\n",
              "    </tr>\n",
              "    <tr>\n",
              "      <th>355293</th>\n",
              "      <td>2</td>\n",
              "      <td>224</td>\n",
              "      <td>0</td>\n",
              "      <td>1</td>\n",
              "      <td>2014</td>\n",
              "      <td>8</td>\n",
              "      <td>26</td>\n",
              "      <td>970.0</td>\n",
              "      <td>1</td>\n",
              "      <td>0</td>\n",
              "      <td>0</td>\n",
              "      <td>0</td>\n",
              "      <td>0</td>\n",
              "      <td>1</td>\n",
              "      <td>0</td>\n",
              "      <td>0</td>\n",
              "    </tr>\n",
              "    <tr>\n",
              "      <th>874715</th>\n",
              "      <td>3</td>\n",
              "      <td>828</td>\n",
              "      <td>0</td>\n",
              "      <td>0</td>\n",
              "      <td>2013</td>\n",
              "      <td>5</td>\n",
              "      <td>8</td>\n",
              "      <td>450.0</td>\n",
              "      <td>0</td>\n",
              "      <td>0</td>\n",
              "      <td>0</td>\n",
              "      <td>0</td>\n",
              "      <td>0</td>\n",
              "      <td>0</td>\n",
              "      <td>0</td>\n",
              "      <td>0</td>\n",
              "    </tr>\n",
              "    <tr>\n",
              "      <th>379691</th>\n",
              "      <td>4</td>\n",
              "      <td>888</td>\n",
              "      <td>1</td>\n",
              "      <td>1</td>\n",
              "      <td>2014</td>\n",
              "      <td>7</td>\n",
              "      <td>31</td>\n",
              "      <td>14160.0</td>\n",
              "      <td>0</td>\n",
              "      <td>0</td>\n",
              "      <td>0</td>\n",
              "      <td>0</td>\n",
              "      <td>0</td>\n",
              "      <td>1</td>\n",
              "      <td>0</td>\n",
              "      <td>1</td>\n",
              "    </tr>\n",
              "    <tr>\n",
              "      <th>111794</th>\n",
              "      <td>3</td>\n",
              "      <td>674</td>\n",
              "      <td>0</td>\n",
              "      <td>0</td>\n",
              "      <td>2015</td>\n",
              "      <td>4</td>\n",
              "      <td>22</td>\n",
              "      <td>210.0</td>\n",
              "      <td>1</td>\n",
              "      <td>0</td>\n",
              "      <td>0</td>\n",
              "      <td>0</td>\n",
              "      <td>0</td>\n",
              "      <td>0</td>\n",
              "      <td>0</td>\n",
              "      <td>0</td>\n",
              "    </tr>\n",
              "  </tbody>\n",
              "</table>\n",
              "</div>\n",
              "      <button class=\"colab-df-convert\" onclick=\"convertToInteractive('df-c3f6f771-e745-45b1-9da1-0439a0c226ca')\"\n",
              "              title=\"Convert this dataframe to an interactive table.\"\n",
              "              style=\"display:none;\">\n",
              "        \n",
              "  <svg xmlns=\"http://www.w3.org/2000/svg\" height=\"24px\"viewBox=\"0 0 24 24\"\n",
              "       width=\"24px\">\n",
              "    <path d=\"M0 0h24v24H0V0z\" fill=\"none\"/>\n",
              "    <path d=\"M18.56 5.44l.94 2.06.94-2.06 2.06-.94-2.06-.94-.94-2.06-.94 2.06-2.06.94zm-11 1L8.5 8.5l.94-2.06 2.06-.94-2.06-.94L8.5 2.5l-.94 2.06-2.06.94zm10 10l.94 2.06.94-2.06 2.06-.94-2.06-.94-.94-2.06-.94 2.06-2.06.94z\"/><path d=\"M17.41 7.96l-1.37-1.37c-.4-.4-.92-.59-1.43-.59-.52 0-1.04.2-1.43.59L10.3 9.45l-7.72 7.72c-.78.78-.78 2.05 0 2.83L4 21.41c.39.39.9.59 1.41.59.51 0 1.02-.2 1.41-.59l7.78-7.78 2.81-2.81c.8-.78.8-2.07 0-2.86zM5.41 20L4 18.59l7.72-7.72 1.47 1.35L5.41 20z\"/>\n",
              "  </svg>\n",
              "      </button>\n",
              "      \n",
              "  <style>\n",
              "    .colab-df-container {\n",
              "      display:flex;\n",
              "      flex-wrap:wrap;\n",
              "      gap: 12px;\n",
              "    }\n",
              "\n",
              "    .colab-df-convert {\n",
              "      background-color: #E8F0FE;\n",
              "      border: none;\n",
              "      border-radius: 50%;\n",
              "      cursor: pointer;\n",
              "      display: none;\n",
              "      fill: #1967D2;\n",
              "      height: 32px;\n",
              "      padding: 0 0 0 0;\n",
              "      width: 32px;\n",
              "    }\n",
              "\n",
              "    .colab-df-convert:hover {\n",
              "      background-color: #E2EBFA;\n",
              "      box-shadow: 0px 1px 2px rgba(60, 64, 67, 0.3), 0px 1px 3px 1px rgba(60, 64, 67, 0.15);\n",
              "      fill: #174EA6;\n",
              "    }\n",
              "\n",
              "    [theme=dark] .colab-df-convert {\n",
              "      background-color: #3B4455;\n",
              "      fill: #D2E3FC;\n",
              "    }\n",
              "\n",
              "    [theme=dark] .colab-df-convert:hover {\n",
              "      background-color: #434B5C;\n",
              "      box-shadow: 0px 1px 3px 1px rgba(0, 0, 0, 0.15);\n",
              "      filter: drop-shadow(0px 1px 2px rgba(0, 0, 0, 0.3));\n",
              "      fill: #FFFFFF;\n",
              "    }\n",
              "  </style>\n",
              "\n",
              "      <script>\n",
              "        const buttonEl =\n",
              "          document.querySelector('#df-c3f6f771-e745-45b1-9da1-0439a0c226ca button.colab-df-convert');\n",
              "        buttonEl.style.display =\n",
              "          google.colab.kernel.accessAllowed ? 'block' : 'none';\n",
              "\n",
              "        async function convertToInteractive(key) {\n",
              "          const element = document.querySelector('#df-c3f6f771-e745-45b1-9da1-0439a0c226ca');\n",
              "          const dataTable =\n",
              "            await google.colab.kernel.invokeFunction('convertToInteractive',\n",
              "                                                     [key], {});\n",
              "          if (!dataTable) return;\n",
              "\n",
              "          const docLinkHtml = 'Like what you see? Visit the ' +\n",
              "            '<a target=\"_blank\" href=https://colab.research.google.com/notebooks/data_table.ipynb>data table notebook</a>'\n",
              "            + ' to learn more about interactive tables.';\n",
              "          element.innerHTML = '';\n",
              "          dataTable['output_type'] = 'display_data';\n",
              "          await google.colab.output.renderOutput(dataTable, element);\n",
              "          const docLink = document.createElement('div');\n",
              "          docLink.innerHTML = docLinkHtml;\n",
              "          element.appendChild(docLink);\n",
              "        }\n",
              "      </script>\n",
              "    </div>\n",
              "  </div>\n",
              "  "
            ],
            "text/plain": [
              "        DayOfWeek  Customers  Promo  ...  StoreType_d  Assortment_b  Assortment_c\n",
              "418874          6        369      0  ...            1             0             1\n",
              "355293          2        224      0  ...            1             0             0\n",
              "874715          3        828      0  ...            0             0             0\n",
              "379691          4        888      1  ...            1             0             1\n",
              "111794          3        674      0  ...            0             0             0\n",
              "\n",
              "[5 rows x 16 columns]"
            ]
          },
          "execution_count": 43,
          "metadata": {},
          "output_type": "execute_result"
        }
      ],
      "source": [
        "X.head()"
      ]
    },
    {
      "cell_type": "code",
      "execution_count": null,
      "metadata": {
        "colab": {
          "base_uri": "https://localhost:8080/"
        },
        "id": "nJT1cOYT7LUc",
        "outputId": "625c2a87-dd73-4a83-acbf-2b3ddf6849c6"
      },
      "outputs": [
        {
          "name": "stdout",
          "output_type": "stream",
          "text": [
            "(40000, 16)\n",
            "(10000, 16)\n"
          ]
        }
      ],
      "source": [
        "X_train, X_test, y_train, y_test = train_test_split( X,y,\n",
        "                                                    test_size = 0.2,\n",
        "                                                    random_state = 0) \n",
        "print(X_train.shape)\n",
        "print(X_test.shape)"
      ]
    },
    {
      "cell_type": "code",
      "execution_count": null,
      "metadata": {
        "id": "BinEoPPkhfL2"
      },
      "outputs": [],
      "source": [
        "# Transforming data\n",
        "scaler = MinMaxScaler()\n",
        "X_train = scaler.fit_transform(X_train)\n",
        "X_test = scaler.transform(X_test)"
      ]
    },
    {
      "cell_type": "markdown",
      "metadata": {
        "id": "qvQERKTe7nqo"
      },
      "source": [
        "**Now Lets implement 3 models on our dataset**\n",
        "\n",
        "\n",
        "1.   Linear Regression\n",
        "    \n",
        "  \n",
        "\n",
        "2.   **Random Forest**\n",
        "3.   **XGBoost**\n",
        "**We will be using threee search algorithms for each:**\n",
        "\n",
        "**1. GridSearchCV**\n",
        "\n",
        "**2. RandomSearchCV**\n",
        "\n",
        "**3.BayesianSearchCV**\n"
      ]
    },
    {
      "cell_type": "markdown",
      "metadata": {
        "id": "l61PJ87o8psZ"
      },
      "source": [
        "#### Implementing the machine learning without the hypertunning and cross-Fold"
      ]
    },
    {
      "cell_type": "markdown",
      "metadata": {
        "id": "kQ76usHc9OOo"
      },
      "source": [
        "For the practise only"
      ]
    },
    {
      "cell_type": "code",
      "execution_count": null,
      "metadata": {
        "colab": {
          "base_uri": "https://localhost:8080/",
          "height": 200
        },
        "id": "Z2S8fOHk7htR",
        "outputId": "e2e61d93-4c1f-4f56-d071-a5314caf81df"
      },
      "outputs": [
        {
          "ename": "TypeError",
          "evalue": "ignored",
          "output_type": "error",
          "traceback": [
            "\u001b[0;31m---------------------------------------------------------------------------\u001b[0m",
            "\u001b[0;31mTypeError\u001b[0m                                 Traceback (most recent call last)",
            "\u001b[0;32m<ipython-input-46-12e83f45ff32>\u001b[0m in \u001b[0;36m<module>\u001b[0;34m()\u001b[0m\n\u001b[1;32m      1\u001b[0m \u001b[0;31m#Fitting Linear regression to the training set\u001b[0m\u001b[0;34m\u001b[0m\u001b[0;34m\u001b[0m\u001b[0;34m\u001b[0m\u001b[0m\n\u001b[1;32m      2\u001b[0m \u001b[0mreg\u001b[0m \u001b[0;34m=\u001b[0m \u001b[0mLinearRegression\u001b[0m\u001b[0;34m\u001b[0m\u001b[0;34m\u001b[0m\u001b[0m\n\u001b[0;32m----> 3\u001b[0;31m \u001b[0mreg\u001b[0m\u001b[0;34m.\u001b[0m\u001b[0mfit\u001b[0m\u001b[0;34m(\u001b[0m\u001b[0mX_train\u001b[0m\u001b[0;34m,\u001b[0m\u001b[0my_train\u001b[0m\u001b[0;34m)\u001b[0m\u001b[0;34m\u001b[0m\u001b[0;34m\u001b[0m\u001b[0m\n\u001b[0m",
            "\u001b[0;31mTypeError\u001b[0m: fit() missing 1 required positional argument: 'y'"
          ]
        }
      ],
      "source": [
        "#Fitting Linear regression to the training set\n",
        "reg = LinearRegression\n",
        "reg.fit(X_train,y_train)"
      ]
    },
    {
      "cell_type": "code",
      "execution_count": null,
      "metadata": {
        "id": "NyMVelTB9CK5"
      },
      "outputs": [],
      "source": [
        "def Performance_Metrices(y_train, y_test, y_pred_train,y_pred_test, model):\n",
        "    def rmse(x, y):\n",
        "        return sqrt(mse(x, y)) \n",
        "\n",
        "\n",
        "    print(f\"Training R2 Score: {r2_score(y_train,y_pred_train)}\")\n",
        "    print(\"Testing R2 Score\",\".\",r2_score(y_test,y_pred_test))\n",
        "\n",
        "    print(f\"Training Root Mean Square Error: {rmse(y_train,y_pred_train)}\")\n",
        "    print(\"Testing Root Mean Square Error\",\".\",rmse(y_test,y_pred_test))\n",
        "\n",
        "    print(f\"Training MSE : {mse(y_train,y_pred_train)}\")\n",
        "    print(f\"Testing MSE: {mse(y_test,y_pred_test)}\")\n",
        "    print(f\"Training MAPE {mape(y_train, y_pred_train)}\")\n",
        "    print(f\"Testing MAPE : {mape(y_test, y_pred_test)}\")"
      ]
    },
    {
      "cell_type": "code",
      "execution_count": null,
      "metadata": {
        "id": "7vXpCCELUQmQ"
      },
      "outputs": [],
      "source": [
        "y_pred_train = reg.predict(X_train)\n",
        "y_pred_test = reg.predict(X_test)\n",
        "Performance_Metrices(y_train, y_test,y_pred_train,y_pred_test,reg)"
      ]
    },
    {
      "cell_type": "code",
      "execution_count": null,
      "metadata": {
        "id": "SKDModBBZZ7f"
      },
      "outputs": [],
      "source": [
        ""
      ]
    },
    {
      "cell_type": "code",
      "execution_count": null,
      "metadata": {
        "colab": {
          "base_uri": "https://localhost:8080/"
        },
        "id": "8GZG7EL_acWW",
        "outputId": "c8540cd1-36a5-46d0-d232-7836f123a506"
      },
      "outputs": [
        {
          "data": {
            "text/plain": [
              "RandomForestRegressor()"
            ]
          },
          "execution_count": 77,
          "metadata": {},
          "output_type": "execute_result"
        }
      ],
      "source": [
        "from sklearn.ensemble import RandomForestRegressor\n",
        "rdf = RandomForestRegressor()\n",
        "rdf.fit(X_train,y_train)"
      ]
    },
    {
      "cell_type": "code",
      "execution_count": null,
      "metadata": {
        "colab": {
          "base_uri": "https://localhost:8080/"
        },
        "id": "PCo0Qi44nzFo",
        "outputId": "ad88a583-33bd-4c57-f03f-02c03b8eee3b"
      },
      "outputs": [
        {
          "name": "stdout",
          "output_type": "stream",
          "text": [
            "Training R2 Score: 0.9872350217658684\n",
            "Testing R2 Score . 0.906975029345172\n",
            "Training Root Mean Square Error: 351.0447853282292\n",
            "Testing Root Mean Square Error . 921.4954761166492\n",
            "Training MSE : 123232.4413061425\n",
            "Testing MSE: 849153.9125034501\n",
            "Training MAPE 0.0371255029744118\n",
            "Testing MAPE : 0.09827849193217314\n"
          ]
        }
      ],
      "source": [
        "y_pred_train = rdf.predict(X_train)\n",
        "y_pred_test = rdf.predict(X_test)\n",
        "Performance_Metrices(y_train, y_test,y_pred_train,y_pred_test,reg)"
      ]
    },
    {
      "cell_type": "markdown",
      "metadata": {
        "id": "SO9Anxs3HAId"
      },
      "source": [
        "#### Hyperparameter Tuning"
      ]
    },
    {
      "cell_type": "code",
      "execution_count": null,
      "metadata": {
        "colab": {
          "base_uri": "https://localhost:8080/"
        },
        "id": "uy9m2fkbNuo_",
        "outputId": "a977616b-4e5e-4dd0-e783-612c8292eb40"
      },
      "outputs": [
        {
          "data": {
            "text/plain": [
              "DecisionTreeRegressor()"
            ]
          },
          "execution_count": 81,
          "metadata": {},
          "output_type": "execute_result"
        }
      ],
      "source": [
        "rdf.base_estimator_"
      ]
    },
    {
      "cell_type": "code",
      "execution_count": null,
      "metadata": {
        "colab": {
          "base_uri": "https://localhost:8080/"
        },
        "id": "INng0XtbOqO9",
        "outputId": "28b0153a-cb34-410e-c4c9-e2ce2dec6931"
      },
      "outputs": [
        {
          "data": {
            "text/plain": [
              "[DecisionTreeRegressor(max_features='auto', random_state=874013203),\n",
              " DecisionTreeRegressor(max_features='auto', random_state=627174800),\n",
              " DecisionTreeRegressor(max_features='auto', random_state=934697837),\n",
              " DecisionTreeRegressor(max_features='auto', random_state=177079027),\n",
              " DecisionTreeRegressor(max_features='auto', random_state=1172969150),\n",
              " DecisionTreeRegressor(max_features='auto', random_state=2023645796),\n",
              " DecisionTreeRegressor(max_features='auto', random_state=1956295819),\n",
              " DecisionTreeRegressor(max_features='auto', random_state=1759808359),\n",
              " DecisionTreeRegressor(max_features='auto', random_state=1549456372),\n",
              " DecisionTreeRegressor(max_features='auto', random_state=1764736708),\n",
              " DecisionTreeRegressor(max_features='auto', random_state=1016074853),\n",
              " DecisionTreeRegressor(max_features='auto', random_state=524779364),\n",
              " DecisionTreeRegressor(max_features='auto', random_state=195569048),\n",
              " DecisionTreeRegressor(max_features='auto', random_state=596462909),\n",
              " DecisionTreeRegressor(max_features='auto', random_state=371767507),\n",
              " DecisionTreeRegressor(max_features='auto', random_state=146164807),\n",
              " DecisionTreeRegressor(max_features='auto', random_state=465436998),\n",
              " DecisionTreeRegressor(max_features='auto', random_state=2117895116),\n",
              " DecisionTreeRegressor(max_features='auto', random_state=1552062428),\n",
              " DecisionTreeRegressor(max_features='auto', random_state=483241723),\n",
              " DecisionTreeRegressor(max_features='auto', random_state=1670671853),\n",
              " DecisionTreeRegressor(max_features='auto', random_state=1885351914),\n",
              " DecisionTreeRegressor(max_features='auto', random_state=1549511787),\n",
              " DecisionTreeRegressor(max_features='auto', random_state=895760296),\n",
              " DecisionTreeRegressor(max_features='auto', random_state=1381324123),\n",
              " DecisionTreeRegressor(max_features='auto', random_state=1812150806),\n",
              " DecisionTreeRegressor(max_features='auto', random_state=2039282017),\n",
              " DecisionTreeRegressor(max_features='auto', random_state=539901835),\n",
              " DecisionTreeRegressor(max_features='auto', random_state=927514489),\n",
              " DecisionTreeRegressor(max_features='auto', random_state=359124343),\n",
              " DecisionTreeRegressor(max_features='auto', random_state=1650527489),\n",
              " DecisionTreeRegressor(max_features='auto', random_state=1231053466),\n",
              " DecisionTreeRegressor(max_features='auto', random_state=696766555),\n",
              " DecisionTreeRegressor(max_features='auto', random_state=1662281985),\n",
              " DecisionTreeRegressor(max_features='auto', random_state=1018070879),\n",
              " DecisionTreeRegressor(max_features='auto', random_state=889922132),\n",
              " DecisionTreeRegressor(max_features='auto', random_state=1156086486),\n",
              " DecisionTreeRegressor(max_features='auto', random_state=983281751),\n",
              " DecisionTreeRegressor(max_features='auto', random_state=949015920),\n",
              " DecisionTreeRegressor(max_features='auto', random_state=265206788),\n",
              " DecisionTreeRegressor(max_features='auto', random_state=142809490),\n",
              " DecisionTreeRegressor(max_features='auto', random_state=166759230),\n",
              " DecisionTreeRegressor(max_features='auto', random_state=767075973),\n",
              " DecisionTreeRegressor(max_features='auto', random_state=69725590),\n",
              " DecisionTreeRegressor(max_features='auto', random_state=2005917348),\n",
              " DecisionTreeRegressor(max_features='auto', random_state=224307583),\n",
              " DecisionTreeRegressor(max_features='auto', random_state=1546631716),\n",
              " DecisionTreeRegressor(max_features='auto', random_state=1156403984),\n",
              " DecisionTreeRegressor(max_features='auto', random_state=914185832),\n",
              " DecisionTreeRegressor(max_features='auto', random_state=666463561),\n",
              " DecisionTreeRegressor(max_features='auto', random_state=1541614871),\n",
              " DecisionTreeRegressor(max_features='auto', random_state=424819929),\n",
              " DecisionTreeRegressor(max_features='auto', random_state=15232074),\n",
              " DecisionTreeRegressor(max_features='auto', random_state=1151063634),\n",
              " DecisionTreeRegressor(max_features='auto', random_state=1640771768),\n",
              " DecisionTreeRegressor(max_features='auto', random_state=1604730852),\n",
              " DecisionTreeRegressor(max_features='auto', random_state=153223001),\n",
              " DecisionTreeRegressor(max_features='auto', random_state=1313865172),\n",
              " DecisionTreeRegressor(max_features='auto', random_state=1649880131),\n",
              " DecisionTreeRegressor(max_features='auto', random_state=1160261898),\n",
              " DecisionTreeRegressor(max_features='auto', random_state=74411518),\n",
              " DecisionTreeRegressor(max_features='auto', random_state=1883959555),\n",
              " DecisionTreeRegressor(max_features='auto', random_state=1250619581),\n",
              " DecisionTreeRegressor(max_features='auto', random_state=1095973928),\n",
              " DecisionTreeRegressor(max_features='auto', random_state=301630632),\n",
              " DecisionTreeRegressor(max_features='auto', random_state=1914931927),\n",
              " DecisionTreeRegressor(max_features='auto', random_state=534497930),\n",
              " DecisionTreeRegressor(max_features='auto', random_state=2033614100),\n",
              " DecisionTreeRegressor(max_features='auto', random_state=663615115),\n",
              " DecisionTreeRegressor(max_features='auto', random_state=74295032),\n",
              " DecisionTreeRegressor(max_features='auto', random_state=1033554231),\n",
              " DecisionTreeRegressor(max_features='auto', random_state=1880153367),\n",
              " DecisionTreeRegressor(max_features='auto', random_state=1570708468),\n",
              " DecisionTreeRegressor(max_features='auto', random_state=410416981),\n",
              " DecisionTreeRegressor(max_features='auto', random_state=581346499),\n",
              " DecisionTreeRegressor(max_features='auto', random_state=2045848129),\n",
              " DecisionTreeRegressor(max_features='auto', random_state=1444093466),\n",
              " DecisionTreeRegressor(max_features='auto', random_state=1686785383),\n",
              " DecisionTreeRegressor(max_features='auto', random_state=120188010),\n",
              " DecisionTreeRegressor(max_features='auto', random_state=298933567),\n",
              " DecisionTreeRegressor(max_features='auto', random_state=226689259),\n",
              " DecisionTreeRegressor(max_features='auto', random_state=1722285595),\n",
              " DecisionTreeRegressor(max_features='auto', random_state=24543552),\n",
              " DecisionTreeRegressor(max_features='auto', random_state=1012656606),\n",
              " DecisionTreeRegressor(max_features='auto', random_state=316744625),\n",
              " DecisionTreeRegressor(max_features='auto', random_state=992836381),\n",
              " DecisionTreeRegressor(max_features='auto', random_state=1873658184),\n",
              " DecisionTreeRegressor(max_features='auto', random_state=1531298635),\n",
              " DecisionTreeRegressor(max_features='auto', random_state=899616955),\n",
              " DecisionTreeRegressor(max_features='auto', random_state=911557811),\n",
              " DecisionTreeRegressor(max_features='auto', random_state=1100271177),\n",
              " DecisionTreeRegressor(max_features='auto', random_state=1357874462),\n",
              " DecisionTreeRegressor(max_features='auto', random_state=397281466),\n",
              " DecisionTreeRegressor(max_features='auto', random_state=444182400),\n",
              " DecisionTreeRegressor(max_features='auto', random_state=1814301361),\n",
              " DecisionTreeRegressor(max_features='auto', random_state=1123977102),\n",
              " DecisionTreeRegressor(max_features='auto', random_state=713872166),\n",
              " DecisionTreeRegressor(max_features='auto', random_state=1751325203),\n",
              " DecisionTreeRegressor(max_features='auto', random_state=2012222021),\n",
              " DecisionTreeRegressor(max_features='auto', random_state=1181097875)]"
            ]
          },
          "execution_count": 86,
          "metadata": {},
          "output_type": "execute_result"
        }
      ],
      "source": [
        "rdf.estimators_"
      ]
    },
    {
      "cell_type": "code",
      "execution_count": null,
      "metadata": {
        "colab": {
          "base_uri": "https://localhost:8080/"
        },
        "id": "bPTlO88KOKYJ",
        "outputId": "6d9922c6-dd0b-478f-fd00-055fb74602ac"
      },
      "outputs": [
        {
          "data": {
            "text/plain": [
              "16"
            ]
          },
          "execution_count": 83,
          "metadata": {},
          "output_type": "execute_result"
        }
      ],
      "source": [
        "rdf.n_features_"
      ]
    },
    {
      "cell_type": "code",
      "execution_count": null,
      "metadata": {
        "colab": {
          "base_uri": "https://localhost:8080/",
          "height": 183
        },
        "id": "SdkwtojrOSdG",
        "outputId": "b3233265-0533-4064-d85d-45ea80447603"
      },
      "outputs": [
        {
          "ename": "AttributeError",
          "evalue": "ignored",
          "output_type": "error",
          "traceback": [
            "\u001b[0;31m---------------------------------------------------------------------------\u001b[0m",
            "\u001b[0;31mAttributeError\u001b[0m                            Traceback (most recent call last)",
            "\u001b[0;32m<ipython-input-85-15e3b34d7ff2>\u001b[0m in \u001b[0;36m<module>\u001b[0;34m()\u001b[0m\n\u001b[0;32m----> 1\u001b[0;31m \u001b[0mrdf\u001b[0m\u001b[0;34m.\u001b[0m\u001b[0mfeature_names_in_\u001b[0m\u001b[0;34m\u001b[0m\u001b[0;34m\u001b[0m\u001b[0m\n\u001b[0m",
            "\u001b[0;31mAttributeError\u001b[0m: 'RandomForestRegressor' object has no attribute 'feature_names_in_'"
          ]
        }
      ],
      "source": [
        "rdf.feature_names_in_"
      ]
    },
    {
      "cell_type": "code",
      "execution_count": null,
      "metadata": {
        "id": "0xYZEF3DDGDM"
      },
      "outputs": [],
      "source": [
        "\n",
        "#Defining Hyperparameter for the GridSearch CV\n",
        "\n",
        "param_grid = {'bootstrap':[False],\n",
        "              'max_depth':[20,30],\n",
        "              #'max_features' : ['auto','log2'],\n",
        "              'n_estimators':[20,25,30]}\n"
      ]
    },
    {
      "cell_type": "code",
      "execution_count": null,
      "metadata": {
        "id": "YFKTJ8_rH5_w"
      },
      "outputs": [],
      "source": [
        "# Defining the model for random forest regression model \n",
        "# Initializing the GridSearch CV over random forest\n",
        "from sklearn.model_selection import GridSearchCV\n",
        "rfr = RandomForestRegressor(random_state = 0)\n",
        "g_search = GridSearchCV(estimator = rfr,\n",
        "                        param_grid = param_grid,\n",
        "                        cv = 5,\n",
        "                        n_jobs = 1,\n",
        "                        verbose = 2,\n",
        "                        return_train_score=True)"
      ]
    },
    {
      "cell_type": "code",
      "execution_count": null,
      "metadata": {
        "id": "EMnIXBcbPUck"
      },
      "outputs": [],
      "source": [
        ""
      ]
    },
    {
      "cell_type": "code",
      "execution_count": null,
      "metadata": {
        "colab": {
          "background_save": true,
          "base_uri": "https://localhost:8080/"
        },
        "id": "iwPlEFBGJK9q",
        "outputId": "8496ac94-7485-467f-dfe5-27448be9b0a3"
      },
      "outputs": [
        {
          "name": "stdout",
          "output_type": "stream",
          "text": [
            "Fitting 5 folds for each of 300 candidates, totalling 1500 fits\n",
            "[CV] END bootstrap=True, max_depth=20, max_features=auto, min_samples_leaf=3, n_estimators=120; total time=  12.5s\n",
            "[CV] END bootstrap=True, max_depth=20, max_features=auto, min_samples_leaf=3, n_estimators=120; total time=  12.4s\n",
            "[CV] END bootstrap=True, max_depth=20, max_features=auto, min_samples_leaf=3, n_estimators=120; total time=  12.5s\n",
            "[CV] END bootstrap=True, max_depth=20, max_features=auto, min_samples_leaf=3, n_estimators=120; total time=  12.5s\n",
            "[CV] END bootstrap=True, max_depth=20, max_features=auto, min_samples_leaf=3, n_estimators=120; total time=  12.5s\n",
            "[CV] END bootstrap=True, max_depth=20, max_features=auto, min_samples_leaf=3, n_estimators=122; total time=  12.6s\n",
            "[CV] END bootstrap=True, max_depth=20, max_features=auto, min_samples_leaf=3, n_estimators=122; total time=  12.7s\n",
            "[CV] END bootstrap=True, max_depth=20, max_features=auto, min_samples_leaf=3, n_estimators=122; total time=  12.6s\n",
            "[CV] END bootstrap=True, max_depth=20, max_features=auto, min_samples_leaf=3, n_estimators=122; total time=  12.6s\n",
            "[CV] END bootstrap=True, max_depth=20, max_features=auto, min_samples_leaf=3, n_estimators=122; total time=  12.6s\n",
            "[CV] END bootstrap=True, max_depth=20, max_features=auto, min_samples_leaf=3, n_estimators=125; total time=  12.9s\n",
            "[CV] END bootstrap=True, max_depth=20, max_features=auto, min_samples_leaf=3, n_estimators=125; total time=  12.9s\n",
            "[CV] END bootstrap=True, max_depth=20, max_features=auto, min_samples_leaf=3, n_estimators=125; total time=  12.9s\n",
            "[CV] END bootstrap=True, max_depth=20, max_features=auto, min_samples_leaf=3, n_estimators=125; total time=  13.1s\n",
            "[CV] END bootstrap=True, max_depth=20, max_features=auto, min_samples_leaf=3, n_estimators=125; total time=  13.5s\n",
            "[CV] END bootstrap=True, max_depth=20, max_features=auto, min_samples_leaf=3, n_estimators=130; total time=  14.0s\n",
            "[CV] END bootstrap=True, max_depth=20, max_features=auto, min_samples_leaf=3, n_estimators=130; total time=  13.8s\n",
            "[CV] END bootstrap=True, max_depth=20, max_features=auto, min_samples_leaf=3, n_estimators=130; total time=  14.0s\n",
            "[CV] END bootstrap=True, max_depth=20, max_features=auto, min_samples_leaf=3, n_estimators=130; total time=  14.1s\n",
            "[CV] END bootstrap=True, max_depth=20, max_features=auto, min_samples_leaf=3, n_estimators=130; total time=  14.0s\n",
            "[CV] END bootstrap=True, max_depth=20, max_features=auto, min_samples_leaf=3, n_estimators=140; total time=  15.0s\n",
            "[CV] END bootstrap=True, max_depth=20, max_features=auto, min_samples_leaf=3, n_estimators=140; total time=  14.7s\n",
            "[CV] END bootstrap=True, max_depth=20, max_features=auto, min_samples_leaf=3, n_estimators=140; total time=  14.6s\n",
            "[CV] END bootstrap=True, max_depth=20, max_features=auto, min_samples_leaf=3, n_estimators=140; total time=  15.2s\n",
            "[CV] END bootstrap=True, max_depth=20, max_features=auto, min_samples_leaf=3, n_estimators=140; total time=  14.9s\n",
            "[CV] END bootstrap=True, max_depth=20, max_features=auto, min_samples_leaf=4, n_estimators=120; total time=  12.1s\n",
            "[CV] END bootstrap=True, max_depth=20, max_features=auto, min_samples_leaf=4, n_estimators=120; total time=  12.0s\n",
            "[CV] END bootstrap=True, max_depth=20, max_features=auto, min_samples_leaf=4, n_estimators=120; total time=  12.1s\n",
            "[CV] END bootstrap=True, max_depth=20, max_features=auto, min_samples_leaf=4, n_estimators=120; total time=  12.0s\n",
            "[CV] END bootstrap=True, max_depth=20, max_features=auto, min_samples_leaf=4, n_estimators=120; total time=  11.7s\n",
            "[CV] END bootstrap=True, max_depth=20, max_features=auto, min_samples_leaf=4, n_estimators=122; total time=  11.9s\n",
            "[CV] END bootstrap=True, max_depth=20, max_features=auto, min_samples_leaf=4, n_estimators=122; total time=  11.9s\n",
            "[CV] END bootstrap=True, max_depth=20, max_features=auto, min_samples_leaf=4, n_estimators=122; total time=  11.9s\n",
            "[CV] END bootstrap=True, max_depth=20, max_features=auto, min_samples_leaf=4, n_estimators=122; total time=  12.0s\n",
            "[CV] END bootstrap=True, max_depth=20, max_features=auto, min_samples_leaf=4, n_estimators=122; total time=  11.9s\n",
            "[CV] END bootstrap=True, max_depth=20, max_features=auto, min_samples_leaf=4, n_estimators=125; total time=  12.3s\n",
            "[CV] END bootstrap=True, max_depth=20, max_features=auto, min_samples_leaf=4, n_estimators=125; total time=  12.2s\n",
            "[CV] END bootstrap=True, max_depth=20, max_features=auto, min_samples_leaf=4, n_estimators=125; total time=  12.2s\n",
            "[CV] END bootstrap=True, max_depth=20, max_features=auto, min_samples_leaf=4, n_estimators=125; total time=  12.2s\n",
            "[CV] END bootstrap=True, max_depth=20, max_features=auto, min_samples_leaf=4, n_estimators=125; total time=  12.2s\n",
            "[CV] END bootstrap=True, max_depth=20, max_features=auto, min_samples_leaf=4, n_estimators=130; total time=  12.7s\n",
            "[CV] END bootstrap=True, max_depth=20, max_features=auto, min_samples_leaf=4, n_estimators=130; total time=  12.7s\n",
            "[CV] END bootstrap=True, max_depth=20, max_features=auto, min_samples_leaf=4, n_estimators=130; total time=  12.7s\n",
            "[CV] END bootstrap=True, max_depth=20, max_features=auto, min_samples_leaf=4, n_estimators=130; total time=  12.7s\n",
            "[CV] END bootstrap=True, max_depth=20, max_features=auto, min_samples_leaf=4, n_estimators=130; total time=  12.7s\n",
            "[CV] END bootstrap=True, max_depth=20, max_features=auto, min_samples_leaf=4, n_estimators=140; total time=  13.6s\n",
            "[CV] END bootstrap=True, max_depth=20, max_features=auto, min_samples_leaf=4, n_estimators=140; total time=  13.6s\n",
            "[CV] END bootstrap=True, max_depth=20, max_features=auto, min_samples_leaf=4, n_estimators=140; total time=  13.7s\n",
            "[CV] END bootstrap=True, max_depth=20, max_features=auto, min_samples_leaf=4, n_estimators=140; total time=  13.6s\n",
            "[CV] END bootstrap=True, max_depth=20, max_features=auto, min_samples_leaf=4, n_estimators=140; total time=  13.7s\n",
            "[CV] END bootstrap=True, max_depth=20, max_features=auto, min_samples_leaf=5, n_estimators=120; total time=  11.2s\n",
            "[CV] END bootstrap=True, max_depth=20, max_features=auto, min_samples_leaf=5, n_estimators=120; total time=  11.2s\n",
            "[CV] END bootstrap=True, max_depth=20, max_features=auto, min_samples_leaf=5, n_estimators=120; total time=  11.3s\n",
            "[CV] END bootstrap=True, max_depth=20, max_features=auto, min_samples_leaf=5, n_estimators=120; total time=  11.2s\n",
            "[CV] END bootstrap=True, max_depth=20, max_features=auto, min_samples_leaf=5, n_estimators=120; total time=  11.2s\n",
            "[CV] END bootstrap=True, max_depth=20, max_features=auto, min_samples_leaf=5, n_estimators=122; total time=  11.4s\n",
            "[CV] END bootstrap=True, max_depth=20, max_features=auto, min_samples_leaf=5, n_estimators=122; total time=  11.4s\n",
            "[CV] END bootstrap=True, max_depth=20, max_features=auto, min_samples_leaf=5, n_estimators=122; total time=  11.4s\n",
            "[CV] END bootstrap=True, max_depth=20, max_features=auto, min_samples_leaf=5, n_estimators=122; total time=  11.4s\n",
            "[CV] END bootstrap=True, max_depth=20, max_features=auto, min_samples_leaf=5, n_estimators=122; total time=  11.4s\n",
            "[CV] END bootstrap=True, max_depth=20, max_features=auto, min_samples_leaf=5, n_estimators=125; total time=  11.8s\n",
            "[CV] END bootstrap=True, max_depth=20, max_features=auto, min_samples_leaf=5, n_estimators=125; total time=  11.7s\n",
            "[CV] END bootstrap=True, max_depth=20, max_features=auto, min_samples_leaf=5, n_estimators=125; total time=  11.8s\n",
            "[CV] END bootstrap=True, max_depth=20, max_features=auto, min_samples_leaf=5, n_estimators=125; total time=  11.7s\n",
            "[CV] END bootstrap=True, max_depth=20, max_features=auto, min_samples_leaf=5, n_estimators=125; total time=  11.7s\n",
            "[CV] END bootstrap=True, max_depth=20, max_features=auto, min_samples_leaf=5, n_estimators=130; total time=  12.2s\n",
            "[CV] END bootstrap=True, max_depth=20, max_features=auto, min_samples_leaf=5, n_estimators=130; total time=  12.1s\n",
            "[CV] END bootstrap=True, max_depth=20, max_features=auto, min_samples_leaf=5, n_estimators=130; total time=  12.2s\n",
            "[CV] END bootstrap=True, max_depth=20, max_features=auto, min_samples_leaf=5, n_estimators=130; total time=  12.2s\n",
            "[CV] END bootstrap=True, max_depth=20, max_features=auto, min_samples_leaf=5, n_estimators=130; total time=  12.2s\n",
            "[CV] END bootstrap=True, max_depth=20, max_features=auto, min_samples_leaf=5, n_estimators=140; total time=  13.1s\n",
            "[CV] END bootstrap=True, max_depth=20, max_features=auto, min_samples_leaf=5, n_estimators=140; total time=  13.1s\n",
            "[CV] END bootstrap=True, max_depth=20, max_features=auto, min_samples_leaf=5, n_estimators=140; total time=  13.1s\n",
            "[CV] END bootstrap=True, max_depth=20, max_features=auto, min_samples_leaf=5, n_estimators=140; total time=  13.1s\n",
            "[CV] END bootstrap=True, max_depth=20, max_features=auto, min_samples_leaf=5, n_estimators=140; total time=  13.1s\n",
            "[CV] END bootstrap=True, max_depth=20, max_features=sqrt, min_samples_leaf=3, n_estimators=120; total time=   4.1s\n",
            "[CV] END bootstrap=True, max_depth=20, max_features=sqrt, min_samples_leaf=3, n_estimators=120; total time=   4.1s\n",
            "[CV] END bootstrap=True, max_depth=20, max_features=sqrt, min_samples_leaf=3, n_estimators=120; total time=   4.1s\n",
            "[CV] END bootstrap=True, max_depth=20, max_features=sqrt, min_samples_leaf=3, n_estimators=120; total time=   4.2s\n",
            "[CV] END bootstrap=True, max_depth=20, max_features=sqrt, min_samples_leaf=3, n_estimators=120; total time=   4.1s\n",
            "[CV] END bootstrap=True, max_depth=20, max_features=sqrt, min_samples_leaf=3, n_estimators=122; total time=   4.2s\n",
            "[CV] END bootstrap=True, max_depth=20, max_features=sqrt, min_samples_leaf=3, n_estimators=122; total time=   4.2s\n",
            "[CV] END bootstrap=True, max_depth=20, max_features=sqrt, min_samples_leaf=3, n_estimators=122; total time=   4.1s\n",
            "[CV] END bootstrap=True, max_depth=20, max_features=sqrt, min_samples_leaf=3, n_estimators=122; total time=   4.2s\n",
            "[CV] END bootstrap=True, max_depth=20, max_features=sqrt, min_samples_leaf=3, n_estimators=122; total time=   4.2s\n",
            "[CV] END bootstrap=True, max_depth=20, max_features=sqrt, min_samples_leaf=3, n_estimators=125; total time=   4.3s\n",
            "[CV] END bootstrap=True, max_depth=20, max_features=sqrt, min_samples_leaf=3, n_estimators=125; total time=   4.3s\n",
            "[CV] END bootstrap=True, max_depth=20, max_features=sqrt, min_samples_leaf=3, n_estimators=125; total time=   4.3s\n",
            "[CV] END bootstrap=True, max_depth=20, max_features=sqrt, min_samples_leaf=3, n_estimators=125; total time=   4.3s\n",
            "[CV] END bootstrap=True, max_depth=20, max_features=sqrt, min_samples_leaf=3, n_estimators=125; total time=   4.3s\n",
            "[CV] END bootstrap=True, max_depth=20, max_features=sqrt, min_samples_leaf=3, n_estimators=130; total time=   4.4s\n",
            "[CV] END bootstrap=True, max_depth=20, max_features=sqrt, min_samples_leaf=3, n_estimators=130; total time=   4.4s\n",
            "[CV] END bootstrap=True, max_depth=20, max_features=sqrt, min_samples_leaf=3, n_estimators=130; total time=   4.4s\n",
            "[CV] END bootstrap=True, max_depth=20, max_features=sqrt, min_samples_leaf=3, n_estimators=130; total time=   4.5s\n",
            "[CV] END bootstrap=True, max_depth=20, max_features=sqrt, min_samples_leaf=3, n_estimators=130; total time=   4.4s\n",
            "[CV] END bootstrap=True, max_depth=20, max_features=sqrt, min_samples_leaf=3, n_estimators=140; total time=   4.8s\n",
            "[CV] END bootstrap=True, max_depth=20, max_features=sqrt, min_samples_leaf=3, n_estimators=140; total time=   4.8s\n",
            "[CV] END bootstrap=True, max_depth=20, max_features=sqrt, min_samples_leaf=3, n_estimators=140; total time=   4.8s\n",
            "[CV] END bootstrap=True, max_depth=20, max_features=sqrt, min_samples_leaf=3, n_estimators=140; total time=   4.8s\n",
            "[CV] END bootstrap=True, max_depth=20, max_features=sqrt, min_samples_leaf=3, n_estimators=140; total time=   4.8s\n",
            "[CV] END bootstrap=True, max_depth=20, max_features=sqrt, min_samples_leaf=4, n_estimators=120; total time=   3.9s\n",
            "[CV] END bootstrap=True, max_depth=20, max_features=sqrt, min_samples_leaf=4, n_estimators=120; total time=   3.8s\n",
            "[CV] END bootstrap=True, max_depth=20, max_features=sqrt, min_samples_leaf=4, n_estimators=120; total time=   3.8s\n",
            "[CV] END bootstrap=True, max_depth=20, max_features=sqrt, min_samples_leaf=4, n_estimators=120; total time=   3.9s\n",
            "[CV] END bootstrap=True, max_depth=20, max_features=sqrt, min_samples_leaf=4, n_estimators=120; total time=   3.9s\n",
            "[CV] END bootstrap=True, max_depth=20, max_features=sqrt, min_samples_leaf=4, n_estimators=122; total time=   3.9s\n",
            "[CV] END bootstrap=True, max_depth=20, max_features=sqrt, min_samples_leaf=4, n_estimators=122; total time=   3.9s\n",
            "[CV] END bootstrap=True, max_depth=20, max_features=sqrt, min_samples_leaf=4, n_estimators=122; total time=   3.9s\n",
            "[CV] END bootstrap=True, max_depth=20, max_features=sqrt, min_samples_leaf=4, n_estimators=122; total time=   3.9s\n",
            "[CV] END bootstrap=True, max_depth=20, max_features=sqrt, min_samples_leaf=4, n_estimators=122; total time=   4.0s\n",
            "[CV] END bootstrap=True, max_depth=20, max_features=sqrt, min_samples_leaf=4, n_estimators=125; total time=   4.0s\n",
            "[CV] END bootstrap=True, max_depth=20, max_features=sqrt, min_samples_leaf=4, n_estimators=125; total time=   4.0s\n",
            "[CV] END bootstrap=True, max_depth=20, max_features=sqrt, min_samples_leaf=4, n_estimators=125; total time=   4.0s\n",
            "[CV] END bootstrap=True, max_depth=20, max_features=sqrt, min_samples_leaf=4, n_estimators=125; total time=   4.0s\n",
            "[CV] END bootstrap=True, max_depth=20, max_features=sqrt, min_samples_leaf=4, n_estimators=125; total time=   4.0s\n",
            "[CV] END bootstrap=True, max_depth=20, max_features=sqrt, min_samples_leaf=4, n_estimators=130; total time=   4.2s\n",
            "[CV] END bootstrap=True, max_depth=20, max_features=sqrt, min_samples_leaf=4, n_estimators=130; total time=   4.2s\n",
            "[CV] END bootstrap=True, max_depth=20, max_features=sqrt, min_samples_leaf=4, n_estimators=130; total time=   4.1s\n",
            "[CV] END bootstrap=True, max_depth=20, max_features=sqrt, min_samples_leaf=4, n_estimators=130; total time=   4.2s\n",
            "[CV] END bootstrap=True, max_depth=20, max_features=sqrt, min_samples_leaf=4, n_estimators=130; total time=   4.2s\n",
            "[CV] END bootstrap=True, max_depth=20, max_features=sqrt, min_samples_leaf=4, n_estimators=140; total time=   4.5s\n",
            "[CV] END bootstrap=True, max_depth=20, max_features=sqrt, min_samples_leaf=4, n_estimators=140; total time=   4.5s\n",
            "[CV] END bootstrap=True, max_depth=20, max_features=sqrt, min_samples_leaf=4, n_estimators=140; total time=   4.5s\n",
            "[CV] END bootstrap=True, max_depth=20, max_features=sqrt, min_samples_leaf=4, n_estimators=140; total time=   4.5s\n",
            "[CV] END bootstrap=True, max_depth=20, max_features=sqrt, min_samples_leaf=4, n_estimators=140; total time=   4.5s\n",
            "[CV] END bootstrap=True, max_depth=20, max_features=sqrt, min_samples_leaf=5, n_estimators=120; total time=   3.7s\n",
            "[CV] END bootstrap=True, max_depth=20, max_features=sqrt, min_samples_leaf=5, n_estimators=120; total time=   3.7s\n",
            "[CV] END bootstrap=True, max_depth=20, max_features=sqrt, min_samples_leaf=5, n_estimators=120; total time=   3.7s\n",
            "[CV] END bootstrap=True, max_depth=20, max_features=sqrt, min_samples_leaf=5, n_estimators=120; total time=   3.7s\n",
            "[CV] END bootstrap=True, max_depth=20, max_features=sqrt, min_samples_leaf=5, n_estimators=120; total time=   3.7s\n",
            "[CV] END bootstrap=True, max_depth=20, max_features=sqrt, min_samples_leaf=5, n_estimators=122; total time=   3.8s\n",
            "[CV] END bootstrap=True, max_depth=20, max_features=sqrt, min_samples_leaf=5, n_estimators=122; total time=   3.8s\n",
            "[CV] END bootstrap=True, max_depth=20, max_features=sqrt, min_samples_leaf=5, n_estimators=122; total time=   3.7s\n",
            "[CV] END bootstrap=True, max_depth=20, max_features=sqrt, min_samples_leaf=5, n_estimators=122; total time=   3.8s\n",
            "[CV] END bootstrap=True, max_depth=20, max_features=sqrt, min_samples_leaf=5, n_estimators=122; total time=   3.8s\n",
            "[CV] END bootstrap=True, max_depth=20, max_features=sqrt, min_samples_leaf=5, n_estimators=125; total time=   3.9s\n",
            "[CV] END bootstrap=True, max_depth=20, max_features=sqrt, min_samples_leaf=5, n_estimators=125; total time=   3.9s\n",
            "[CV] END bootstrap=True, max_depth=20, max_features=sqrt, min_samples_leaf=5, n_estimators=125; total time=   3.9s\n",
            "[CV] END bootstrap=True, max_depth=20, max_features=sqrt, min_samples_leaf=5, n_estimators=125; total time=   3.9s\n",
            "[CV] END bootstrap=True, max_depth=20, max_features=sqrt, min_samples_leaf=5, n_estimators=125; total time=   3.9s\n",
            "[CV] END bootstrap=True, max_depth=20, max_features=sqrt, min_samples_leaf=5, n_estimators=130; total time=   4.0s\n",
            "[CV] END bootstrap=True, max_depth=20, max_features=sqrt, min_samples_leaf=5, n_estimators=130; total time=   4.0s\n",
            "[CV] END bootstrap=True, max_depth=20, max_features=sqrt, min_samples_leaf=5, n_estimators=130; total time=   4.0s\n",
            "[CV] END bootstrap=True, max_depth=20, max_features=sqrt, min_samples_leaf=5, n_estimators=130; total time=   4.0s\n",
            "[CV] END bootstrap=True, max_depth=20, max_features=sqrt, min_samples_leaf=5, n_estimators=130; total time=   4.0s\n",
            "[CV] END bootstrap=True, max_depth=20, max_features=sqrt, min_samples_leaf=5, n_estimators=140; total time=   4.3s\n",
            "[CV] END bootstrap=True, max_depth=20, max_features=sqrt, min_samples_leaf=5, n_estimators=140; total time=   4.3s\n",
            "[CV] END bootstrap=True, max_depth=20, max_features=sqrt, min_samples_leaf=5, n_estimators=140; total time=   4.3s\n",
            "[CV] END bootstrap=True, max_depth=20, max_features=sqrt, min_samples_leaf=5, n_estimators=140; total time=   4.3s\n",
            "[CV] END bootstrap=True, max_depth=20, max_features=sqrt, min_samples_leaf=5, n_estimators=140; total time=   4.3s\n",
            "[CV] END bootstrap=True, max_depth=30, max_features=auto, min_samples_leaf=3, n_estimators=120; total time=  12.4s\n",
            "[CV] END bootstrap=True, max_depth=30, max_features=auto, min_samples_leaf=3, n_estimators=120; total time=  12.4s\n",
            "[CV] END bootstrap=True, max_depth=30, max_features=auto, min_samples_leaf=3, n_estimators=120; total time=  12.4s\n",
            "[CV] END bootstrap=True, max_depth=30, max_features=auto, min_samples_leaf=3, n_estimators=120; total time=  12.5s\n",
            "[CV] END bootstrap=True, max_depth=30, max_features=auto, min_samples_leaf=3, n_estimators=120; total time=  12.4s\n",
            "[CV] END bootstrap=True, max_depth=30, max_features=auto, min_samples_leaf=3, n_estimators=122; total time=  12.6s\n",
            "[CV] END bootstrap=True, max_depth=30, max_features=auto, min_samples_leaf=3, n_estimators=122; total time=  12.6s\n",
            "[CV] END bootstrap=True, max_depth=30, max_features=auto, min_samples_leaf=3, n_estimators=122; total time=  12.6s\n",
            "[CV] END bootstrap=True, max_depth=30, max_features=auto, min_samples_leaf=3, n_estimators=122; total time=  12.6s\n",
            "[CV] END bootstrap=True, max_depth=30, max_features=auto, min_samples_leaf=3, n_estimators=122; total time=  12.6s\n",
            "[CV] END bootstrap=True, max_depth=30, max_features=auto, min_samples_leaf=3, n_estimators=125; total time=  12.9s\n",
            "[CV] END bootstrap=True, max_depth=30, max_features=auto, min_samples_leaf=3, n_estimators=125; total time=  12.9s\n",
            "[CV] END bootstrap=True, max_depth=30, max_features=auto, min_samples_leaf=3, n_estimators=125; total time=  12.9s\n",
            "[CV] END bootstrap=True, max_depth=30, max_features=auto, min_samples_leaf=3, n_estimators=125; total time=  13.0s\n",
            "[CV] END bootstrap=True, max_depth=30, max_features=auto, min_samples_leaf=3, n_estimators=125; total time=  13.0s\n",
            "[CV] END bootstrap=True, max_depth=30, max_features=auto, min_samples_leaf=3, n_estimators=130; total time=  13.4s\n",
            "[CV] END bootstrap=True, max_depth=30, max_features=auto, min_samples_leaf=3, n_estimators=130; total time=  13.4s\n",
            "[CV] END bootstrap=True, max_depth=30, max_features=auto, min_samples_leaf=3, n_estimators=130; total time=  13.5s\n",
            "[CV] END bootstrap=True, max_depth=30, max_features=auto, min_samples_leaf=3, n_estimators=130; total time=  13.5s\n",
            "[CV] END bootstrap=True, max_depth=30, max_features=auto, min_samples_leaf=3, n_estimators=130; total time=  13.4s\n",
            "[CV] END bootstrap=True, max_depth=30, max_features=auto, min_samples_leaf=3, n_estimators=140; total time=  14.5s\n",
            "[CV] END bootstrap=True, max_depth=30, max_features=auto, min_samples_leaf=3, n_estimators=140; total time=  14.5s\n",
            "[CV] END bootstrap=True, max_depth=30, max_features=auto, min_samples_leaf=3, n_estimators=140; total time=  14.5s\n",
            "[CV] END bootstrap=True, max_depth=30, max_features=auto, min_samples_leaf=3, n_estimators=140; total time=  14.5s\n",
            "[CV] END bootstrap=True, max_depth=30, max_features=auto, min_samples_leaf=3, n_estimators=140; total time=  14.5s\n",
            "[CV] END bootstrap=True, max_depth=30, max_features=auto, min_samples_leaf=4, n_estimators=120; total time=  11.7s\n",
            "[CV] END bootstrap=True, max_depth=30, max_features=auto, min_samples_leaf=4, n_estimators=120; total time=  11.7s\n",
            "[CV] END bootstrap=True, max_depth=30, max_features=auto, min_samples_leaf=4, n_estimators=120; total time=  11.7s\n",
            "[CV] END bootstrap=True, max_depth=30, max_features=auto, min_samples_leaf=4, n_estimators=120; total time=  11.7s\n",
            "[CV] END bootstrap=True, max_depth=30, max_features=auto, min_samples_leaf=4, n_estimators=120; total time=  11.7s\n",
            "[CV] END bootstrap=True, max_depth=30, max_features=auto, min_samples_leaf=4, n_estimators=122; total time=  11.9s\n",
            "[CV] END bootstrap=True, max_depth=30, max_features=auto, min_samples_leaf=4, n_estimators=122; total time=  11.9s\n",
            "[CV] END bootstrap=True, max_depth=30, max_features=auto, min_samples_leaf=4, n_estimators=122; total time=  11.9s\n",
            "[CV] END bootstrap=True, max_depth=30, max_features=auto, min_samples_leaf=4, n_estimators=122; total time=  12.0s\n",
            "[CV] END bootstrap=True, max_depth=30, max_features=auto, min_samples_leaf=4, n_estimators=122; total time=  11.9s\n",
            "[CV] END bootstrap=True, max_depth=30, max_features=auto, min_samples_leaf=4, n_estimators=125; total time=  12.2s\n",
            "[CV] END bootstrap=True, max_depth=30, max_features=auto, min_samples_leaf=4, n_estimators=125; total time=  12.2s\n",
            "[CV] END bootstrap=True, max_depth=30, max_features=auto, min_samples_leaf=4, n_estimators=125; total time=  12.2s\n",
            "[CV] END bootstrap=True, max_depth=30, max_features=auto, min_samples_leaf=4, n_estimators=125; total time=  12.2s\n",
            "[CV] END bootstrap=True, max_depth=30, max_features=auto, min_samples_leaf=4, n_estimators=125; total time=  12.2s\n",
            "[CV] END bootstrap=True, max_depth=30, max_features=auto, min_samples_leaf=4, n_estimators=130; total time=  12.7s\n",
            "[CV] END bootstrap=True, max_depth=30, max_features=auto, min_samples_leaf=4, n_estimators=130; total time=  12.7s\n",
            "[CV] END bootstrap=True, max_depth=30, max_features=auto, min_samples_leaf=4, n_estimators=130; total time=  12.7s\n",
            "[CV] END bootstrap=True, max_depth=30, max_features=auto, min_samples_leaf=4, n_estimators=130; total time=  12.8s\n",
            "[CV] END bootstrap=True, max_depth=30, max_features=auto, min_samples_leaf=4, n_estimators=130; total time=  12.7s\n",
            "[CV] END bootstrap=True, max_depth=30, max_features=auto, min_samples_leaf=4, n_estimators=140; total time=  13.6s\n",
            "[CV] END bootstrap=True, max_depth=30, max_features=auto, min_samples_leaf=4, n_estimators=140; total time=  13.6s\n",
            "[CV] END bootstrap=True, max_depth=30, max_features=auto, min_samples_leaf=4, n_estimators=140; total time=  13.7s\n",
            "[CV] END bootstrap=True, max_depth=30, max_features=auto, min_samples_leaf=4, n_estimators=140; total time=  13.7s\n",
            "[CV] END bootstrap=True, max_depth=30, max_features=auto, min_samples_leaf=4, n_estimators=140; total time=  13.6s\n",
            "[CV] END bootstrap=True, max_depth=30, max_features=auto, min_samples_leaf=5, n_estimators=120; total time=  11.2s\n",
            "[CV] END bootstrap=True, max_depth=30, max_features=auto, min_samples_leaf=5, n_estimators=120; total time=  11.2s\n",
            "[CV] END bootstrap=True, max_depth=30, max_features=auto, min_samples_leaf=5, n_estimators=120; total time=  11.2s\n",
            "[CV] END bootstrap=True, max_depth=30, max_features=auto, min_samples_leaf=5, n_estimators=120; total time=  11.2s\n",
            "[CV] END bootstrap=True, max_depth=30, max_features=auto, min_samples_leaf=5, n_estimators=120; total time=  11.2s\n",
            "[CV] END bootstrap=True, max_depth=30, max_features=auto, min_samples_leaf=5, n_estimators=122; total time=  11.4s\n",
            "[CV] END bootstrap=True, max_depth=30, max_features=auto, min_samples_leaf=5, n_estimators=122; total time=  11.4s\n",
            "[CV] END bootstrap=True, max_depth=30, max_features=auto, min_samples_leaf=5, n_estimators=122; total time=  11.4s\n",
            "[CV] END bootstrap=True, max_depth=30, max_features=auto, min_samples_leaf=5, n_estimators=122; total time=  11.4s\n",
            "[CV] END bootstrap=True, max_depth=30, max_features=auto, min_samples_leaf=5, n_estimators=122; total time=  11.4s\n",
            "[CV] END bootstrap=True, max_depth=30, max_features=auto, min_samples_leaf=5, n_estimators=125; total time=  11.7s\n",
            "[CV] END bootstrap=True, max_depth=30, max_features=auto, min_samples_leaf=5, n_estimators=125; total time=  11.7s\n",
            "[CV] END bootstrap=True, max_depth=30, max_features=auto, min_samples_leaf=5, n_estimators=125; total time=  11.7s\n",
            "[CV] END bootstrap=True, max_depth=30, max_features=auto, min_samples_leaf=5, n_estimators=125; total time=  11.7s\n",
            "[CV] END bootstrap=True, max_depth=30, max_features=auto, min_samples_leaf=5, n_estimators=125; total time=  11.7s\n",
            "[CV] END bootstrap=True, max_depth=30, max_features=auto, min_samples_leaf=5, n_estimators=130; total time=  12.1s\n",
            "[CV] END bootstrap=True, max_depth=30, max_features=auto, min_samples_leaf=5, n_estimators=130; total time=  12.2s\n",
            "[CV] END bootstrap=True, max_depth=30, max_features=auto, min_samples_leaf=5, n_estimators=130; total time=  12.2s\n",
            "[CV] END bootstrap=True, max_depth=30, max_features=auto, min_samples_leaf=5, n_estimators=130; total time=  12.2s\n",
            "[CV] END bootstrap=True, max_depth=30, max_features=auto, min_samples_leaf=5, n_estimators=130; total time=  12.2s\n",
            "[CV] END bootstrap=True, max_depth=30, max_features=auto, min_samples_leaf=5, n_estimators=140; total time=  13.1s\n",
            "[CV] END bootstrap=True, max_depth=30, max_features=auto, min_samples_leaf=5, n_estimators=140; total time=  13.1s\n",
            "[CV] END bootstrap=True, max_depth=30, max_features=auto, min_samples_leaf=5, n_estimators=140; total time=  13.1s\n",
            "[CV] END bootstrap=True, max_depth=30, max_features=auto, min_samples_leaf=5, n_estimators=140; total time=  13.1s\n",
            "[CV] END bootstrap=True, max_depth=30, max_features=auto, min_samples_leaf=5, n_estimators=140; total time=  13.1s\n",
            "[CV] END bootstrap=True, max_depth=30, max_features=sqrt, min_samples_leaf=3, n_estimators=120; total time=   4.1s\n",
            "[CV] END bootstrap=True, max_depth=30, max_features=sqrt, min_samples_leaf=3, n_estimators=120; total time=   4.1s\n",
            "[CV] END bootstrap=True, max_depth=30, max_features=sqrt, min_samples_leaf=3, n_estimators=120; total time=   4.2s\n",
            "[CV] END bootstrap=True, max_depth=30, max_features=sqrt, min_samples_leaf=3, n_estimators=120; total time=   4.1s\n",
            "[CV] END bootstrap=True, max_depth=30, max_features=sqrt, min_samples_leaf=3, n_estimators=120; total time=   4.1s\n",
            "[CV] END bootstrap=True, max_depth=30, max_features=sqrt, min_samples_leaf=3, n_estimators=122; total time=   4.2s\n",
            "[CV] END bootstrap=True, max_depth=30, max_features=sqrt, min_samples_leaf=3, n_estimators=122; total time=   4.2s\n",
            "[CV] END bootstrap=True, max_depth=30, max_features=sqrt, min_samples_leaf=3, n_estimators=122; total time=   4.2s\n",
            "[CV] END bootstrap=True, max_depth=30, max_features=sqrt, min_samples_leaf=3, n_estimators=122; total time=   4.2s\n",
            "[CV] END bootstrap=True, max_depth=30, max_features=sqrt, min_samples_leaf=3, n_estimators=122; total time=   4.2s\n",
            "[CV] END bootstrap=True, max_depth=30, max_features=sqrt, min_samples_leaf=3, n_estimators=125; total time=   4.3s\n",
            "[CV] END bootstrap=True, max_depth=30, max_features=sqrt, min_samples_leaf=3, n_estimators=125; total time=   4.3s\n",
            "[CV] END bootstrap=True, max_depth=30, max_features=sqrt, min_samples_leaf=3, n_estimators=125; total time=   4.3s\n",
            "[CV] END bootstrap=True, max_depth=30, max_features=sqrt, min_samples_leaf=3, n_estimators=125; total time=   4.3s\n",
            "[CV] END bootstrap=True, max_depth=30, max_features=sqrt, min_samples_leaf=3, n_estimators=125; total time=   4.3s\n",
            "[CV] END bootstrap=True, max_depth=30, max_features=sqrt, min_samples_leaf=3, n_estimators=130; total time=   4.4s\n",
            "[CV] END bootstrap=True, max_depth=30, max_features=sqrt, min_samples_leaf=3, n_estimators=130; total time=   4.5s\n",
            "[CV] END bootstrap=True, max_depth=30, max_features=sqrt, min_samples_leaf=3, n_estimators=130; total time=   4.5s\n",
            "[CV] END bootstrap=True, max_depth=30, max_features=sqrt, min_samples_leaf=3, n_estimators=130; total time=   4.5s\n",
            "[CV] END bootstrap=True, max_depth=30, max_features=sqrt, min_samples_leaf=3, n_estimators=130; total time=   4.5s\n",
            "[CV] END bootstrap=True, max_depth=30, max_features=sqrt, min_samples_leaf=3, n_estimators=140; total time=   4.8s\n",
            "[CV] END bootstrap=True, max_depth=30, max_features=sqrt, min_samples_leaf=3, n_estimators=140; total time=   4.8s\n",
            "[CV] END bootstrap=True, max_depth=30, max_features=sqrt, min_samples_leaf=3, n_estimators=140; total time=   4.9s\n",
            "[CV] END bootstrap=True, max_depth=30, max_features=sqrt, min_samples_leaf=3, n_estimators=140; total time=   4.8s\n",
            "[CV] END bootstrap=True, max_depth=30, max_features=sqrt, min_samples_leaf=3, n_estimators=140; total time=   4.8s\n",
            "[CV] END bootstrap=True, max_depth=30, max_features=sqrt, min_samples_leaf=4, n_estimators=120; total time=   3.8s\n",
            "[CV] END bootstrap=True, max_depth=30, max_features=sqrt, min_samples_leaf=4, n_estimators=120; total time=   3.9s\n",
            "[CV] END bootstrap=True, max_depth=30, max_features=sqrt, min_samples_leaf=4, n_estimators=120; total time=   3.9s\n",
            "[CV] END bootstrap=True, max_depth=30, max_features=sqrt, min_samples_leaf=4, n_estimators=120; total time=   3.9s\n",
            "[CV] END bootstrap=True, max_depth=30, max_features=sqrt, min_samples_leaf=4, n_estimators=120; total time=   3.9s\n",
            "[CV] END bootstrap=True, max_depth=30, max_features=sqrt, min_samples_leaf=4, n_estimators=122; total time=   3.9s\n",
            "[CV] END bootstrap=True, max_depth=30, max_features=sqrt, min_samples_leaf=4, n_estimators=122; total time=   3.9s\n",
            "[CV] END bootstrap=True, max_depth=30, max_features=sqrt, min_samples_leaf=4, n_estimators=122; total time=   3.9s\n",
            "[CV] END bootstrap=True, max_depth=30, max_features=sqrt, min_samples_leaf=4, n_estimators=122; total time=   4.0s\n",
            "[CV] END bootstrap=True, max_depth=30, max_features=sqrt, min_samples_leaf=4, n_estimators=122; total time=   4.0s\n",
            "[CV] END bootstrap=True, max_depth=30, max_features=sqrt, min_samples_leaf=4, n_estimators=125; total time=   4.0s\n",
            "[CV] END bootstrap=True, max_depth=30, max_features=sqrt, min_samples_leaf=4, n_estimators=125; total time=   4.0s\n",
            "[CV] END bootstrap=True, max_depth=30, max_features=sqrt, min_samples_leaf=4, n_estimators=125; total time=   4.0s\n",
            "[CV] END bootstrap=True, max_depth=30, max_features=sqrt, min_samples_leaf=4, n_estimators=125; total time=   4.0s\n",
            "[CV] END bootstrap=True, max_depth=30, max_features=sqrt, min_samples_leaf=4, n_estimators=125; total time=   4.1s\n",
            "[CV] END bootstrap=True, max_depth=30, max_features=sqrt, min_samples_leaf=4, n_estimators=130; total time=   4.2s\n",
            "[CV] END bootstrap=True, max_depth=30, max_features=sqrt, min_samples_leaf=4, n_estimators=130; total time=   4.2s\n",
            "[CV] END bootstrap=True, max_depth=30, max_features=sqrt, min_samples_leaf=4, n_estimators=130; total time=   4.2s\n",
            "[CV] END bootstrap=True, max_depth=30, max_features=sqrt, min_samples_leaf=4, n_estimators=130; total time=   4.2s\n",
            "[CV] END bootstrap=True, max_depth=30, max_features=sqrt, min_samples_leaf=4, n_estimators=130; total time=   4.2s\n",
            "[CV] END bootstrap=True, max_depth=30, max_features=sqrt, min_samples_leaf=4, n_estimators=140; total time=   4.5s\n",
            "[CV] END bootstrap=True, max_depth=30, max_features=sqrt, min_samples_leaf=4, n_estimators=140; total time=   4.5s\n",
            "[CV] END bootstrap=True, max_depth=30, max_features=sqrt, min_samples_leaf=4, n_estimators=140; total time=   4.5s\n",
            "[CV] END bootstrap=True, max_depth=30, max_features=sqrt, min_samples_leaf=4, n_estimators=140; total time=   4.5s\n",
            "[CV] END bootstrap=True, max_depth=30, max_features=sqrt, min_samples_leaf=4, n_estimators=140; total time=   4.5s\n",
            "[CV] END bootstrap=True, max_depth=30, max_features=sqrt, min_samples_leaf=5, n_estimators=120; total time=   3.7s\n",
            "[CV] END bootstrap=True, max_depth=30, max_features=sqrt, min_samples_leaf=5, n_estimators=120; total time=   3.7s\n",
            "[CV] END bootstrap=True, max_depth=30, max_features=sqrt, min_samples_leaf=5, n_estimators=120; total time=   3.7s\n",
            "[CV] END bootstrap=True, max_depth=30, max_features=sqrt, min_samples_leaf=5, n_estimators=120; total time=   3.7s\n",
            "[CV] END bootstrap=True, max_depth=30, max_features=sqrt, min_samples_leaf=5, n_estimators=120; total time=   3.7s\n",
            "[CV] END bootstrap=True, max_depth=30, max_features=sqrt, min_samples_leaf=5, n_estimators=122; total time=   3.8s\n",
            "[CV] END bootstrap=True, max_depth=30, max_features=sqrt, min_samples_leaf=5, n_estimators=122; total time=   3.8s\n",
            "[CV] END bootstrap=True, max_depth=30, max_features=sqrt, min_samples_leaf=5, n_estimators=122; total time=   3.7s\n",
            "[CV] END bootstrap=True, max_depth=30, max_features=sqrt, min_samples_leaf=5, n_estimators=122; total time=   3.7s\n",
            "[CV] END bootstrap=True, max_depth=30, max_features=sqrt, min_samples_leaf=5, n_estimators=122; total time=   3.8s\n",
            "[CV] END bootstrap=True, max_depth=30, max_features=sqrt, min_samples_leaf=5, n_estimators=125; total time=   3.9s\n",
            "[CV] END bootstrap=True, max_depth=30, max_features=sqrt, min_samples_leaf=5, n_estimators=125; total time=   3.9s\n",
            "[CV] END bootstrap=True, max_depth=30, max_features=sqrt, min_samples_leaf=5, n_estimators=125; total time=   3.8s\n",
            "[CV] END bootstrap=True, max_depth=30, max_features=sqrt, min_samples_leaf=5, n_estimators=125; total time=   3.8s\n",
            "[CV] END bootstrap=True, max_depth=30, max_features=sqrt, min_samples_leaf=5, n_estimators=125; total time=   3.9s\n",
            "[CV] END bootstrap=True, max_depth=30, max_features=sqrt, min_samples_leaf=5, n_estimators=130; total time=   4.0s\n",
            "[CV] END bootstrap=True, max_depth=30, max_features=sqrt, min_samples_leaf=5, n_estimators=130; total time=   4.0s\n",
            "[CV] END bootstrap=True, max_depth=30, max_features=sqrt, min_samples_leaf=5, n_estimators=130; total time=   4.0s\n",
            "[CV] END bootstrap=True, max_depth=30, max_features=sqrt, min_samples_leaf=5, n_estimators=130; total time=   4.0s\n",
            "[CV] END bootstrap=True, max_depth=30, max_features=sqrt, min_samples_leaf=5, n_estimators=130; total time=   4.0s\n",
            "[CV] END bootstrap=True, max_depth=30, max_features=sqrt, min_samples_leaf=5, n_estimators=140; total time=   4.3s\n",
            "[CV] END bootstrap=True, max_depth=30, max_features=sqrt, min_samples_leaf=5, n_estimators=140; total time=   4.3s\n",
            "[CV] END bootstrap=True, max_depth=30, max_features=sqrt, min_samples_leaf=5, n_estimators=140; total time=   4.3s\n",
            "[CV] END bootstrap=True, max_depth=30, max_features=sqrt, min_samples_leaf=5, n_estimators=140; total time=   4.3s\n",
            "[CV] END bootstrap=True, max_depth=30, max_features=sqrt, min_samples_leaf=5, n_estimators=140; total time=   4.3s\n",
            "[CV] END bootstrap=True, max_depth=40, max_features=auto, min_samples_leaf=3, n_estimators=120; total time=  12.4s\n",
            "[CV] END bootstrap=True, max_depth=40, max_features=auto, min_samples_leaf=3, n_estimators=120; total time=  12.4s\n",
            "[CV] END bootstrap=True, max_depth=40, max_features=auto, min_samples_leaf=3, n_estimators=120; total time=  12.5s\n",
            "[CV] END bootstrap=True, max_depth=40, max_features=auto, min_samples_leaf=3, n_estimators=120; total time=  12.5s\n",
            "[CV] END bootstrap=True, max_depth=40, max_features=auto, min_samples_leaf=3, n_estimators=120; total time=  12.5s\n",
            "[CV] END bootstrap=True, max_depth=40, max_features=auto, min_samples_leaf=3, n_estimators=122; total time=  12.6s\n",
            "[CV] END bootstrap=True, max_depth=40, max_features=auto, min_samples_leaf=3, n_estimators=122; total time=  12.6s\n",
            "[CV] END bootstrap=True, max_depth=40, max_features=auto, min_samples_leaf=3, n_estimators=122; total time=  12.6s\n",
            "[CV] END bootstrap=True, max_depth=40, max_features=auto, min_samples_leaf=3, n_estimators=122; total time=  12.7s\n",
            "[CV] END bootstrap=True, max_depth=40, max_features=auto, min_samples_leaf=3, n_estimators=122; total time=  12.7s\n",
            "[CV] END bootstrap=True, max_depth=40, max_features=auto, min_samples_leaf=3, n_estimators=125; total time=  12.9s\n",
            "[CV] END bootstrap=True, max_depth=40, max_features=auto, min_samples_leaf=3, n_estimators=125; total time=  12.9s\n",
            "[CV] END bootstrap=True, max_depth=40, max_features=auto, min_samples_leaf=3, n_estimators=125; total time=  13.0s\n",
            "[CV] END bootstrap=True, max_depth=40, max_features=auto, min_samples_leaf=3, n_estimators=125; total time=  13.0s\n",
            "[CV] END bootstrap=True, max_depth=40, max_features=auto, min_samples_leaf=3, n_estimators=125; total time=  13.0s\n",
            "[CV] END bootstrap=True, max_depth=40, max_features=auto, min_samples_leaf=3, n_estimators=130; total time=  13.5s\n",
            "[CV] END bootstrap=True, max_depth=40, max_features=auto, min_samples_leaf=3, n_estimators=130; total time=  13.5s\n",
            "[CV] END bootstrap=True, max_depth=40, max_features=auto, min_samples_leaf=3, n_estimators=130; total time=  13.5s\n",
            "[CV] END bootstrap=True, max_depth=40, max_features=auto, min_samples_leaf=3, n_estimators=130; total time=  13.5s\n",
            "[CV] END bootstrap=True, max_depth=40, max_features=auto, min_samples_leaf=3, n_estimators=130; total time=  13.5s\n",
            "[CV] END bootstrap=True, max_depth=40, max_features=auto, min_samples_leaf=3, n_estimators=140; total time=  14.5s\n",
            "[CV] END bootstrap=True, max_depth=40, max_features=auto, min_samples_leaf=3, n_estimators=140; total time=  14.5s\n",
            "[CV] END bootstrap=True, max_depth=40, max_features=auto, min_samples_leaf=3, n_estimators=140; total time=  14.5s\n",
            "[CV] END bootstrap=True, max_depth=40, max_features=auto, min_samples_leaf=3, n_estimators=140; total time=  14.5s\n",
            "[CV] END bootstrap=True, max_depth=40, max_features=auto, min_samples_leaf=3, n_estimators=140; total time=  14.5s\n",
            "[CV] END bootstrap=True, max_depth=40, max_features=auto, min_samples_leaf=4, n_estimators=120; total time=  11.7s\n",
            "[CV] END bootstrap=True, max_depth=40, max_features=auto, min_samples_leaf=4, n_estimators=120; total time=  11.8s\n",
            "[CV] END bootstrap=True, max_depth=40, max_features=auto, min_samples_leaf=4, n_estimators=120; total time=  11.8s\n",
            "[CV] END bootstrap=True, max_depth=40, max_features=auto, min_samples_leaf=4, n_estimators=120; total time=  11.7s\n",
            "[CV] END bootstrap=True, max_depth=40, max_features=auto, min_samples_leaf=4, n_estimators=120; total time=  11.7s\n",
            "[CV] END bootstrap=True, max_depth=40, max_features=auto, min_samples_leaf=4, n_estimators=122; total time=  11.9s\n",
            "[CV] END bootstrap=True, max_depth=40, max_features=auto, min_samples_leaf=4, n_estimators=122; total time=  11.9s\n",
            "[CV] END bootstrap=True, max_depth=40, max_features=auto, min_samples_leaf=4, n_estimators=122; total time=  11.9s\n",
            "[CV] END bootstrap=True, max_depth=40, max_features=auto, min_samples_leaf=4, n_estimators=122; total time=  11.9s\n",
            "[CV] END bootstrap=True, max_depth=40, max_features=auto, min_samples_leaf=4, n_estimators=122; total time=  11.9s\n",
            "[CV] END bootstrap=True, max_depth=40, max_features=auto, min_samples_leaf=4, n_estimators=125; total time=  12.2s\n",
            "[CV] END bootstrap=True, max_depth=40, max_features=auto, min_samples_leaf=4, n_estimators=125; total time=  12.2s\n",
            "[CV] END bootstrap=True, max_depth=40, max_features=auto, min_samples_leaf=4, n_estimators=125; total time=  12.2s\n",
            "[CV] END bootstrap=True, max_depth=40, max_features=auto, min_samples_leaf=4, n_estimators=125; total time=  12.2s\n",
            "[CV] END bootstrap=True, max_depth=40, max_features=auto, min_samples_leaf=4, n_estimators=125; total time=  12.2s\n",
            "[CV] END bootstrap=True, max_depth=40, max_features=auto, min_samples_leaf=4, n_estimators=130; total time=  12.7s\n",
            "[CV] END bootstrap=True, max_depth=40, max_features=auto, min_samples_leaf=4, n_estimators=130; total time=  12.7s\n",
            "[CV] END bootstrap=True, max_depth=40, max_features=auto, min_samples_leaf=4, n_estimators=130; total time=  12.7s\n",
            "[CV] END bootstrap=True, max_depth=40, max_features=auto, min_samples_leaf=4, n_estimators=130; total time=  12.7s\n",
            "[CV] END bootstrap=True, max_depth=40, max_features=auto, min_samples_leaf=4, n_estimators=130; total time=  12.7s\n",
            "[CV] END bootstrap=True, max_depth=40, max_features=auto, min_samples_leaf=4, n_estimators=140; total time=  13.7s\n",
            "[CV] END bootstrap=True, max_depth=40, max_features=auto, min_samples_leaf=4, n_estimators=140; total time=  13.7s\n",
            "[CV] END bootstrap=True, max_depth=40, max_features=auto, min_samples_leaf=4, n_estimators=140; total time=  13.7s\n",
            "[CV] END bootstrap=True, max_depth=40, max_features=auto, min_samples_leaf=4, n_estimators=140; total time=  13.7s\n",
            "[CV] END bootstrap=True, max_depth=40, max_features=auto, min_samples_leaf=4, n_estimators=140; total time=  13.7s\n",
            "[CV] END bootstrap=True, max_depth=40, max_features=auto, min_samples_leaf=5, n_estimators=120; total time=  11.2s\n",
            "[CV] END bootstrap=True, max_depth=40, max_features=auto, min_samples_leaf=5, n_estimators=120; total time=  11.2s\n",
            "[CV] END bootstrap=True, max_depth=40, max_features=auto, min_samples_leaf=5, n_estimators=120; total time=  11.2s\n",
            "[CV] END bootstrap=True, max_depth=40, max_features=auto, min_samples_leaf=5, n_estimators=120; total time=  11.3s\n",
            "[CV] END bootstrap=True, max_depth=40, max_features=auto, min_samples_leaf=5, n_estimators=120; total time=  11.2s\n",
            "[CV] END bootstrap=True, max_depth=40, max_features=auto, min_samples_leaf=5, n_estimators=122; total time=  11.4s\n",
            "[CV] END bootstrap=True, max_depth=40, max_features=auto, min_samples_leaf=5, n_estimators=122; total time=  11.4s\n",
            "[CV] END bootstrap=True, max_depth=40, max_features=auto, min_samples_leaf=5, n_estimators=122; total time=  11.4s\n",
            "[CV] END bootstrap=True, max_depth=40, max_features=auto, min_samples_leaf=5, n_estimators=122; total time=  11.5s\n",
            "[CV] END bootstrap=True, max_depth=40, max_features=auto, min_samples_leaf=5, n_estimators=122; total time=  11.5s\n",
            "[CV] END bootstrap=True, max_depth=40, max_features=auto, min_samples_leaf=5, n_estimators=125; total time=  11.7s\n",
            "[CV] END bootstrap=True, max_depth=40, max_features=auto, min_samples_leaf=5, n_estimators=125; total time=  11.7s\n",
            "[CV] END bootstrap=True, max_depth=40, max_features=auto, min_samples_leaf=5, n_estimators=125; total time=  11.7s\n",
            "[CV] END bootstrap=True, max_depth=40, max_features=auto, min_samples_leaf=5, n_estimators=125; total time=  11.7s\n",
            "[CV] END bootstrap=True, max_depth=40, max_features=auto, min_samples_leaf=5, n_estimators=125; total time=  11.7s\n",
            "[CV] END bootstrap=True, max_depth=40, max_features=auto, min_samples_leaf=5, n_estimators=130; total time=  12.2s\n",
            "[CV] END bootstrap=True, max_depth=40, max_features=auto, min_samples_leaf=5, n_estimators=130; total time=  12.1s\n",
            "[CV] END bootstrap=True, max_depth=40, max_features=auto, min_samples_leaf=5, n_estimators=130; total time=  12.2s\n",
            "[CV] END bootstrap=True, max_depth=40, max_features=auto, min_samples_leaf=5, n_estimators=130; total time=  12.2s\n",
            "[CV] END bootstrap=True, max_depth=40, max_features=auto, min_samples_leaf=5, n_estimators=130; total time=  12.2s\n",
            "[CV] END bootstrap=True, max_depth=40, max_features=auto, min_samples_leaf=5, n_estimators=140; total time=  13.1s\n",
            "[CV] END bootstrap=True, max_depth=40, max_features=auto, min_samples_leaf=5, n_estimators=140; total time=  13.1s\n",
            "[CV] END bootstrap=True, max_depth=40, max_features=auto, min_samples_leaf=5, n_estimators=140; total time=  13.1s\n",
            "[CV] END bootstrap=True, max_depth=40, max_features=auto, min_samples_leaf=5, n_estimators=140; total time=  13.1s\n",
            "[CV] END bootstrap=True, max_depth=40, max_features=auto, min_samples_leaf=5, n_estimators=140; total time=  13.1s\n",
            "[CV] END bootstrap=True, max_depth=40, max_features=sqrt, min_samples_leaf=3, n_estimators=120; total time=   4.1s\n",
            "[CV] END bootstrap=True, max_depth=40, max_features=sqrt, min_samples_leaf=3, n_estimators=120; total time=   4.1s\n",
            "[CV] END bootstrap=True, max_depth=40, max_features=sqrt, min_samples_leaf=3, n_estimators=120; total time=   4.2s\n",
            "[CV] END bootstrap=True, max_depth=40, max_features=sqrt, min_samples_leaf=3, n_estimators=120; total time=   4.1s\n",
            "[CV] END bootstrap=True, max_depth=40, max_features=sqrt, min_samples_leaf=3, n_estimators=120; total time=   4.1s\n",
            "[CV] END bootstrap=True, max_depth=40, max_features=sqrt, min_samples_leaf=3, n_estimators=122; total time=   4.2s\n",
            "[CV] END bootstrap=True, max_depth=40, max_features=sqrt, min_samples_leaf=3, n_estimators=122; total time=   4.2s\n",
            "[CV] END bootstrap=True, max_depth=40, max_features=sqrt, min_samples_leaf=3, n_estimators=122; total time=   4.2s\n",
            "[CV] END bootstrap=True, max_depth=40, max_features=sqrt, min_samples_leaf=3, n_estimators=122; total time=   4.2s\n",
            "[CV] END bootstrap=True, max_depth=40, max_features=sqrt, min_samples_leaf=3, n_estimators=122; total time=   4.2s\n",
            "[CV] END bootstrap=True, max_depth=40, max_features=sqrt, min_samples_leaf=3, n_estimators=125; total time=   4.3s\n",
            "[CV] END bootstrap=True, max_depth=40, max_features=sqrt, min_samples_leaf=3, n_estimators=125; total time=   4.3s\n",
            "[CV] END bootstrap=True, max_depth=40, max_features=sqrt, min_samples_leaf=3, n_estimators=125; total time=   4.3s\n",
            "[CV] END bootstrap=True, max_depth=40, max_features=sqrt, min_samples_leaf=3, n_estimators=125; total time=   4.3s\n",
            "[CV] END bootstrap=True, max_depth=40, max_features=sqrt, min_samples_leaf=3, n_estimators=125; total time=   4.3s\n",
            "[CV] END bootstrap=True, max_depth=40, max_features=sqrt, min_samples_leaf=3, n_estimators=130; total time=   4.5s\n",
            "[CV] END bootstrap=True, max_depth=40, max_features=sqrt, min_samples_leaf=3, n_estimators=130; total time=   4.5s\n",
            "[CV] END bootstrap=True, max_depth=40, max_features=sqrt, min_samples_leaf=3, n_estimators=130; total time=   4.5s\n",
            "[CV] END bootstrap=True, max_depth=40, max_features=sqrt, min_samples_leaf=3, n_estimators=130; total time=   4.5s\n",
            "[CV] END bootstrap=True, max_depth=40, max_features=sqrt, min_samples_leaf=3, n_estimators=130; total time=   4.5s\n",
            "[CV] END bootstrap=True, max_depth=40, max_features=sqrt, min_samples_leaf=3, n_estimators=140; total time=   4.8s\n",
            "[CV] END bootstrap=True, max_depth=40, max_features=sqrt, min_samples_leaf=3, n_estimators=140; total time=   4.9s\n",
            "[CV] END bootstrap=True, max_depth=40, max_features=sqrt, min_samples_leaf=3, n_estimators=140; total time=   5.0s\n",
            "[CV] END bootstrap=True, max_depth=40, max_features=sqrt, min_samples_leaf=3, n_estimators=140; total time=   4.8s\n",
            "[CV] END bootstrap=True, max_depth=40, max_features=sqrt, min_samples_leaf=3, n_estimators=140; total time=   4.8s\n",
            "[CV] END bootstrap=True, max_depth=40, max_features=sqrt, min_samples_leaf=4, n_estimators=120; total time=   3.9s\n",
            "[CV] END bootstrap=True, max_depth=40, max_features=sqrt, min_samples_leaf=4, n_estimators=120; total time=   3.8s\n",
            "[CV] END bootstrap=True, max_depth=40, max_features=sqrt, min_samples_leaf=4, n_estimators=120; total time=   3.9s\n",
            "[CV] END bootstrap=True, max_depth=40, max_features=sqrt, min_samples_leaf=4, n_estimators=120; total time=   3.9s\n",
            "[CV] END bootstrap=True, max_depth=40, max_features=sqrt, min_samples_leaf=4, n_estimators=120; total time=   3.9s\n",
            "[CV] END bootstrap=True, max_depth=40, max_features=sqrt, min_samples_leaf=4, n_estimators=122; total time=   3.9s\n",
            "[CV] END bootstrap=True, max_depth=40, max_features=sqrt, min_samples_leaf=4, n_estimators=122; total time=   3.9s\n",
            "[CV] END bootstrap=True, max_depth=40, max_features=sqrt, min_samples_leaf=4, n_estimators=122; total time=   3.9s\n",
            "[CV] END bootstrap=True, max_depth=40, max_features=sqrt, min_samples_leaf=4, n_estimators=122; total time=   3.9s\n",
            "[CV] END bootstrap=True, max_depth=40, max_features=sqrt, min_samples_leaf=4, n_estimators=122; total time=   4.0s\n",
            "[CV] END bootstrap=True, max_depth=40, max_features=sqrt, min_samples_leaf=4, n_estimators=125; total time=   4.0s\n",
            "[CV] END bootstrap=True, max_depth=40, max_features=sqrt, min_samples_leaf=4, n_estimators=125; total time=   4.0s\n",
            "[CV] END bootstrap=True, max_depth=40, max_features=sqrt, min_samples_leaf=4, n_estimators=125; total time=   4.0s\n",
            "[CV] END bootstrap=True, max_depth=40, max_features=sqrt, min_samples_leaf=4, n_estimators=125; total time=   4.0s\n",
            "[CV] END bootstrap=True, max_depth=40, max_features=sqrt, min_samples_leaf=4, n_estimators=125; total time=   4.1s\n",
            "[CV] END bootstrap=True, max_depth=40, max_features=sqrt, min_samples_leaf=4, n_estimators=130; total time=   4.2s\n",
            "[CV] END bootstrap=True, max_depth=40, max_features=sqrt, min_samples_leaf=4, n_estimators=130; total time=   4.2s\n",
            "[CV] END bootstrap=True, max_depth=40, max_features=sqrt, min_samples_leaf=4, n_estimators=130; total time=   4.2s\n",
            "[CV] END bootstrap=True, max_depth=40, max_features=sqrt, min_samples_leaf=4, n_estimators=130; total time=   4.2s\n",
            "[CV] END bootstrap=True, max_depth=40, max_features=sqrt, min_samples_leaf=4, n_estimators=130; total time=   4.2s\n",
            "[CV] END bootstrap=True, max_depth=40, max_features=sqrt, min_samples_leaf=4, n_estimators=140; total time=   4.5s\n",
            "[CV] END bootstrap=True, max_depth=40, max_features=sqrt, min_samples_leaf=4, n_estimators=140; total time=   4.5s\n",
            "[CV] END bootstrap=True, max_depth=40, max_features=sqrt, min_samples_leaf=4, n_estimators=140; total time=   4.6s\n",
            "[CV] END bootstrap=True, max_depth=40, max_features=sqrt, min_samples_leaf=4, n_estimators=140; total time=   4.6s\n",
            "[CV] END bootstrap=True, max_depth=40, max_features=sqrt, min_samples_leaf=4, n_estimators=140; total time=   4.6s\n",
            "[CV] END bootstrap=True, max_depth=40, max_features=sqrt, min_samples_leaf=5, n_estimators=120; total time=   3.8s\n",
            "[CV] END bootstrap=True, max_depth=40, max_features=sqrt, min_samples_leaf=5, n_estimators=120; total time=   3.8s\n",
            "[CV] END bootstrap=True, max_depth=40, max_features=sqrt, min_samples_leaf=5, n_estimators=120; total time=   3.7s\n",
            "[CV] END bootstrap=True, max_depth=40, max_features=sqrt, min_samples_leaf=5, n_estimators=120; total time=   3.7s\n",
            "[CV] END bootstrap=True, max_depth=40, max_features=sqrt, min_samples_leaf=5, n_estimators=120; total time=   3.7s\n",
            "[CV] END bootstrap=True, max_depth=40, max_features=sqrt, min_samples_leaf=5, n_estimators=122; total time=   3.8s\n",
            "[CV] END bootstrap=True, max_depth=40, max_features=sqrt, min_samples_leaf=5, n_estimators=122; total time=   3.8s\n",
            "[CV] END bootstrap=True, max_depth=40, max_features=sqrt, min_samples_leaf=5, n_estimators=122; total time=   3.7s\n",
            "[CV] END bootstrap=True, max_depth=40, max_features=sqrt, min_samples_leaf=5, n_estimators=122; total time=   3.8s\n",
            "[CV] END bootstrap=True, max_depth=40, max_features=sqrt, min_samples_leaf=5, n_estimators=122; total time=   3.8s\n",
            "[CV] END bootstrap=True, max_depth=40, max_features=sqrt, min_samples_leaf=5, n_estimators=125; total time=   3.9s\n",
            "[CV] END bootstrap=True, max_depth=40, max_features=sqrt, min_samples_leaf=5, n_estimators=125; total time=   3.9s\n",
            "[CV] END bootstrap=True, max_depth=40, max_features=sqrt, min_samples_leaf=5, n_estimators=125; total time=   3.8s\n",
            "[CV] END bootstrap=True, max_depth=40, max_features=sqrt, min_samples_leaf=5, n_estimators=125; total time=   3.9s\n",
            "[CV] END bootstrap=True, max_depth=40, max_features=sqrt, min_samples_leaf=5, n_estimators=125; total time=   3.9s\n",
            "[CV] END bootstrap=True, max_depth=40, max_features=sqrt, min_samples_leaf=5, n_estimators=130; total time=   4.0s\n",
            "[CV] END bootstrap=True, max_depth=40, max_features=sqrt, min_samples_leaf=5, n_estimators=130; total time=   4.1s\n",
            "[CV] END bootstrap=True, max_depth=40, max_features=sqrt, min_samples_leaf=5, n_estimators=130; total time=   4.0s\n",
            "[CV] END bootstrap=True, max_depth=40, max_features=sqrt, min_samples_leaf=5, n_estimators=130; total time=   4.0s\n",
            "[CV] END bootstrap=True, max_depth=40, max_features=sqrt, min_samples_leaf=5, n_estimators=130; total time=   4.1s\n",
            "[CV] END bootstrap=True, max_depth=40, max_features=sqrt, min_samples_leaf=5, n_estimators=140; total time=   4.3s\n",
            "[CV] END bootstrap=True, max_depth=40, max_features=sqrt, min_samples_leaf=5, n_estimators=140; total time=   4.4s\n",
            "[CV] END bootstrap=True, max_depth=40, max_features=sqrt, min_samples_leaf=5, n_estimators=140; total time=   4.3s\n",
            "[CV] END bootstrap=True, max_depth=40, max_features=sqrt, min_samples_leaf=5, n_estimators=140; total time=   4.3s\n",
            "[CV] END bootstrap=True, max_depth=40, max_features=sqrt, min_samples_leaf=5, n_estimators=140; total time=   4.4s\n",
            "[CV] END bootstrap=True, max_depth=50, max_features=auto, min_samples_leaf=3, n_estimators=120; total time=  12.4s\n",
            "[CV] END bootstrap=True, max_depth=50, max_features=auto, min_samples_leaf=3, n_estimators=120; total time=  12.5s\n",
            "[CV] END bootstrap=True, max_depth=50, max_features=auto, min_samples_leaf=3, n_estimators=120; total time=  12.5s\n",
            "[CV] END bootstrap=True, max_depth=50, max_features=auto, min_samples_leaf=3, n_estimators=120; total time=  12.5s\n",
            "[CV] END bootstrap=True, max_depth=50, max_features=auto, min_samples_leaf=3, n_estimators=120; total time=  12.5s\n",
            "[CV] END bootstrap=True, max_depth=50, max_features=auto, min_samples_leaf=3, n_estimators=122; total time=  12.7s\n",
            "[CV] END bootstrap=True, max_depth=50, max_features=auto, min_samples_leaf=3, n_estimators=122; total time=  12.6s\n",
            "[CV] END bootstrap=True, max_depth=50, max_features=auto, min_samples_leaf=3, n_estimators=122; total time=  12.7s\n",
            "[CV] END bootstrap=True, max_depth=50, max_features=auto, min_samples_leaf=3, n_estimators=122; total time=  12.7s\n",
            "[CV] END bootstrap=True, max_depth=50, max_features=auto, min_samples_leaf=3, n_estimators=122; total time=  12.7s\n",
            "[CV] END bootstrap=True, max_depth=50, max_features=auto, min_samples_leaf=3, n_estimators=125; total time=  13.0s\n",
            "[CV] END bootstrap=True, max_depth=50, max_features=auto, min_samples_leaf=3, n_estimators=125; total time=  13.0s\n",
            "[CV] END bootstrap=True, max_depth=50, max_features=auto, min_samples_leaf=3, n_estimators=125; total time=  13.0s\n",
            "[CV] END bootstrap=True, max_depth=50, max_features=auto, min_samples_leaf=3, n_estimators=125; total time=  13.0s\n",
            "[CV] END bootstrap=True, max_depth=50, max_features=auto, min_samples_leaf=3, n_estimators=125; total time=  13.0s\n",
            "[CV] END bootstrap=True, max_depth=50, max_features=auto, min_samples_leaf=3, n_estimators=130; total time=  13.5s\n",
            "[CV] END bootstrap=True, max_depth=50, max_features=auto, min_samples_leaf=3, n_estimators=130; total time=  13.5s\n",
            "[CV] END bootstrap=True, max_depth=50, max_features=auto, min_samples_leaf=3, n_estimators=130; total time=  13.5s\n",
            "[CV] END bootstrap=True, max_depth=50, max_features=auto, min_samples_leaf=3, n_estimators=130; total time=  13.5s\n",
            "[CV] END bootstrap=True, max_depth=50, max_features=auto, min_samples_leaf=3, n_estimators=130; total time=  13.5s\n",
            "[CV] END bootstrap=True, max_depth=50, max_features=auto, min_samples_leaf=3, n_estimators=140; total time=  14.5s\n",
            "[CV] END bootstrap=True, max_depth=50, max_features=auto, min_samples_leaf=3, n_estimators=140; total time=  14.5s\n",
            "[CV] END bootstrap=True, max_depth=50, max_features=auto, min_samples_leaf=3, n_estimators=140; total time=  14.6s\n",
            "[CV] END bootstrap=True, max_depth=50, max_features=auto, min_samples_leaf=3, n_estimators=140; total time=  14.5s\n",
            "[CV] END bootstrap=True, max_depth=50, max_features=auto, min_samples_leaf=3, n_estimators=140; total time=  14.5s\n",
            "[CV] END bootstrap=True, max_depth=50, max_features=auto, min_samples_leaf=4, n_estimators=120; total time=  11.7s\n",
            "[CV] END bootstrap=True, max_depth=50, max_features=auto, min_samples_leaf=4, n_estimators=120; total time=  11.7s\n",
            "[CV] END bootstrap=True, max_depth=50, max_features=auto, min_samples_leaf=4, n_estimators=120; total time=  11.7s\n",
            "[CV] END bootstrap=True, max_depth=50, max_features=auto, min_samples_leaf=4, n_estimators=120; total time=  11.7s\n",
            "[CV] END bootstrap=True, max_depth=50, max_features=auto, min_samples_leaf=4, n_estimators=120; total time=  11.7s\n",
            "[CV] END bootstrap=True, max_depth=50, max_features=auto, min_samples_leaf=4, n_estimators=122; total time=  11.9s\n",
            "[CV] END bootstrap=True, max_depth=50, max_features=auto, min_samples_leaf=4, n_estimators=122; total time=  11.8s\n",
            "[CV] END bootstrap=True, max_depth=50, max_features=auto, min_samples_leaf=4, n_estimators=122; total time=  11.9s\n",
            "[CV] END bootstrap=True, max_depth=50, max_features=auto, min_samples_leaf=4, n_estimators=122; total time=  11.9s\n",
            "[CV] END bootstrap=True, max_depth=50, max_features=auto, min_samples_leaf=4, n_estimators=122; total time=  11.9s\n",
            "[CV] END bootstrap=True, max_depth=50, max_features=auto, min_samples_leaf=4, n_estimators=125; total time=  12.2s\n",
            "[CV] END bootstrap=True, max_depth=50, max_features=auto, min_samples_leaf=4, n_estimators=125; total time=  12.2s\n",
            "[CV] END bootstrap=True, max_depth=50, max_features=auto, min_samples_leaf=4, n_estimators=125; total time=  12.2s\n",
            "[CV] END bootstrap=True, max_depth=50, max_features=auto, min_samples_leaf=4, n_estimators=125; total time=  12.2s\n",
            "[CV] END bootstrap=True, max_depth=50, max_features=auto, min_samples_leaf=4, n_estimators=125; total time=  12.2s\n",
            "[CV] END bootstrap=True, max_depth=50, max_features=auto, min_samples_leaf=4, n_estimators=130; total time=  12.6s\n",
            "[CV] END bootstrap=True, max_depth=50, max_features=auto, min_samples_leaf=4, n_estimators=130; total time=  12.6s\n",
            "[CV] END bootstrap=True, max_depth=50, max_features=auto, min_samples_leaf=4, n_estimators=130; total time=  12.6s\n",
            "[CV] END bootstrap=True, max_depth=50, max_features=auto, min_samples_leaf=4, n_estimators=130; total time=  12.7s\n",
            "[CV] END bootstrap=True, max_depth=50, max_features=auto, min_samples_leaf=4, n_estimators=130; total time=  12.6s\n",
            "[CV] END bootstrap=True, max_depth=50, max_features=auto, min_samples_leaf=4, n_estimators=140; total time=  13.6s\n",
            "[CV] END bootstrap=True, max_depth=50, max_features=auto, min_samples_leaf=4, n_estimators=140; total time=  13.6s\n",
            "[CV] END bootstrap=True, max_depth=50, max_features=auto, min_samples_leaf=4, n_estimators=140; total time=  13.6s\n",
            "[CV] END bootstrap=True, max_depth=50, max_features=auto, min_samples_leaf=4, n_estimators=140; total time=  13.7s\n",
            "[CV] END bootstrap=True, max_depth=50, max_features=auto, min_samples_leaf=4, n_estimators=140; total time=  13.7s\n",
            "[CV] END bootstrap=True, max_depth=50, max_features=auto, min_samples_leaf=5, n_estimators=120; total time=  11.3s\n",
            "[CV] END bootstrap=True, max_depth=50, max_features=auto, min_samples_leaf=5, n_estimators=120; total time=  11.3s\n",
            "[CV] END bootstrap=True, max_depth=50, max_features=auto, min_samples_leaf=5, n_estimators=120; total time=  11.4s\n",
            "[CV] END bootstrap=True, max_depth=50, max_features=auto, min_samples_leaf=5, n_estimators=120; total time=  11.3s\n",
            "[CV] END bootstrap=True, max_depth=50, max_features=auto, min_samples_leaf=5, n_estimators=120; total time=  11.2s\n",
            "[CV] END bootstrap=True, max_depth=50, max_features=auto, min_samples_leaf=5, n_estimators=122; total time=  11.4s\n",
            "[CV] END bootstrap=True, max_depth=50, max_features=auto, min_samples_leaf=5, n_estimators=122; total time=  11.4s\n",
            "[CV] END bootstrap=True, max_depth=50, max_features=auto, min_samples_leaf=5, n_estimators=122; total time=  11.4s\n",
            "[CV] END bootstrap=True, max_depth=50, max_features=auto, min_samples_leaf=5, n_estimators=122; total time=  11.4s\n",
            "[CV] END bootstrap=True, max_depth=50, max_features=auto, min_samples_leaf=5, n_estimators=122; total time=  11.3s\n",
            "[CV] END bootstrap=True, max_depth=50, max_features=auto, min_samples_leaf=5, n_estimators=125; total time=  11.6s\n",
            "[CV] END bootstrap=True, max_depth=50, max_features=auto, min_samples_leaf=5, n_estimators=125; total time=  11.6s\n",
            "[CV] END bootstrap=True, max_depth=50, max_features=auto, min_samples_leaf=5, n_estimators=125; total time=  11.7s\n",
            "[CV] END bootstrap=True, max_depth=50, max_features=auto, min_samples_leaf=5, n_estimators=125; total time=  11.7s\n",
            "[CV] END bootstrap=True, max_depth=50, max_features=auto, min_samples_leaf=5, n_estimators=125; total time=  11.7s\n",
            "[CV] END bootstrap=True, max_depth=50, max_features=auto, min_samples_leaf=5, n_estimators=130; total time=  12.1s\n",
            "[CV] END bootstrap=True, max_depth=50, max_features=auto, min_samples_leaf=5, n_estimators=130; total time=  12.1s\n",
            "[CV] END bootstrap=True, max_depth=50, max_features=auto, min_samples_leaf=5, n_estimators=130; total time=  12.1s\n",
            "[CV] END bootstrap=True, max_depth=50, max_features=auto, min_samples_leaf=5, n_estimators=130; total time=  12.1s\n",
            "[CV] END bootstrap=True, max_depth=50, max_features=auto, min_samples_leaf=5, n_estimators=130; total time=  12.1s\n",
            "[CV] END bootstrap=True, max_depth=50, max_features=auto, min_samples_leaf=5, n_estimators=140; total time=  13.0s\n",
            "[CV] END bootstrap=True, max_depth=50, max_features=auto, min_samples_leaf=5, n_estimators=140; total time=  13.0s\n",
            "[CV] END bootstrap=True, max_depth=50, max_features=auto, min_samples_leaf=5, n_estimators=140; total time=  13.0s\n",
            "[CV] END bootstrap=True, max_depth=50, max_features=auto, min_samples_leaf=5, n_estimators=140; total time=  13.1s\n",
            "[CV] END bootstrap=True, max_depth=50, max_features=auto, min_samples_leaf=5, n_estimators=140; total time=  13.1s\n",
            "[CV] END bootstrap=True, max_depth=50, max_features=sqrt, min_samples_leaf=3, n_estimators=120; total time=   4.1s\n",
            "[CV] END bootstrap=True, max_depth=50, max_features=sqrt, min_samples_leaf=3, n_estimators=120; total time=   4.1s\n",
            "[CV] END bootstrap=True, max_depth=50, max_features=sqrt, min_samples_leaf=3, n_estimators=120; total time=   4.1s\n",
            "[CV] END bootstrap=True, max_depth=50, max_features=sqrt, min_samples_leaf=3, n_estimators=120; total time=   4.1s\n",
            "[CV] END bootstrap=True, max_depth=50, max_features=sqrt, min_samples_leaf=3, n_estimators=120; total time=   4.1s\n",
            "[CV] END bootstrap=True, max_depth=50, max_features=sqrt, min_samples_leaf=3, n_estimators=122; total time=   4.2s\n",
            "[CV] END bootstrap=True, max_depth=50, max_features=sqrt, min_samples_leaf=3, n_estimators=122; total time=   4.2s\n",
            "[CV] END bootstrap=True, max_depth=50, max_features=sqrt, min_samples_leaf=3, n_estimators=122; total time=   4.2s\n",
            "[CV] END bootstrap=True, max_depth=50, max_features=sqrt, min_samples_leaf=3, n_estimators=122; total time=   4.2s\n",
            "[CV] END bootstrap=True, max_depth=50, max_features=sqrt, min_samples_leaf=3, n_estimators=122; total time=   4.2s\n",
            "[CV] END bootstrap=True, max_depth=50, max_features=sqrt, min_samples_leaf=3, n_estimators=125; total time=   4.3s\n",
            "[CV] END bootstrap=True, max_depth=50, max_features=sqrt, min_samples_leaf=3, n_estimators=125; total time=   4.3s\n",
            "[CV] END bootstrap=True, max_depth=50, max_features=sqrt, min_samples_leaf=3, n_estimators=125; total time=   4.3s\n",
            "[CV] END bootstrap=True, max_depth=50, max_features=sqrt, min_samples_leaf=3, n_estimators=125; total time=   4.3s\n",
            "[CV] END bootstrap=True, max_depth=50, max_features=sqrt, min_samples_leaf=3, n_estimators=125; total time=   4.3s\n",
            "[CV] END bootstrap=True, max_depth=50, max_features=sqrt, min_samples_leaf=3, n_estimators=130; total time=   4.4s\n",
            "[CV] END bootstrap=True, max_depth=50, max_features=sqrt, min_samples_leaf=3, n_estimators=130; total time=   4.4s\n",
            "[CV] END bootstrap=True, max_depth=50, max_features=sqrt, min_samples_leaf=3, n_estimators=130; total time=   4.5s\n",
            "[CV] END bootstrap=True, max_depth=50, max_features=sqrt, min_samples_leaf=3, n_estimators=130; total time=   4.4s\n",
            "[CV] END bootstrap=True, max_depth=50, max_features=sqrt, min_samples_leaf=3, n_estimators=130; total time=   4.4s\n",
            "[CV] END bootstrap=True, max_depth=50, max_features=sqrt, min_samples_leaf=3, n_estimators=140; total time=   4.8s\n",
            "[CV] END bootstrap=True, max_depth=50, max_features=sqrt, min_samples_leaf=3, n_estimators=140; total time=   4.8s\n",
            "[CV] END bootstrap=True, max_depth=50, max_features=sqrt, min_samples_leaf=3, n_estimators=140; total time=   4.8s\n",
            "[CV] END bootstrap=True, max_depth=50, max_features=sqrt, min_samples_leaf=3, n_estimators=140; total time=   4.8s\n",
            "[CV] END bootstrap=True, max_depth=50, max_features=sqrt, min_samples_leaf=3, n_estimators=140; total time=   4.8s\n",
            "[CV] END bootstrap=True, max_depth=50, max_features=sqrt, min_samples_leaf=4, n_estimators=120; total time=   3.8s\n",
            "[CV] END bootstrap=True, max_depth=50, max_features=sqrt, min_samples_leaf=4, n_estimators=120; total time=   3.8s\n",
            "[CV] END bootstrap=True, max_depth=50, max_features=sqrt, min_samples_leaf=4, n_estimators=120; total time=   3.8s\n",
            "[CV] END bootstrap=True, max_depth=50, max_features=sqrt, min_samples_leaf=4, n_estimators=120; total time=   3.8s\n",
            "[CV] END bootstrap=True, max_depth=50, max_features=sqrt, min_samples_leaf=4, n_estimators=120; total time=   3.9s\n",
            "[CV] END bootstrap=True, max_depth=50, max_features=sqrt, min_samples_leaf=4, n_estimators=122; total time=   3.9s\n",
            "[CV] END bootstrap=True, max_depth=50, max_features=sqrt, min_samples_leaf=4, n_estimators=122; total time=   3.9s\n",
            "[CV] END bootstrap=True, max_depth=50, max_features=sqrt, min_samples_leaf=4, n_estimators=122; total time=   3.9s\n",
            "[CV] END bootstrap=True, max_depth=50, max_features=sqrt, min_samples_leaf=4, n_estimators=122; total time=   3.9s\n",
            "[CV] END bootstrap=True, max_depth=50, max_features=sqrt, min_samples_leaf=4, n_estimators=122; total time=   3.9s\n",
            "[CV] END bootstrap=True, max_depth=50, max_features=sqrt, min_samples_leaf=4, n_estimators=125; total time=   4.0s\n",
            "[CV] END bootstrap=True, max_depth=50, max_features=sqrt, min_samples_leaf=4, n_estimators=125; total time=   4.0s\n",
            "[CV] END bootstrap=True, max_depth=50, max_features=sqrt, min_samples_leaf=4, n_estimators=125; total time=   4.0s\n",
            "[CV] END bootstrap=True, max_depth=50, max_features=sqrt, min_samples_leaf=4, n_estimators=125; total time=   4.0s\n",
            "[CV] END bootstrap=True, max_depth=50, max_features=sqrt, min_samples_leaf=4, n_estimators=125; total time=   4.0s\n",
            "[CV] END bootstrap=True, max_depth=50, max_features=sqrt, min_samples_leaf=4, n_estimators=130; total time=   4.1s\n",
            "[CV] END bootstrap=True, max_depth=50, max_features=sqrt, min_samples_leaf=4, n_estimators=130; total time=   4.1s\n",
            "[CV] END bootstrap=True, max_depth=50, max_features=sqrt, min_samples_leaf=4, n_estimators=130; total time=   4.2s\n",
            "[CV] END bootstrap=True, max_depth=50, max_features=sqrt, min_samples_leaf=4, n_estimators=130; total time=   4.1s\n",
            "[CV] END bootstrap=True, max_depth=50, max_features=sqrt, min_samples_leaf=4, n_estimators=130; total time=   4.2s\n",
            "[CV] END bootstrap=True, max_depth=50, max_features=sqrt, min_samples_leaf=4, n_estimators=140; total time=   4.5s\n",
            "[CV] END bootstrap=True, max_depth=50, max_features=sqrt, min_samples_leaf=4, n_estimators=140; total time=   4.5s\n",
            "[CV] END bootstrap=True, max_depth=50, max_features=sqrt, min_samples_leaf=4, n_estimators=140; total time=   4.5s\n",
            "[CV] END bootstrap=True, max_depth=50, max_features=sqrt, min_samples_leaf=4, n_estimators=140; total time=   4.5s\n",
            "[CV] END bootstrap=True, max_depth=50, max_features=sqrt, min_samples_leaf=4, n_estimators=140; total time=   4.5s\n",
            "[CV] END bootstrap=True, max_depth=50, max_features=sqrt, min_samples_leaf=5, n_estimators=120; total time=   3.7s\n",
            "[CV] END bootstrap=True, max_depth=50, max_features=sqrt, min_samples_leaf=5, n_estimators=120; total time=   3.7s\n",
            "[CV] END bootstrap=True, max_depth=50, max_features=sqrt, min_samples_leaf=5, n_estimators=120; total time=   3.6s\n",
            "[CV] END bootstrap=True, max_depth=50, max_features=sqrt, min_samples_leaf=5, n_estimators=120; total time=   3.7s\n",
            "[CV] END bootstrap=True, max_depth=50, max_features=sqrt, min_samples_leaf=5, n_estimators=120; total time=   3.7s\n",
            "[CV] END bootstrap=True, max_depth=50, max_features=sqrt, min_samples_leaf=5, n_estimators=122; total time=   3.8s\n",
            "[CV] END bootstrap=True, max_depth=50, max_features=sqrt, min_samples_leaf=5, n_estimators=122; total time=   3.8s\n",
            "[CV] END bootstrap=True, max_depth=50, max_features=sqrt, min_samples_leaf=5, n_estimators=122; total time=   3.7s\n",
            "[CV] END bootstrap=True, max_depth=50, max_features=sqrt, min_samples_leaf=5, n_estimators=122; total time=   3.7s\n",
            "[CV] END bootstrap=True, max_depth=50, max_features=sqrt, min_samples_leaf=5, n_estimators=122; total time=   3.7s\n",
            "[CV] END bootstrap=True, max_depth=50, max_features=sqrt, min_samples_leaf=5, n_estimators=125; total time=   3.9s\n",
            "[CV] END bootstrap=True, max_depth=50, max_features=sqrt, min_samples_leaf=5, n_estimators=125; total time=   3.8s\n",
            "[CV] END bootstrap=True, max_depth=50, max_features=sqrt, min_samples_leaf=5, n_estimators=125; total time=   3.8s\n",
            "[CV] END bootstrap=True, max_depth=50, max_features=sqrt, min_samples_leaf=5, n_estimators=125; total time=   3.8s\n",
            "[CV] END bootstrap=True, max_depth=50, max_features=sqrt, min_samples_leaf=5, n_estimators=125; total time=   3.9s\n",
            "[CV] END bootstrap=True, max_depth=50, max_features=sqrt, min_samples_leaf=5, n_estimators=130; total time=   4.0s\n",
            "[CV] END bootstrap=True, max_depth=50, max_features=sqrt, min_samples_leaf=5, n_estimators=130; total time=   4.0s\n",
            "[CV] END bootstrap=True, max_depth=50, max_features=sqrt, min_samples_leaf=5, n_estimators=130; total time=   4.0s\n",
            "[CV] END bootstrap=True, max_depth=50, max_features=sqrt, min_samples_leaf=5, n_estimators=130; total time=   4.0s\n",
            "[CV] END bootstrap=True, max_depth=50, max_features=sqrt, min_samples_leaf=5, n_estimators=130; total time=   4.0s\n",
            "[CV] END bootstrap=True, max_depth=50, max_features=sqrt, min_samples_leaf=5, n_estimators=140; total time=   4.3s\n",
            "[CV] END bootstrap=True, max_depth=50, max_features=sqrt, min_samples_leaf=5, n_estimators=140; total time=   4.3s\n",
            "[CV] END bootstrap=True, max_depth=50, max_features=sqrt, min_samples_leaf=5, n_estimators=140; total time=   4.3s\n",
            "[CV] END bootstrap=True, max_depth=50, max_features=sqrt, min_samples_leaf=5, n_estimators=140; total time=   4.3s\n",
            "[CV] END bootstrap=True, max_depth=50, max_features=sqrt, min_samples_leaf=5, n_estimators=140; total time=   4.3s\n",
            "[CV] END bootstrap=True, max_depth=55, max_features=auto, min_samples_leaf=3, n_estimators=120; total time=  12.4s\n",
            "[CV] END bootstrap=True, max_depth=55, max_features=auto, min_samples_leaf=3, n_estimators=120; total time=  12.4s\n",
            "[CV] END bootstrap=True, max_depth=55, max_features=auto, min_samples_leaf=3, n_estimators=120; total time=  12.4s\n",
            "[CV] END bootstrap=True, max_depth=55, max_features=auto, min_samples_leaf=3, n_estimators=120; total time=  12.4s\n",
            "[CV] END bootstrap=True, max_depth=55, max_features=auto, min_samples_leaf=3, n_estimators=120; total time=  12.4s\n",
            "[CV] END bootstrap=True, max_depth=55, max_features=auto, min_samples_leaf=3, n_estimators=122; total time=  12.6s\n",
            "[CV] END bootstrap=True, max_depth=55, max_features=auto, min_samples_leaf=3, n_estimators=122; total time=  12.6s\n",
            "[CV] END bootstrap=True, max_depth=55, max_features=auto, min_samples_leaf=3, n_estimators=122; total time=  12.6s\n",
            "[CV] END bootstrap=True, max_depth=55, max_features=auto, min_samples_leaf=3, n_estimators=122; total time=  12.6s\n",
            "[CV] END bootstrap=True, max_depth=55, max_features=auto, min_samples_leaf=3, n_estimators=122; total time=  12.6s\n",
            "[CV] END bootstrap=True, max_depth=55, max_features=auto, min_samples_leaf=3, n_estimators=125; total time=  12.9s\n",
            "[CV] END bootstrap=True, max_depth=55, max_features=auto, min_samples_leaf=3, n_estimators=125; total time=  12.9s\n",
            "[CV] END bootstrap=True, max_depth=55, max_features=auto, min_samples_leaf=3, n_estimators=125; total time=  12.9s\n",
            "[CV] END bootstrap=True, max_depth=55, max_features=auto, min_samples_leaf=3, n_estimators=125; total time=  12.9s\n",
            "[CV] END bootstrap=True, max_depth=55, max_features=auto, min_samples_leaf=3, n_estimators=125; total time=  12.9s\n",
            "[CV] END bootstrap=True, max_depth=55, max_features=auto, min_samples_leaf=3, n_estimators=130; total time=  13.4s\n",
            "[CV] END bootstrap=True, max_depth=55, max_features=auto, min_samples_leaf=3, n_estimators=130; total time=  13.4s\n",
            "[CV] END bootstrap=True, max_depth=55, max_features=auto, min_samples_leaf=3, n_estimators=130; total time=  13.4s\n",
            "[CV] END bootstrap=True, max_depth=55, max_features=auto, min_samples_leaf=3, n_estimators=130; total time=  13.5s\n",
            "[CV] END bootstrap=True, max_depth=55, max_features=auto, min_samples_leaf=3, n_estimators=130; total time=  13.5s\n",
            "[CV] END bootstrap=True, max_depth=55, max_features=auto, min_samples_leaf=3, n_estimators=140; total time=  14.4s\n",
            "[CV] END bootstrap=True, max_depth=55, max_features=auto, min_samples_leaf=3, n_estimators=140; total time=  14.4s\n",
            "[CV] END bootstrap=True, max_depth=55, max_features=auto, min_samples_leaf=3, n_estimators=140; total time=  14.4s\n",
            "[CV] END bootstrap=True, max_depth=55, max_features=auto, min_samples_leaf=3, n_estimators=140; total time=  14.5s\n",
            "[CV] END bootstrap=True, max_depth=55, max_features=auto, min_samples_leaf=3, n_estimators=140; total time=  14.4s\n",
            "[CV] END bootstrap=True, max_depth=55, max_features=auto, min_samples_leaf=4, n_estimators=120; total time=  11.6s\n",
            "[CV] END bootstrap=True, max_depth=55, max_features=auto, min_samples_leaf=4, n_estimators=120; total time=  11.7s\n",
            "[CV] END bootstrap=True, max_depth=55, max_features=auto, min_samples_leaf=4, n_estimators=120; total time=  11.7s\n",
            "[CV] END bootstrap=True, max_depth=55, max_features=auto, min_samples_leaf=4, n_estimators=120; total time=  11.7s\n",
            "[CV] END bootstrap=True, max_depth=55, max_features=auto, min_samples_leaf=4, n_estimators=120; total time=  11.7s\n",
            "[CV] END bootstrap=True, max_depth=55, max_features=auto, min_samples_leaf=4, n_estimators=122; total time=  11.8s\n",
            "[CV] END bootstrap=True, max_depth=55, max_features=auto, min_samples_leaf=4, n_estimators=122; total time=  11.9s\n",
            "[CV] END bootstrap=True, max_depth=55, max_features=auto, min_samples_leaf=4, n_estimators=122; total time=  11.9s\n",
            "[CV] END bootstrap=True, max_depth=55, max_features=auto, min_samples_leaf=4, n_estimators=122; total time=  11.9s\n",
            "[CV] END bootstrap=True, max_depth=55, max_features=auto, min_samples_leaf=4, n_estimators=122; total time=  11.9s\n",
            "[CV] END bootstrap=True, max_depth=55, max_features=auto, min_samples_leaf=4, n_estimators=125; total time=  12.2s\n",
            "[CV] END bootstrap=True, max_depth=55, max_features=auto, min_samples_leaf=4, n_estimators=125; total time=  12.1s\n",
            "[CV] END bootstrap=True, max_depth=55, max_features=auto, min_samples_leaf=4, n_estimators=125; total time=  12.2s\n",
            "[CV] END bootstrap=True, max_depth=55, max_features=auto, min_samples_leaf=4, n_estimators=125; total time=  12.2s\n",
            "[CV] END bootstrap=True, max_depth=55, max_features=auto, min_samples_leaf=4, n_estimators=125; total time=  12.1s\n",
            "[CV] END bootstrap=True, max_depth=55, max_features=auto, min_samples_leaf=4, n_estimators=130; total time=  12.6s\n",
            "[CV] END bootstrap=True, max_depth=55, max_features=auto, min_samples_leaf=4, n_estimators=130; total time=  12.6s\n",
            "[CV] END bootstrap=True, max_depth=55, max_features=auto, min_samples_leaf=4, n_estimators=130; total time=  12.7s\n",
            "[CV] END bootstrap=True, max_depth=55, max_features=auto, min_samples_leaf=4, n_estimators=130; total time=  12.7s\n",
            "[CV] END bootstrap=True, max_depth=55, max_features=auto, min_samples_leaf=4, n_estimators=130; total time=  12.6s\n",
            "[CV] END bootstrap=True, max_depth=55, max_features=auto, min_samples_leaf=4, n_estimators=140; total time=  13.6s\n",
            "[CV] END bootstrap=True, max_depth=55, max_features=auto, min_samples_leaf=4, n_estimators=140; total time=  13.6s\n",
            "[CV] END bootstrap=True, max_depth=55, max_features=auto, min_samples_leaf=4, n_estimators=140; total time=  13.6s\n",
            "[CV] END bootstrap=True, max_depth=55, max_features=auto, min_samples_leaf=4, n_estimators=140; total time=  13.6s\n",
            "[CV] END bootstrap=True, max_depth=55, max_features=auto, min_samples_leaf=4, n_estimators=140; total time=  13.6s\n",
            "[CV] END bootstrap=True, max_depth=55, max_features=auto, min_samples_leaf=5, n_estimators=120; total time=  11.2s\n",
            "[CV] END bootstrap=True, max_depth=55, max_features=auto, min_samples_leaf=5, n_estimators=120; total time=  11.2s\n",
            "[CV] END bootstrap=True, max_depth=55, max_features=auto, min_samples_leaf=5, n_estimators=120; total time=  11.2s\n",
            "[CV] END bootstrap=True, max_depth=55, max_features=auto, min_samples_leaf=5, n_estimators=120; total time=  11.2s\n",
            "[CV] END bootstrap=True, max_depth=55, max_features=auto, min_samples_leaf=5, n_estimators=120; total time=  11.2s\n",
            "[CV] END bootstrap=True, max_depth=55, max_features=auto, min_samples_leaf=5, n_estimators=122; total time=  11.4s\n",
            "[CV] END bootstrap=True, max_depth=55, max_features=auto, min_samples_leaf=5, n_estimators=122; total time=  11.4s\n",
            "[CV] END bootstrap=True, max_depth=55, max_features=auto, min_samples_leaf=5, n_estimators=122; total time=  11.4s\n",
            "[CV] END bootstrap=True, max_depth=55, max_features=auto, min_samples_leaf=5, n_estimators=122; total time=  11.4s\n",
            "[CV] END bootstrap=True, max_depth=55, max_features=auto, min_samples_leaf=5, n_estimators=122; total time=  11.4s\n",
            "[CV] END bootstrap=True, max_depth=55, max_features=auto, min_samples_leaf=5, n_estimators=125; total time=  11.7s\n",
            "[CV] END bootstrap=True, max_depth=55, max_features=auto, min_samples_leaf=5, n_estimators=125; total time=  11.7s\n",
            "[CV] END bootstrap=True, max_depth=55, max_features=auto, min_samples_leaf=5, n_estimators=125; total time=  11.7s\n",
            "[CV] END bootstrap=True, max_depth=55, max_features=auto, min_samples_leaf=5, n_estimators=125; total time=  11.7s\n",
            "[CV] END bootstrap=True, max_depth=55, max_features=auto, min_samples_leaf=5, n_estimators=125; total time=  11.7s\n",
            "[CV] END bootstrap=True, max_depth=55, max_features=auto, min_samples_leaf=5, n_estimators=130; total time=  12.1s\n",
            "[CV] END bootstrap=True, max_depth=55, max_features=auto, min_samples_leaf=5, n_estimators=130; total time=  12.1s\n",
            "[CV] END bootstrap=True, max_depth=55, max_features=auto, min_samples_leaf=5, n_estimators=130; total time=  12.1s\n",
            "[CV] END bootstrap=True, max_depth=55, max_features=auto, min_samples_leaf=5, n_estimators=130; total time=  12.1s\n",
            "[CV] END bootstrap=True, max_depth=55, max_features=auto, min_samples_leaf=5, n_estimators=130; total time=  12.1s\n",
            "[CV] END bootstrap=True, max_depth=55, max_features=auto, min_samples_leaf=5, n_estimators=140; total time=  13.0s\n",
            "[CV] END bootstrap=True, max_depth=55, max_features=auto, min_samples_leaf=5, n_estimators=140; total time=  13.0s\n",
            "[CV] END bootstrap=True, max_depth=55, max_features=auto, min_samples_leaf=5, n_estimators=140; total time=  13.0s\n",
            "[CV] END bootstrap=True, max_depth=55, max_features=auto, min_samples_leaf=5, n_estimators=140; total time=  13.1s\n",
            "[CV] END bootstrap=True, max_depth=55, max_features=auto, min_samples_leaf=5, n_estimators=140; total time=  13.0s\n",
            "[CV] END bootstrap=True, max_depth=55, max_features=sqrt, min_samples_leaf=3, n_estimators=120; total time=   4.1s\n",
            "[CV] END bootstrap=True, max_depth=55, max_features=sqrt, min_samples_leaf=3, n_estimators=120; total time=   4.1s\n",
            "[CV] END bootstrap=True, max_depth=55, max_features=sqrt, min_samples_leaf=3, n_estimators=120; total time=   4.1s\n",
            "[CV] END bootstrap=True, max_depth=55, max_features=sqrt, min_samples_leaf=3, n_estimators=120; total time=   4.1s\n",
            "[CV] END bootstrap=True, max_depth=55, max_features=sqrt, min_samples_leaf=3, n_estimators=120; total time=   4.1s\n",
            "[CV] END bootstrap=True, max_depth=55, max_features=sqrt, min_samples_leaf=3, n_estimators=122; total time=   4.2s\n",
            "[CV] END bootstrap=True, max_depth=55, max_features=sqrt, min_samples_leaf=3, n_estimators=122; total time=   4.2s\n",
            "[CV] END bootstrap=True, max_depth=55, max_features=sqrt, min_samples_leaf=3, n_estimators=122; total time=   4.2s\n",
            "[CV] END bootstrap=True, max_depth=55, max_features=sqrt, min_samples_leaf=3, n_estimators=122; total time=   4.2s\n",
            "[CV] END bootstrap=True, max_depth=55, max_features=sqrt, min_samples_leaf=3, n_estimators=122; total time=   4.2s\n",
            "[CV] END bootstrap=True, max_depth=55, max_features=sqrt, min_samples_leaf=3, n_estimators=125; total time=   4.3s\n",
            "[CV] END bootstrap=True, max_depth=55, max_features=sqrt, min_samples_leaf=3, n_estimators=125; total time=   4.3s\n",
            "[CV] END bootstrap=True, max_depth=55, max_features=sqrt, min_samples_leaf=3, n_estimators=125; total time=   4.3s\n",
            "[CV] END bootstrap=True, max_depth=55, max_features=sqrt, min_samples_leaf=3, n_estimators=125; total time=   4.3s\n",
            "[CV] END bootstrap=True, max_depth=55, max_features=sqrt, min_samples_leaf=3, n_estimators=125; total time=   4.3s\n",
            "[CV] END bootstrap=True, max_depth=55, max_features=sqrt, min_samples_leaf=3, n_estimators=130; total time=   4.4s\n",
            "[CV] END bootstrap=True, max_depth=55, max_features=sqrt, min_samples_leaf=3, n_estimators=130; total time=   4.4s\n",
            "[CV] END bootstrap=True, max_depth=55, max_features=sqrt, min_samples_leaf=3, n_estimators=130; total time=   4.5s\n",
            "[CV] END bootstrap=True, max_depth=55, max_features=sqrt, min_samples_leaf=3, n_estimators=130; total time=   4.4s\n",
            "[CV] END bootstrap=True, max_depth=55, max_features=sqrt, min_samples_leaf=3, n_estimators=130; total time=   4.5s\n",
            "[CV] END bootstrap=True, max_depth=55, max_features=sqrt, min_samples_leaf=3, n_estimators=140; total time=   4.8s\n",
            "[CV] END bootstrap=True, max_depth=55, max_features=sqrt, min_samples_leaf=3, n_estimators=140; total time=   4.8s\n",
            "[CV] END bootstrap=True, max_depth=55, max_features=sqrt, min_samples_leaf=3, n_estimators=140; total time=   4.8s\n",
            "[CV] END bootstrap=True, max_depth=55, max_features=sqrt, min_samples_leaf=3, n_estimators=140; total time=   4.8s\n",
            "[CV] END bootstrap=True, max_depth=55, max_features=sqrt, min_samples_leaf=3, n_estimators=140; total time=   4.8s\n",
            "[CV] END bootstrap=True, max_depth=55, max_features=sqrt, min_samples_leaf=4, n_estimators=120; total time=   3.8s\n",
            "[CV] END bootstrap=True, max_depth=55, max_features=sqrt, min_samples_leaf=4, n_estimators=120; total time=   3.8s\n",
            "[CV] END bootstrap=True, max_depth=55, max_features=sqrt, min_samples_leaf=4, n_estimators=120; total time=   3.8s\n",
            "[CV] END bootstrap=True, max_depth=55, max_features=sqrt, min_samples_leaf=4, n_estimators=120; total time=   3.8s\n",
            "[CV] END bootstrap=True, max_depth=55, max_features=sqrt, min_samples_leaf=4, n_estimators=120; total time=   3.9s\n",
            "[CV] END bootstrap=True, max_depth=55, max_features=sqrt, min_samples_leaf=4, n_estimators=122; total time=   3.9s\n",
            "[CV] END bootstrap=True, max_depth=55, max_features=sqrt, min_samples_leaf=4, n_estimators=122; total time=   3.9s\n",
            "[CV] END bootstrap=True, max_depth=55, max_features=sqrt, min_samples_leaf=4, n_estimators=122; total time=   3.9s\n",
            "[CV] END bootstrap=True, max_depth=55, max_features=sqrt, min_samples_leaf=4, n_estimators=122; total time=   3.9s\n",
            "[CV] END bootstrap=True, max_depth=55, max_features=sqrt, min_samples_leaf=4, n_estimators=122; total time=   3.9s\n",
            "[CV] END bootstrap=True, max_depth=55, max_features=sqrt, min_samples_leaf=4, n_estimators=125; total time=   4.0s\n",
            "[CV] END bootstrap=True, max_depth=55, max_features=sqrt, min_samples_leaf=4, n_estimators=125; total time=   4.0s\n",
            "[CV] END bootstrap=True, max_depth=55, max_features=sqrt, min_samples_leaf=4, n_estimators=125; total time=   4.0s\n",
            "[CV] END bootstrap=True, max_depth=55, max_features=sqrt, min_samples_leaf=4, n_estimators=125; total time=   4.0s\n",
            "[CV] END bootstrap=True, max_depth=55, max_features=sqrt, min_samples_leaf=4, n_estimators=125; total time=   4.0s\n",
            "[CV] END bootstrap=True, max_depth=55, max_features=sqrt, min_samples_leaf=4, n_estimators=130; total time=   4.1s\n",
            "[CV] END bootstrap=True, max_depth=55, max_features=sqrt, min_samples_leaf=4, n_estimators=130; total time=   4.2s\n",
            "[CV] END bootstrap=True, max_depth=55, max_features=sqrt, min_samples_leaf=4, n_estimators=130; total time=   4.2s\n",
            "[CV] END bootstrap=True, max_depth=55, max_features=sqrt, min_samples_leaf=4, n_estimators=130; total time=   4.2s\n",
            "[CV] END bootstrap=True, max_depth=55, max_features=sqrt, min_samples_leaf=4, n_estimators=130; total time=   4.2s\n",
            "[CV] END bootstrap=True, max_depth=55, max_features=sqrt, min_samples_leaf=4, n_estimators=140; total time=   4.5s\n",
            "[CV] END bootstrap=True, max_depth=55, max_features=sqrt, min_samples_leaf=4, n_estimators=140; total time=   4.5s\n",
            "[CV] END bootstrap=True, max_depth=55, max_features=sqrt, min_samples_leaf=4, n_estimators=140; total time=   4.5s\n",
            "[CV] END bootstrap=True, max_depth=55, max_features=sqrt, min_samples_leaf=4, n_estimators=140; total time=   4.5s\n",
            "[CV] END bootstrap=True, max_depth=55, max_features=sqrt, min_samples_leaf=4, n_estimators=140; total time=   4.5s\n",
            "[CV] END bootstrap=True, max_depth=55, max_features=sqrt, min_samples_leaf=5, n_estimators=120; total time=   3.7s\n",
            "[CV] END bootstrap=True, max_depth=55, max_features=sqrt, min_samples_leaf=5, n_estimators=120; total time=   3.7s\n",
            "[CV] END bootstrap=True, max_depth=55, max_features=sqrt, min_samples_leaf=5, n_estimators=120; total time=   3.6s\n",
            "[CV] END bootstrap=True, max_depth=55, max_features=sqrt, min_samples_leaf=5, n_estimators=120; total time=   3.7s\n",
            "[CV] END bootstrap=True, max_depth=55, max_features=sqrt, min_samples_leaf=5, n_estimators=120; total time=   3.7s\n",
            "[CV] END bootstrap=True, max_depth=55, max_features=sqrt, min_samples_leaf=5, n_estimators=122; total time=   3.8s\n",
            "[CV] END bootstrap=True, max_depth=55, max_features=sqrt, min_samples_leaf=5, n_estimators=122; total time=   3.8s\n",
            "[CV] END bootstrap=True, max_depth=55, max_features=sqrt, min_samples_leaf=5, n_estimators=122; total time=   3.7s\n",
            "[CV] END bootstrap=True, max_depth=55, max_features=sqrt, min_samples_leaf=5, n_estimators=122; total time=   3.7s\n",
            "[CV] END bootstrap=True, max_depth=55, max_features=sqrt, min_samples_leaf=5, n_estimators=122; total time=   3.8s\n",
            "[CV] END bootstrap=True, max_depth=55, max_features=sqrt, min_samples_leaf=5, n_estimators=125; total time=   3.9s\n",
            "[CV] END bootstrap=True, max_depth=55, max_features=sqrt, min_samples_leaf=5, n_estimators=125; total time=   3.9s\n",
            "[CV] END bootstrap=True, max_depth=55, max_features=sqrt, min_samples_leaf=5, n_estimators=125; total time=   3.8s\n",
            "[CV] END bootstrap=True, max_depth=55, max_features=sqrt, min_samples_leaf=5, n_estimators=125; total time=   3.8s\n",
            "[CV] END bootstrap=True, max_depth=55, max_features=sqrt, min_samples_leaf=5, n_estimators=125; total time=   3.8s\n",
            "[CV] END bootstrap=True, max_depth=55, max_features=sqrt, min_samples_leaf=5, n_estimators=130; total time=   4.0s\n",
            "[CV] END bootstrap=True, max_depth=55, max_features=sqrt, min_samples_leaf=5, n_estimators=130; total time=   4.0s\n",
            "[CV] END bootstrap=True, max_depth=55, max_features=sqrt, min_samples_leaf=5, n_estimators=130; total time=   4.0s\n",
            "[CV] END bootstrap=True, max_depth=55, max_features=sqrt, min_samples_leaf=5, n_estimators=130; total time=   4.0s\n",
            "[CV] END bootstrap=True, max_depth=55, max_features=sqrt, min_samples_leaf=5, n_estimators=130; total time=   4.0s\n",
            "[CV] END bootstrap=True, max_depth=55, max_features=sqrt, min_samples_leaf=5, n_estimators=140; total time=   4.3s\n",
            "[CV] END bootstrap=True, max_depth=55, max_features=sqrt, min_samples_leaf=5, n_estimators=140; total time=   4.3s\n",
            "[CV] END bootstrap=True, max_depth=55, max_features=sqrt, min_samples_leaf=5, n_estimators=140; total time=   4.3s\n",
            "[CV] END bootstrap=True, max_depth=55, max_features=sqrt, min_samples_leaf=5, n_estimators=140; total time=   4.3s\n",
            "[CV] END bootstrap=True, max_depth=55, max_features=sqrt, min_samples_leaf=5, n_estimators=140; total time=   4.3s\n",
            "[CV] END bootstrap=False, max_depth=20, max_features=auto, min_samples_leaf=3, n_estimators=120; total time=  19.6s\n",
            "[CV] END bootstrap=False, max_depth=20, max_features=auto, min_samples_leaf=3, n_estimators=120; total time=  19.5s\n",
            "[CV] END bootstrap=False, max_depth=20, max_features=auto, min_samples_leaf=3, n_estimators=120; total time=  19.6s\n",
            "[CV] END bootstrap=False, max_depth=20, max_features=auto, min_samples_leaf=3, n_estimators=120; total time=  19.6s\n",
            "[CV] END bootstrap=False, max_depth=20, max_features=auto, min_samples_leaf=3, n_estimators=120; total time=  19.6s\n",
            "[CV] END bootstrap=False, max_depth=20, max_features=auto, min_samples_leaf=3, n_estimators=122; total time=  20.0s\n",
            "[CV] END bootstrap=False, max_depth=20, max_features=auto, min_samples_leaf=3, n_estimators=122; total time=  19.9s\n",
            "[CV] END bootstrap=False, max_depth=20, max_features=auto, min_samples_leaf=3, n_estimators=122; total time=  20.0s\n",
            "[CV] END bootstrap=False, max_depth=20, max_features=auto, min_samples_leaf=3, n_estimators=122; total time=  20.0s\n",
            "[CV] END bootstrap=False, max_depth=20, max_features=auto, min_samples_leaf=3, n_estimators=122; total time=  20.0s\n",
            "[CV] END bootstrap=False, max_depth=20, max_features=auto, min_samples_leaf=3, n_estimators=125; total time=  20.4s\n",
            "[CV] END bootstrap=False, max_depth=20, max_features=auto, min_samples_leaf=3, n_estimators=125; total time=  20.3s\n",
            "[CV] END bootstrap=False, max_depth=20, max_features=auto, min_samples_leaf=3, n_estimators=125; total time=  20.4s\n",
            "[CV] END bootstrap=False, max_depth=20, max_features=auto, min_samples_leaf=3, n_estimators=125; total time=  20.4s\n",
            "[CV] END bootstrap=False, max_depth=20, max_features=auto, min_samples_leaf=3, n_estimators=125; total time=  20.4s\n",
            "[CV] END bootstrap=False, max_depth=20, max_features=auto, min_samples_leaf=3, n_estimators=130; total time=  21.3s\n",
            "[CV] END bootstrap=False, max_depth=20, max_features=auto, min_samples_leaf=3, n_estimators=130; total time=  21.1s\n",
            "[CV] END bootstrap=False, max_depth=20, max_features=auto, min_samples_leaf=3, n_estimators=130; total time=  21.2s\n",
            "[CV] END bootstrap=False, max_depth=20, max_features=auto, min_samples_leaf=3, n_estimators=130; total time=  21.3s\n",
            "[CV] END bootstrap=False, max_depth=20, max_features=auto, min_samples_leaf=3, n_estimators=130; total time=  21.3s\n",
            "[CV] END bootstrap=False, max_depth=20, max_features=auto, min_samples_leaf=3, n_estimators=140; total time=  22.9s\n",
            "[CV] END bootstrap=False, max_depth=20, max_features=auto, min_samples_leaf=3, n_estimators=140; total time=  22.8s\n",
            "[CV] END bootstrap=False, max_depth=20, max_features=auto, min_samples_leaf=3, n_estimators=140; total time=  22.9s\n",
            "[CV] END bootstrap=False, max_depth=20, max_features=auto, min_samples_leaf=3, n_estimators=140; total time=  22.9s\n",
            "[CV] END bootstrap=False, max_depth=20, max_features=auto, min_samples_leaf=3, n_estimators=140; total time=  22.8s\n",
            "[CV] END bootstrap=False, max_depth=20, max_features=auto, min_samples_leaf=4, n_estimators=120; total time=  18.6s\n",
            "[CV] END bootstrap=False, max_depth=20, max_features=auto, min_samples_leaf=4, n_estimators=120; total time=  18.5s\n",
            "[CV] END bootstrap=False, max_depth=20, max_features=auto, min_samples_leaf=4, n_estimators=120; total time=  18.5s\n",
            "[CV] END bootstrap=False, max_depth=20, max_features=auto, min_samples_leaf=4, n_estimators=120; total time=  18.6s\n",
            "[CV] END bootstrap=False, max_depth=20, max_features=auto, min_samples_leaf=4, n_estimators=120; total time=  18.6s\n",
            "[CV] END bootstrap=False, max_depth=20, max_features=auto, min_samples_leaf=4, n_estimators=122; total time=  18.9s\n",
            "[CV] END bootstrap=False, max_depth=20, max_features=auto, min_samples_leaf=4, n_estimators=122; total time=  18.8s\n",
            "[CV] END bootstrap=False, max_depth=20, max_features=auto, min_samples_leaf=4, n_estimators=122; total time=  18.8s\n",
            "[CV] END bootstrap=False, max_depth=20, max_features=auto, min_samples_leaf=4, n_estimators=122; total time=  18.9s\n",
            "[CV] END bootstrap=False, max_depth=20, max_features=auto, min_samples_leaf=4, n_estimators=122; total time=  18.9s\n",
            "[CV] END bootstrap=False, max_depth=20, max_features=auto, min_samples_leaf=4, n_estimators=125; total time=  19.4s\n",
            "[CV] END bootstrap=False, max_depth=20, max_features=auto, min_samples_leaf=4, n_estimators=125; total time=  19.2s\n",
            "[CV] END bootstrap=False, max_depth=20, max_features=auto, min_samples_leaf=4, n_estimators=125; total time=  19.3s\n",
            "[CV] END bootstrap=False, max_depth=20, max_features=auto, min_samples_leaf=4, n_estimators=125; total time=  19.4s\n",
            "[CV] END bootstrap=False, max_depth=20, max_features=auto, min_samples_leaf=4, n_estimators=125; total time=  19.4s\n",
            "[CV] END bootstrap=False, max_depth=20, max_features=auto, min_samples_leaf=4, n_estimators=130; total time=  20.2s\n",
            "[CV] END bootstrap=False, max_depth=20, max_features=auto, min_samples_leaf=4, n_estimators=130; total time=  20.0s\n",
            "[CV] END bootstrap=False, max_depth=20, max_features=auto, min_samples_leaf=4, n_estimators=130; total time=  20.1s\n",
            "[CV] END bootstrap=False, max_depth=20, max_features=auto, min_samples_leaf=4, n_estimators=130; total time=  20.1s\n",
            "[CV] END bootstrap=False, max_depth=20, max_features=auto, min_samples_leaf=4, n_estimators=130; total time=  20.2s\n",
            "[CV] END bootstrap=False, max_depth=20, max_features=auto, min_samples_leaf=4, n_estimators=140; total time=  21.7s\n",
            "[CV] END bootstrap=False, max_depth=20, max_features=auto, min_samples_leaf=4, n_estimators=140; total time=  21.5s\n",
            "[CV] END bootstrap=False, max_depth=20, max_features=auto, min_samples_leaf=4, n_estimators=140; total time=  21.6s\n",
            "[CV] END bootstrap=False, max_depth=20, max_features=auto, min_samples_leaf=4, n_estimators=140; total time=  21.6s\n",
            "[CV] END bootstrap=False, max_depth=20, max_features=auto, min_samples_leaf=4, n_estimators=140; total time=  21.7s\n",
            "[CV] END bootstrap=False, max_depth=20, max_features=auto, min_samples_leaf=5, n_estimators=120; total time=  17.8s\n",
            "[CV] END bootstrap=False, max_depth=20, max_features=auto, min_samples_leaf=5, n_estimators=120; total time=  17.7s\n",
            "[CV] END bootstrap=False, max_depth=20, max_features=auto, min_samples_leaf=5, n_estimators=120; total time=  17.8s\n",
            "[CV] END bootstrap=False, max_depth=20, max_features=auto, min_samples_leaf=5, n_estimators=120; total time=  17.8s\n",
            "[CV] END bootstrap=False, max_depth=20, max_features=auto, min_samples_leaf=5, n_estimators=120; total time=  17.9s\n",
            "[CV] END bootstrap=False, max_depth=20, max_features=auto, min_samples_leaf=5, n_estimators=122; total time=  18.1s\n",
            "[CV] END bootstrap=False, max_depth=20, max_features=auto, min_samples_leaf=5, n_estimators=122; total time=  18.0s\n",
            "[CV] END bootstrap=False, max_depth=20, max_features=auto, min_samples_leaf=5, n_estimators=122; total time=  18.1s\n",
            "[CV] END bootstrap=False, max_depth=20, max_features=auto, min_samples_leaf=5, n_estimators=122; total time=  18.1s\n",
            "[CV] END bootstrap=False, max_depth=20, max_features=auto, min_samples_leaf=5, n_estimators=122; total time=  18.2s\n",
            "[CV] END bootstrap=False, max_depth=20, max_features=auto, min_samples_leaf=5, n_estimators=125; total time=  18.6s\n",
            "[CV] END bootstrap=False, max_depth=20, max_features=auto, min_samples_leaf=5, n_estimators=125; total time=  18.5s\n",
            "[CV] END bootstrap=False, max_depth=20, max_features=auto, min_samples_leaf=5, n_estimators=125; total time=  18.5s\n",
            "[CV] END bootstrap=False, max_depth=20, max_features=auto, min_samples_leaf=5, n_estimators=125; total time=  18.5s\n",
            "[CV] END bootstrap=False, max_depth=20, max_features=auto, min_samples_leaf=5, n_estimators=125; total time=  18.6s\n",
            "[CV] END bootstrap=False, max_depth=20, max_features=auto, min_samples_leaf=5, n_estimators=130; total time=  19.3s\n",
            "[CV] END bootstrap=False, max_depth=20, max_features=auto, min_samples_leaf=5, n_estimators=130; total time=  19.2s\n",
            "[CV] END bootstrap=False, max_depth=20, max_features=auto, min_samples_leaf=5, n_estimators=130; total time=  19.3s\n",
            "[CV] END bootstrap=False, max_depth=20, max_features=auto, min_samples_leaf=5, n_estimators=130; total time=  19.3s\n",
            "[CV] END bootstrap=False, max_depth=20, max_features=auto, min_samples_leaf=5, n_estimators=130; total time=  19.4s\n",
            "[CV] END bootstrap=False, max_depth=20, max_features=auto, min_samples_leaf=5, n_estimators=140; total time=  20.8s\n",
            "[CV] END bootstrap=False, max_depth=20, max_features=auto, min_samples_leaf=5, n_estimators=140; total time=  20.7s\n",
            "[CV] END bootstrap=False, max_depth=20, max_features=auto, min_samples_leaf=5, n_estimators=140; total time=  20.8s\n",
            "[CV] END bootstrap=False, max_depth=20, max_features=auto, min_samples_leaf=5, n_estimators=140; total time=  20.7s\n",
            "[CV] END bootstrap=False, max_depth=20, max_features=auto, min_samples_leaf=5, n_estimators=140; total time=  20.9s\n",
            "[CV] END bootstrap=False, max_depth=20, max_features=sqrt, min_samples_leaf=3, n_estimators=120; total time=   6.1s\n",
            "[CV] END bootstrap=False, max_depth=20, max_features=sqrt, min_samples_leaf=3, n_estimators=120; total time=   6.1s\n",
            "[CV] END bootstrap=False, max_depth=20, max_features=sqrt, min_samples_leaf=3, n_estimators=120; total time=   6.1s\n",
            "[CV] END bootstrap=False, max_depth=20, max_features=sqrt, min_samples_leaf=3, n_estimators=120; total time=   6.1s\n",
            "[CV] END bootstrap=False, max_depth=20, max_features=sqrt, min_samples_leaf=3, n_estimators=120; total time=   6.1s\n",
            "[CV] END bootstrap=False, max_depth=20, max_features=sqrt, min_samples_leaf=3, n_estimators=122; total time=   6.2s\n",
            "[CV] END bootstrap=False, max_depth=20, max_features=sqrt, min_samples_leaf=3, n_estimators=122; total time=   6.2s\n",
            "[CV] END bootstrap=False, max_depth=20, max_features=sqrt, min_samples_leaf=3, n_estimators=122; total time=   6.2s\n",
            "[CV] END bootstrap=False, max_depth=20, max_features=sqrt, min_samples_leaf=3, n_estimators=122; total time=   6.2s\n",
            "[CV] END bootstrap=False, max_depth=20, max_features=sqrt, min_samples_leaf=3, n_estimators=122; total time=   6.3s\n",
            "[CV] END bootstrap=False, max_depth=20, max_features=sqrt, min_samples_leaf=3, n_estimators=125; total time=   6.4s\n",
            "[CV] END bootstrap=False, max_depth=20, max_features=sqrt, min_samples_leaf=3, n_estimators=125; total time=   6.4s\n",
            "[CV] END bootstrap=False, max_depth=20, max_features=sqrt, min_samples_leaf=3, n_estimators=125; total time=   6.3s\n",
            "[CV] END bootstrap=False, max_depth=20, max_features=sqrt, min_samples_leaf=3, n_estimators=125; total time=   6.4s\n",
            "[CV] END bootstrap=False, max_depth=20, max_features=sqrt, min_samples_leaf=3, n_estimators=125; total time=   6.4s\n",
            "[CV] END bootstrap=False, max_depth=20, max_features=sqrt, min_samples_leaf=3, n_estimators=130; total time=   6.6s\n",
            "[CV] END bootstrap=False, max_depth=20, max_features=sqrt, min_samples_leaf=3, n_estimators=130; total time=   6.6s\n",
            "[CV] END bootstrap=False, max_depth=20, max_features=sqrt, min_samples_leaf=3, n_estimators=130; total time=   6.6s\n",
            "[CV] END bootstrap=False, max_depth=20, max_features=sqrt, min_samples_leaf=3, n_estimators=130; total time=   6.6s\n",
            "[CV] END bootstrap=False, max_depth=20, max_features=sqrt, min_samples_leaf=3, n_estimators=130; total time=   6.6s\n",
            "[CV] END bootstrap=False, max_depth=20, max_features=sqrt, min_samples_leaf=3, n_estimators=140; total time=   7.2s\n",
            "[CV] END bootstrap=False, max_depth=20, max_features=sqrt, min_samples_leaf=3, n_estimators=140; total time=   7.1s\n",
            "[CV] END bootstrap=False, max_depth=20, max_features=sqrt, min_samples_leaf=3, n_estimators=140; total time=   7.1s\n",
            "[CV] END bootstrap=False, max_depth=20, max_features=sqrt, min_samples_leaf=3, n_estimators=140; total time=   7.2s\n",
            "[CV] END bootstrap=False, max_depth=20, max_features=sqrt, min_samples_leaf=3, n_estimators=140; total time=   7.2s\n",
            "[CV] END bootstrap=False, max_depth=20, max_features=sqrt, min_samples_leaf=4, n_estimators=120; total time=   5.8s\n",
            "[CV] END bootstrap=False, max_depth=20, max_features=sqrt, min_samples_leaf=4, n_estimators=120; total time=   5.8s\n",
            "[CV] END bootstrap=False, max_depth=20, max_features=sqrt, min_samples_leaf=4, n_estimators=120; total time=   5.8s\n",
            "[CV] END bootstrap=False, max_depth=20, max_features=sqrt, min_samples_leaf=4, n_estimators=120; total time=   5.8s\n",
            "[CV] END bootstrap=False, max_depth=20, max_features=sqrt, min_samples_leaf=4, n_estimators=120; total time=   5.8s\n",
            "[CV] END bootstrap=False, max_depth=20, max_features=sqrt, min_samples_leaf=4, n_estimators=122; total time=   5.9s\n",
            "[CV] END bootstrap=False, max_depth=20, max_features=sqrt, min_samples_leaf=4, n_estimators=122; total time=   5.9s\n",
            "[CV] END bootstrap=False, max_depth=20, max_features=sqrt, min_samples_leaf=4, n_estimators=122; total time=   5.9s\n",
            "[CV] END bootstrap=False, max_depth=20, max_features=sqrt, min_samples_leaf=4, n_estimators=122; total time=   5.9s\n",
            "[CV] END bootstrap=False, max_depth=20, max_features=sqrt, min_samples_leaf=4, n_estimators=122; total time=   5.9s\n",
            "[CV] END bootstrap=False, max_depth=20, max_features=sqrt, min_samples_leaf=4, n_estimators=125; total time=   6.0s\n",
            "[CV] END bootstrap=False, max_depth=20, max_features=sqrt, min_samples_leaf=4, n_estimators=125; total time=   6.0s\n",
            "[CV] END bootstrap=False, max_depth=20, max_features=sqrt, min_samples_leaf=4, n_estimators=125; total time=   6.0s\n",
            "[CV] END bootstrap=False, max_depth=20, max_features=sqrt, min_samples_leaf=4, n_estimators=125; total time=   6.0s\n",
            "[CV] END bootstrap=False, max_depth=20, max_features=sqrt, min_samples_leaf=4, n_estimators=125; total time=   6.1s\n",
            "[CV] END bootstrap=False, max_depth=20, max_features=sqrt, min_samples_leaf=4, n_estimators=130; total time=   6.3s\n",
            "[CV] END bootstrap=False, max_depth=20, max_features=sqrt, min_samples_leaf=4, n_estimators=130; total time=   6.3s\n",
            "[CV] END bootstrap=False, max_depth=20, max_features=sqrt, min_samples_leaf=4, n_estimators=130; total time=   6.3s\n",
            "[CV] END bootstrap=False, max_depth=20, max_features=sqrt, min_samples_leaf=4, n_estimators=130; total time=   6.3s\n",
            "[CV] END bootstrap=False, max_depth=20, max_features=sqrt, min_samples_leaf=4, n_estimators=130; total time=   6.3s\n",
            "[CV] END bootstrap=False, max_depth=20, max_features=sqrt, min_samples_leaf=4, n_estimators=140; total time=   6.8s\n",
            "[CV] END bootstrap=False, max_depth=20, max_features=sqrt, min_samples_leaf=4, n_estimators=140; total time=   6.8s\n",
            "[CV] END bootstrap=False, max_depth=20, max_features=sqrt, min_samples_leaf=4, n_estimators=140; total time=   6.8s\n",
            "[CV] END bootstrap=False, max_depth=20, max_features=sqrt, min_samples_leaf=4, n_estimators=140; total time=   6.8s\n",
            "[CV] END bootstrap=False, max_depth=20, max_features=sqrt, min_samples_leaf=4, n_estimators=140; total time=   6.8s\n",
            "[CV] END bootstrap=False, max_depth=20, max_features=sqrt, min_samples_leaf=5, n_estimators=120; total time=   5.6s\n",
            "[CV] END bootstrap=False, max_depth=20, max_features=sqrt, min_samples_leaf=5, n_estimators=120; total time=   5.5s\n",
            "[CV] END bootstrap=False, max_depth=20, max_features=sqrt, min_samples_leaf=5, n_estimators=120; total time=   5.6s\n",
            "[CV] END bootstrap=False, max_depth=20, max_features=sqrt, min_samples_leaf=5, n_estimators=120; total time=   5.6s\n",
            "[CV] END bootstrap=False, max_depth=20, max_features=sqrt, min_samples_leaf=5, n_estimators=120; total time=   5.6s\n",
            "[CV] END bootstrap=False, max_depth=20, max_features=sqrt, min_samples_leaf=5, n_estimators=122; total time=   5.7s\n",
            "[CV] END bootstrap=False, max_depth=20, max_features=sqrt, min_samples_leaf=5, n_estimators=122; total time=   5.6s\n",
            "[CV] END bootstrap=False, max_depth=20, max_features=sqrt, min_samples_leaf=5, n_estimators=122; total time=   5.7s\n",
            "[CV] END bootstrap=False, max_depth=20, max_features=sqrt, min_samples_leaf=5, n_estimators=122; total time=   5.6s\n",
            "[CV] END bootstrap=False, max_depth=20, max_features=sqrt, min_samples_leaf=5, n_estimators=122; total time=   5.7s\n",
            "[CV] END bootstrap=False, max_depth=20, max_features=sqrt, min_samples_leaf=5, n_estimators=125; total time=   5.9s\n",
            "[CV] END bootstrap=False, max_depth=20, max_features=sqrt, min_samples_leaf=5, n_estimators=125; total time=   5.8s\n",
            "[CV] END bootstrap=False, max_depth=20, max_features=sqrt, min_samples_leaf=5, n_estimators=125; total time=   5.8s\n",
            "[CV] END bootstrap=False, max_depth=20, max_features=sqrt, min_samples_leaf=5, n_estimators=125; total time=   5.8s\n",
            "[CV] END bootstrap=False, max_depth=20, max_features=sqrt, min_samples_leaf=5, n_estimators=125; total time=   5.8s\n",
            "[CV] END bootstrap=False, max_depth=20, max_features=sqrt, min_samples_leaf=5, n_estimators=130; total time=   6.0s\n",
            "[CV] END bootstrap=False, max_depth=20, max_features=sqrt, min_samples_leaf=5, n_estimators=130; total time=   6.0s\n",
            "[CV] END bootstrap=False, max_depth=20, max_features=sqrt, min_samples_leaf=5, n_estimators=130; total time=   6.0s\n",
            "[CV] END bootstrap=False, max_depth=20, max_features=sqrt, min_samples_leaf=5, n_estimators=130; total time=   6.0s\n",
            "[CV] END bootstrap=False, max_depth=20, max_features=sqrt, min_samples_leaf=5, n_estimators=130; total time=   6.1s\n",
            "[CV] END bootstrap=False, max_depth=20, max_features=sqrt, min_samples_leaf=5, n_estimators=140; total time=   6.5s\n",
            "[CV] END bootstrap=False, max_depth=20, max_features=sqrt, min_samples_leaf=5, n_estimators=140; total time=   6.5s\n",
            "[CV] END bootstrap=False, max_depth=20, max_features=sqrt, min_samples_leaf=5, n_estimators=140; total time=   6.5s\n",
            "[CV] END bootstrap=False, max_depth=20, max_features=sqrt, min_samples_leaf=5, n_estimators=140; total time=   6.5s\n",
            "[CV] END bootstrap=False, max_depth=20, max_features=sqrt, min_samples_leaf=5, n_estimators=140; total time=   6.5s\n",
            "[CV] END bootstrap=False, max_depth=30, max_features=auto, min_samples_leaf=3, n_estimators=120; total time=  19.7s\n",
            "[CV] END bootstrap=False, max_depth=30, max_features=auto, min_samples_leaf=3, n_estimators=120; total time=  19.6s\n",
            "[CV] END bootstrap=False, max_depth=30, max_features=auto, min_samples_leaf=3, n_estimators=120; total time=  19.7s\n",
            "[CV] END bootstrap=False, max_depth=30, max_features=auto, min_samples_leaf=3, n_estimators=120; total time=  19.7s\n",
            "[CV] END bootstrap=False, max_depth=30, max_features=auto, min_samples_leaf=3, n_estimators=120; total time=  19.7s\n",
            "[CV] END bootstrap=False, max_depth=30, max_features=auto, min_samples_leaf=3, n_estimators=122; total time=  20.1s\n",
            "[CV] END bootstrap=False, max_depth=30, max_features=auto, min_samples_leaf=3, n_estimators=122; total time=  19.9s\n",
            "[CV] END bootstrap=False, max_depth=30, max_features=auto, min_samples_leaf=3, n_estimators=122; total time=  20.0s\n",
            "[CV] END bootstrap=False, max_depth=30, max_features=auto, min_samples_leaf=3, n_estimators=122; total time=  20.1s\n",
            "[CV] END bootstrap=False, max_depth=30, max_features=auto, min_samples_leaf=3, n_estimators=122; total time=  20.1s\n",
            "[CV] END bootstrap=False, max_depth=30, max_features=auto, min_samples_leaf=3, n_estimators=125; total time=  20.6s\n",
            "[CV] END bootstrap=False, max_depth=30, max_features=auto, min_samples_leaf=3, n_estimators=125; total time=  20.4s\n",
            "[CV] END bootstrap=False, max_depth=30, max_features=auto, min_samples_leaf=3, n_estimators=125; total time=  20.6s\n",
            "[CV] END bootstrap=False, max_depth=30, max_features=auto, min_samples_leaf=3, n_estimators=125; total time=  20.6s\n",
            "[CV] END bootstrap=False, max_depth=30, max_features=auto, min_samples_leaf=3, n_estimators=125; total time=  20.5s\n",
            "[CV] END bootstrap=False, max_depth=30, max_features=auto, min_samples_leaf=3, n_estimators=130; total time=  21.4s\n",
            "[CV] END bootstrap=False, max_depth=30, max_features=auto, min_samples_leaf=3, n_estimators=130; total time=  21.2s\n",
            "[CV] END bootstrap=False, max_depth=30, max_features=auto, min_samples_leaf=3, n_estimators=130; total time=  21.4s\n",
            "[CV] END bootstrap=False, max_depth=30, max_features=auto, min_samples_leaf=3, n_estimators=130; total time=  21.4s\n",
            "[CV] END bootstrap=False, max_depth=30, max_features=auto, min_samples_leaf=3, n_estimators=130; total time=  21.4s\n",
            "[CV] END bootstrap=False, max_depth=30, max_features=auto, min_samples_leaf=3, n_estimators=140; total time=  23.0s\n",
            "[CV] END bootstrap=False, max_depth=30, max_features=auto, min_samples_leaf=3, n_estimators=140; total time=  22.9s\n",
            "[CV] END bootstrap=False, max_depth=30, max_features=auto, min_samples_leaf=3, n_estimators=140; total time=  23.0s\n",
            "[CV] END bootstrap=False, max_depth=30, max_features=auto, min_samples_leaf=3, n_estimators=140; total time=  23.1s\n",
            "[CV] END bootstrap=False, max_depth=30, max_features=auto, min_samples_leaf=3, n_estimators=140; total time=  23.0s\n",
            "[CV] END bootstrap=False, max_depth=30, max_features=auto, min_samples_leaf=4, n_estimators=120; total time=  18.6s\n",
            "[CV] END bootstrap=False, max_depth=30, max_features=auto, min_samples_leaf=4, n_estimators=120; total time=  18.5s\n",
            "[CV] END bootstrap=False, max_depth=30, max_features=auto, min_samples_leaf=4, n_estimators=120; total time=  18.6s\n",
            "[CV] END bootstrap=False, max_depth=30, max_features=auto, min_samples_leaf=4, n_estimators=120; total time=  18.7s\n",
            "[CV] END bootstrap=False, max_depth=30, max_features=auto, min_samples_leaf=4, n_estimators=120; total time=  18.7s\n",
            "[CV] END bootstrap=False, max_depth=30, max_features=auto, min_samples_leaf=4, n_estimators=122; total time=  18.9s\n",
            "[CV] END bootstrap=False, max_depth=30, max_features=auto, min_samples_leaf=4, n_estimators=122; total time=  18.8s\n",
            "[CV] END bootstrap=False, max_depth=30, max_features=auto, min_samples_leaf=4, n_estimators=122; total time=  18.9s\n",
            "[CV] END bootstrap=False, max_depth=30, max_features=auto, min_samples_leaf=4, n_estimators=122; total time=  19.0s\n",
            "[CV] END bootstrap=False, max_depth=30, max_features=auto, min_samples_leaf=4, n_estimators=122; total time=  19.0s\n",
            "[CV] END bootstrap=False, max_depth=30, max_features=auto, min_samples_leaf=4, n_estimators=125; total time=  19.4s\n",
            "[CV] END bootstrap=False, max_depth=30, max_features=auto, min_samples_leaf=4, n_estimators=125; total time=  19.3s\n",
            "[CV] END bootstrap=False, max_depth=30, max_features=auto, min_samples_leaf=4, n_estimators=125; total time=  19.3s\n",
            "[CV] END bootstrap=False, max_depth=30, max_features=auto, min_samples_leaf=4, n_estimators=125; total time=  19.4s\n",
            "[CV] END bootstrap=False, max_depth=30, max_features=auto, min_samples_leaf=4, n_estimators=125; total time=  19.4s\n",
            "[CV] END bootstrap=False, max_depth=30, max_features=auto, min_samples_leaf=4, n_estimators=130; total time=  20.2s\n",
            "[CV] END bootstrap=False, max_depth=30, max_features=auto, min_samples_leaf=4, n_estimators=130; total time=  20.0s\n",
            "[CV] END bootstrap=False, max_depth=30, max_features=auto, min_samples_leaf=4, n_estimators=130; total time=  20.1s\n",
            "[CV] END bootstrap=False, max_depth=30, max_features=auto, min_samples_leaf=4, n_estimators=130; total time=  20.1s\n",
            "[CV] END bootstrap=False, max_depth=30, max_features=auto, min_samples_leaf=4, n_estimators=130; total time=  20.2s\n",
            "[CV] END bootstrap=False, max_depth=30, max_features=auto, min_samples_leaf=4, n_estimators=140; total time=  21.7s\n",
            "[CV] END bootstrap=False, max_depth=30, max_features=auto, min_samples_leaf=4, n_estimators=140; total time=  21.5s\n",
            "[CV] END bootstrap=False, max_depth=30, max_features=auto, min_samples_leaf=4, n_estimators=140; total time=  21.6s\n",
            "[CV] END bootstrap=False, max_depth=30, max_features=auto, min_samples_leaf=4, n_estimators=140; total time=  21.7s\n",
            "[CV] END bootstrap=False, max_depth=30, max_features=auto, min_samples_leaf=4, n_estimators=140; total time=  21.7s\n",
            "[CV] END bootstrap=False, max_depth=30, max_features=auto, min_samples_leaf=5, n_estimators=120; total time=  17.8s\n",
            "[CV] END bootstrap=False, max_depth=30, max_features=auto, min_samples_leaf=5, n_estimators=120; total time=  17.7s\n",
            "[CV] END bootstrap=False, max_depth=30, max_features=auto, min_samples_leaf=5, n_estimators=120; total time=  17.8s\n",
            "[CV] END bootstrap=False, max_depth=30, max_features=auto, min_samples_leaf=5, n_estimators=120; total time=  17.8s\n",
            "[CV] END bootstrap=False, max_depth=30, max_features=auto, min_samples_leaf=5, n_estimators=120; total time=  17.9s\n",
            "[CV] END bootstrap=False, max_depth=30, max_features=auto, min_samples_leaf=5, n_estimators=122; total time=  18.1s\n",
            "[CV] END bootstrap=False, max_depth=30, max_features=auto, min_samples_leaf=5, n_estimators=122; total time=  18.0s\n",
            "[CV] END bootstrap=False, max_depth=30, max_features=auto, min_samples_leaf=5, n_estimators=122; total time=  18.2s\n",
            "[CV] END bootstrap=False, max_depth=30, max_features=auto, min_samples_leaf=5, n_estimators=122; total time=  18.2s\n",
            "[CV] END bootstrap=False, max_depth=30, max_features=auto, min_samples_leaf=5, n_estimators=122; total time=  18.2s\n",
            "[CV] END bootstrap=False, max_depth=30, max_features=auto, min_samples_leaf=5, n_estimators=125; total time=  18.6s\n",
            "[CV] END bootstrap=False, max_depth=30, max_features=auto, min_samples_leaf=5, n_estimators=125; total time=  18.5s\n",
            "[CV] END bootstrap=False, max_depth=30, max_features=auto, min_samples_leaf=5, n_estimators=125; total time=  18.6s\n",
            "[CV] END bootstrap=False, max_depth=30, max_features=auto, min_samples_leaf=5, n_estimators=125; total time=  18.6s\n",
            "[CV] END bootstrap=False, max_depth=30, max_features=auto, min_samples_leaf=5, n_estimators=125; total time=  18.6s\n",
            "[CV] END bootstrap=False, max_depth=30, max_features=auto, min_samples_leaf=5, n_estimators=130; total time=  19.4s\n",
            "[CV] END bootstrap=False, max_depth=30, max_features=auto, min_samples_leaf=5, n_estimators=130; total time=  19.2s\n",
            "[CV] END bootstrap=False, max_depth=30, max_features=auto, min_samples_leaf=5, n_estimators=130; total time=  19.3s\n",
            "[CV] END bootstrap=False, max_depth=30, max_features=auto, min_samples_leaf=5, n_estimators=130; total time=  19.4s\n",
            "[CV] END bootstrap=False, max_depth=30, max_features=auto, min_samples_leaf=5, n_estimators=130; total time=  19.4s\n",
            "[CV] END bootstrap=False, max_depth=30, max_features=auto, min_samples_leaf=5, n_estimators=140; total time=  20.8s\n",
            "[CV] END bootstrap=False, max_depth=30, max_features=auto, min_samples_leaf=5, n_estimators=140; total time=  20.7s\n",
            "[CV] END bootstrap=False, max_depth=30, max_features=auto, min_samples_leaf=5, n_estimators=140; total time=  20.8s\n",
            "[CV] END bootstrap=False, max_depth=30, max_features=auto, min_samples_leaf=5, n_estimators=140; total time=  20.9s\n",
            "[CV] END bootstrap=False, max_depth=30, max_features=auto, min_samples_leaf=5, n_estimators=140; total time=  20.8s\n",
            "[CV] END bootstrap=False, max_depth=30, max_features=sqrt, min_samples_leaf=3, n_estimators=120; total time=   6.2s\n",
            "[CV] END bootstrap=False, max_depth=30, max_features=sqrt, min_samples_leaf=3, n_estimators=120; total time=   6.2s\n",
            "[CV] END bootstrap=False, max_depth=30, max_features=sqrt, min_samples_leaf=3, n_estimators=120; total time=   6.2s\n",
            "[CV] END bootstrap=False, max_depth=30, max_features=sqrt, min_samples_leaf=3, n_estimators=120; total time=   6.2s\n",
            "[CV] END bootstrap=False, max_depth=30, max_features=sqrt, min_samples_leaf=3, n_estimators=120; total time=   6.3s\n",
            "[CV] END bootstrap=False, max_depth=30, max_features=sqrt, min_samples_leaf=3, n_estimators=122; total time=   6.3s\n",
            "[CV] END bootstrap=False, max_depth=30, max_features=sqrt, min_samples_leaf=3, n_estimators=122; total time=   6.3s\n",
            "[CV] END bootstrap=False, max_depth=30, max_features=sqrt, min_samples_leaf=3, n_estimators=122; total time=   6.3s\n",
            "[CV] END bootstrap=False, max_depth=30, max_features=sqrt, min_samples_leaf=3, n_estimators=122; total time=   6.3s\n",
            "[CV] END bootstrap=False, max_depth=30, max_features=sqrt, min_samples_leaf=3, n_estimators=122; total time=   6.4s\n",
            "[CV] END bootstrap=False, max_depth=30, max_features=sqrt, min_samples_leaf=3, n_estimators=125; total time=   6.5s\n",
            "[CV] END bootstrap=False, max_depth=30, max_features=sqrt, min_samples_leaf=3, n_estimators=125; total time=   6.5s\n",
            "[CV] END bootstrap=False, max_depth=30, max_features=sqrt, min_samples_leaf=3, n_estimators=125; total time=   6.5s\n",
            "[CV] END bootstrap=False, max_depth=30, max_features=sqrt, min_samples_leaf=3, n_estimators=125; total time=   6.5s\n",
            "[CV] END bootstrap=False, max_depth=30, max_features=sqrt, min_samples_leaf=3, n_estimators=125; total time=   6.6s\n",
            "[CV] END bootstrap=False, max_depth=30, max_features=sqrt, min_samples_leaf=3, n_estimators=130; total time=   6.7s\n",
            "[CV] END bootstrap=False, max_depth=30, max_features=sqrt, min_samples_leaf=3, n_estimators=130; total time=   6.7s\n",
            "[CV] END bootstrap=False, max_depth=30, max_features=sqrt, min_samples_leaf=3, n_estimators=130; total time=   6.7s\n",
            "[CV] END bootstrap=False, max_depth=30, max_features=sqrt, min_samples_leaf=3, n_estimators=130; total time=   6.8s\n",
            "[CV] END bootstrap=False, max_depth=30, max_features=sqrt, min_samples_leaf=3, n_estimators=130; total time=   6.8s\n",
            "[CV] END bootstrap=False, max_depth=30, max_features=sqrt, min_samples_leaf=3, n_estimators=140; total time=   7.3s\n",
            "[CV] END bootstrap=False, max_depth=30, max_features=sqrt, min_samples_leaf=3, n_estimators=140; total time=   7.2s\n",
            "[CV] END bootstrap=False, max_depth=30, max_features=sqrt, min_samples_leaf=3, n_estimators=140; total time=   7.3s\n",
            "[CV] END bootstrap=False, max_depth=30, max_features=sqrt, min_samples_leaf=3, n_estimators=140; total time=   7.3s\n",
            "[CV] END bootstrap=False, max_depth=30, max_features=sqrt, min_samples_leaf=3, n_estimators=140; total time=   7.3s\n",
            "[CV] END bootstrap=False, max_depth=30, max_features=sqrt, min_samples_leaf=4, n_estimators=120; total time=   5.9s\n",
            "[CV] END bootstrap=False, max_depth=30, max_features=sqrt, min_samples_leaf=4, n_estimators=120; total time=   5.9s\n",
            "[CV] END bootstrap=False, max_depth=30, max_features=sqrt, min_samples_leaf=4, n_estimators=120; total time=   5.8s\n",
            "[CV] END bootstrap=False, max_depth=30, max_features=sqrt, min_samples_leaf=4, n_estimators=120; total time=   5.9s\n",
            "[CV] END bootstrap=False, max_depth=30, max_features=sqrt, min_samples_leaf=4, n_estimators=120; total time=   5.9s\n",
            "[CV] END bootstrap=False, max_depth=30, max_features=sqrt, min_samples_leaf=4, n_estimators=122; total time=   6.0s\n",
            "[CV] END bootstrap=False, max_depth=30, max_features=sqrt, min_samples_leaf=4, n_estimators=122; total time=   6.0s\n",
            "[CV] END bootstrap=False, max_depth=30, max_features=sqrt, min_samples_leaf=4, n_estimators=122; total time=   5.9s\n",
            "[CV] END bootstrap=False, max_depth=30, max_features=sqrt, min_samples_leaf=4, n_estimators=122; total time=   5.9s\n",
            "[CV] END bootstrap=False, max_depth=30, max_features=sqrt, min_samples_leaf=4, n_estimators=122; total time=   6.0s\n",
            "[CV] END bootstrap=False, max_depth=30, max_features=sqrt, min_samples_leaf=4, n_estimators=125; total time=   6.1s\n",
            "[CV] END bootstrap=False, max_depth=30, max_features=sqrt, min_samples_leaf=4, n_estimators=125; total time=   6.1s\n",
            "[CV] END bootstrap=False, max_depth=30, max_features=sqrt, min_samples_leaf=4, n_estimators=125; total time=   6.1s\n",
            "[CV] END bootstrap=False, max_depth=30, max_features=sqrt, min_samples_leaf=4, n_estimators=125; total time=   6.1s\n",
            "[CV] END bootstrap=False, max_depth=30, max_features=sqrt, min_samples_leaf=4, n_estimators=125; total time=   6.1s\n",
            "[CV] END bootstrap=False, max_depth=30, max_features=sqrt, min_samples_leaf=4, n_estimators=130; total time=   6.3s\n",
            "[CV] END bootstrap=False, max_depth=30, max_features=sqrt, min_samples_leaf=4, n_estimators=130; total time=   6.3s\n",
            "[CV] END bootstrap=False, max_depth=30, max_features=sqrt, min_samples_leaf=4, n_estimators=130; total time=   6.3s\n",
            "[CV] END bootstrap=False, max_depth=30, max_features=sqrt, min_samples_leaf=4, n_estimators=130; total time=   6.3s\n",
            "[CV] END bootstrap=False, max_depth=30, max_features=sqrt, min_samples_leaf=4, n_estimators=130; total time=   6.4s\n",
            "[CV] END bootstrap=False, max_depth=30, max_features=sqrt, min_samples_leaf=4, n_estimators=140; total time=   6.8s\n",
            "[CV] END bootstrap=False, max_depth=30, max_features=sqrt, min_samples_leaf=4, n_estimators=140; total time=   6.9s\n",
            "[CV] END bootstrap=False, max_depth=30, max_features=sqrt, min_samples_leaf=4, n_estimators=140; total time=   6.8s\n",
            "[CV] END bootstrap=False, max_depth=30, max_features=sqrt, min_samples_leaf=4, n_estimators=140; total time=   6.9s\n",
            "[CV] END bootstrap=False, max_depth=30, max_features=sqrt, min_samples_leaf=4, n_estimators=140; total time=   6.9s\n",
            "[CV] END bootstrap=False, max_depth=30, max_features=sqrt, min_samples_leaf=5, n_estimators=120; total time=   5.7s\n",
            "[CV] END bootstrap=False, max_depth=30, max_features=sqrt, min_samples_leaf=5, n_estimators=120; total time=   5.6s\n",
            "[CV] END bootstrap=False, max_depth=30, max_features=sqrt, min_samples_leaf=5, n_estimators=120; total time=   5.6s\n",
            "[CV] END bootstrap=False, max_depth=30, max_features=sqrt, min_samples_leaf=5, n_estimators=120; total time=   5.6s\n",
            "[CV] END bootstrap=False, max_depth=30, max_features=sqrt, min_samples_leaf=5, n_estimators=120; total time=   5.6s\n",
            "[CV] END bootstrap=False, max_depth=30, max_features=sqrt, min_samples_leaf=5, n_estimators=122; total time=   5.8s\n",
            "[CV] END bootstrap=False, max_depth=30, max_features=sqrt, min_samples_leaf=5, n_estimators=122; total time=   5.7s\n",
            "[CV] END bootstrap=False, max_depth=30, max_features=sqrt, min_samples_leaf=5, n_estimators=122; total time=   5.7s\n",
            "[CV] END bootstrap=False, max_depth=30, max_features=sqrt, min_samples_leaf=5, n_estimators=122; total time=   5.7s\n",
            "[CV] END bootstrap=False, max_depth=30, max_features=sqrt, min_samples_leaf=5, n_estimators=122; total time=   5.7s\n",
            "[CV] END bootstrap=False, max_depth=30, max_features=sqrt, min_samples_leaf=5, n_estimators=125; total time=   5.9s\n",
            "[CV] END bootstrap=False, max_depth=30, max_features=sqrt, min_samples_leaf=5, n_estimators=125; total time=   5.8s\n",
            "[CV] END bootstrap=False, max_depth=30, max_features=sqrt, min_samples_leaf=5, n_estimators=125; total time=   5.9s\n",
            "[CV] END bootstrap=False, max_depth=30, max_features=sqrt, min_samples_leaf=5, n_estimators=125; total time=   5.8s\n",
            "[CV] END bootstrap=False, max_depth=30, max_features=sqrt, min_samples_leaf=5, n_estimators=125; total time=   5.8s\n",
            "[CV] END bootstrap=False, max_depth=30, max_features=sqrt, min_samples_leaf=5, n_estimators=130; total time=   6.1s\n",
            "[CV] END bootstrap=False, max_depth=30, max_features=sqrt, min_samples_leaf=5, n_estimators=130; total time=   6.0s\n",
            "[CV] END bootstrap=False, max_depth=30, max_features=sqrt, min_samples_leaf=5, n_estimators=130; total time=   6.1s\n",
            "[CV] END bootstrap=False, max_depth=30, max_features=sqrt, min_samples_leaf=5, n_estimators=130; total time=   6.0s\n",
            "[CV] END bootstrap=False, max_depth=30, max_features=sqrt, min_samples_leaf=5, n_estimators=130; total time=   6.1s\n",
            "[CV] END bootstrap=False, max_depth=30, max_features=sqrt, min_samples_leaf=5, n_estimators=140; total time=   6.6s\n",
            "[CV] END bootstrap=False, max_depth=30, max_features=sqrt, min_samples_leaf=5, n_estimators=140; total time=   6.5s\n",
            "[CV] END bootstrap=False, max_depth=30, max_features=sqrt, min_samples_leaf=5, n_estimators=140; total time=   6.6s\n",
            "[CV] END bootstrap=False, max_depth=30, max_features=sqrt, min_samples_leaf=5, n_estimators=140; total time=   6.5s\n",
            "[CV] END bootstrap=False, max_depth=30, max_features=sqrt, min_samples_leaf=5, n_estimators=140; total time=   6.6s\n",
            "[CV] END bootstrap=False, max_depth=40, max_features=auto, min_samples_leaf=3, n_estimators=120; total time=  19.7s\n",
            "[CV] END bootstrap=False, max_depth=40, max_features=auto, min_samples_leaf=3, n_estimators=120; total time=  19.6s\n",
            "[CV] END bootstrap=False, max_depth=40, max_features=auto, min_samples_leaf=3, n_estimators=120; total time=  19.7s\n",
            "[CV] END bootstrap=False, max_depth=40, max_features=auto, min_samples_leaf=3, n_estimators=120; total time=  19.8s\n",
            "[CV] END bootstrap=False, max_depth=40, max_features=auto, min_samples_leaf=3, n_estimators=120; total time=  19.7s\n",
            "[CV] END bootstrap=False, max_depth=40, max_features=auto, min_samples_leaf=3, n_estimators=122; total time=  20.1s\n",
            "[CV] END bootstrap=False, max_depth=40, max_features=auto, min_samples_leaf=3, n_estimators=122; total time=  20.0s\n",
            "[CV] END bootstrap=False, max_depth=40, max_features=auto, min_samples_leaf=3, n_estimators=122; total time=  20.1s\n",
            "[CV] END bootstrap=False, max_depth=40, max_features=auto, min_samples_leaf=3, n_estimators=122; total time=  20.1s\n",
            "[CV] END bootstrap=False, max_depth=40, max_features=auto, min_samples_leaf=3, n_estimators=122; total time=  20.1s\n",
            "[CV] END bootstrap=False, max_depth=40, max_features=auto, min_samples_leaf=3, n_estimators=125; total time=  20.6s\n",
            "[CV] END bootstrap=False, max_depth=40, max_features=auto, min_samples_leaf=3, n_estimators=125; total time=  20.4s\n",
            "[CV] END bootstrap=False, max_depth=40, max_features=auto, min_samples_leaf=3, n_estimators=125; total time=  20.5s\n",
            "[CV] END bootstrap=False, max_depth=40, max_features=auto, min_samples_leaf=3, n_estimators=125; total time=  20.6s\n",
            "[CV] END bootstrap=False, max_depth=40, max_features=auto, min_samples_leaf=3, n_estimators=125; total time=  20.5s\n",
            "[CV] END bootstrap=False, max_depth=40, max_features=auto, min_samples_leaf=3, n_estimators=130; total time=  21.4s\n",
            "[CV] END bootstrap=False, max_depth=40, max_features=auto, min_samples_leaf=3, n_estimators=130; total time=  21.3s\n",
            "[CV] END bootstrap=False, max_depth=40, max_features=auto, min_samples_leaf=3, n_estimators=130; total time=  21.4s\n",
            "[CV] END bootstrap=False, max_depth=40, max_features=auto, min_samples_leaf=3, n_estimators=130; total time=  21.4s\n",
            "[CV] END bootstrap=False, max_depth=40, max_features=auto, min_samples_leaf=3, n_estimators=130; total time=  21.4s\n",
            "[CV] END bootstrap=False, max_depth=40, max_features=auto, min_samples_leaf=3, n_estimators=140; total time=  23.0s\n",
            "[CV] END bootstrap=False, max_depth=40, max_features=auto, min_samples_leaf=3, n_estimators=140; total time=  23.1s\n",
            "[CV] END bootstrap=False, max_depth=40, max_features=auto, min_samples_leaf=3, n_estimators=140; total time=  23.0s\n",
            "[CV] END bootstrap=False, max_depth=40, max_features=auto, min_samples_leaf=3, n_estimators=140; total time=  23.0s\n",
            "[CV] END bootstrap=False, max_depth=40, max_features=auto, min_samples_leaf=3, n_estimators=140; total time=  23.0s\n",
            "[CV] END bootstrap=False, max_depth=40, max_features=auto, min_samples_leaf=4, n_estimators=120; total time=  18.6s\n",
            "[CV] END bootstrap=False, max_depth=40, max_features=auto, min_samples_leaf=4, n_estimators=120; total time=  18.5s\n",
            "[CV] END bootstrap=False, max_depth=40, max_features=auto, min_samples_leaf=4, n_estimators=120; total time=  18.6s\n",
            "[CV] END bootstrap=False, max_depth=40, max_features=auto, min_samples_leaf=4, n_estimators=120; total time=  18.7s\n",
            "[CV] END bootstrap=False, max_depth=40, max_features=auto, min_samples_leaf=4, n_estimators=120; total time=  18.7s\n",
            "[CV] END bootstrap=False, max_depth=40, max_features=auto, min_samples_leaf=4, n_estimators=122; total time=  19.0s\n",
            "[CV] END bootstrap=False, max_depth=40, max_features=auto, min_samples_leaf=4, n_estimators=122; total time=  18.8s\n",
            "[CV] END bootstrap=False, max_depth=40, max_features=auto, min_samples_leaf=4, n_estimators=122; total time=  18.9s\n",
            "[CV] END bootstrap=False, max_depth=40, max_features=auto, min_samples_leaf=4, n_estimators=122; total time=  19.0s\n",
            "[CV] END bootstrap=False, max_depth=40, max_features=auto, min_samples_leaf=4, n_estimators=122; total time=  19.0s\n",
            "[CV] END bootstrap=False, max_depth=40, max_features=auto, min_samples_leaf=4, n_estimators=125; total time=  19.4s\n",
            "[CV] END bootstrap=False, max_depth=40, max_features=auto, min_samples_leaf=4, n_estimators=125; total time=  19.2s\n",
            "[CV] END bootstrap=False, max_depth=40, max_features=auto, min_samples_leaf=4, n_estimators=125; total time=  19.3s\n",
            "[CV] END bootstrap=False, max_depth=40, max_features=auto, min_samples_leaf=4, n_estimators=125; total time=  19.4s\n",
            "[CV] END bootstrap=False, max_depth=40, max_features=auto, min_samples_leaf=4, n_estimators=125; total time=  19.4s\n",
            "[CV] END bootstrap=False, max_depth=40, max_features=auto, min_samples_leaf=4, n_estimators=130; total time=  20.2s\n",
            "[CV] END bootstrap=False, max_depth=40, max_features=auto, min_samples_leaf=4, n_estimators=130; total time=  20.0s\n",
            "[CV] END bootstrap=False, max_depth=40, max_features=auto, min_samples_leaf=4, n_estimators=130; total time=  20.1s\n",
            "[CV] END bootstrap=False, max_depth=40, max_features=auto, min_samples_leaf=4, n_estimators=130; total time=  20.2s\n",
            "[CV] END bootstrap=False, max_depth=40, max_features=auto, min_samples_leaf=4, n_estimators=130; total time=  20.2s\n",
            "[CV] END bootstrap=False, max_depth=40, max_features=auto, min_samples_leaf=4, n_estimators=140; total time=  21.8s\n",
            "[CV] END bootstrap=False, max_depth=40, max_features=auto, min_samples_leaf=4, n_estimators=140; total time=  21.5s\n",
            "[CV] END bootstrap=False, max_depth=40, max_features=auto, min_samples_leaf=4, n_estimators=140; total time=  21.6s\n",
            "[CV] END bootstrap=False, max_depth=40, max_features=auto, min_samples_leaf=4, n_estimators=140; total time=  21.7s\n",
            "[CV] END bootstrap=False, max_depth=40, max_features=auto, min_samples_leaf=4, n_estimators=140; total time=  21.8s\n",
            "[CV] END bootstrap=False, max_depth=40, max_features=auto, min_samples_leaf=5, n_estimators=120; total time=  17.9s\n",
            "[CV] END bootstrap=False, max_depth=40, max_features=auto, min_samples_leaf=5, n_estimators=120; total time=  17.8s\n",
            "[CV] END bootstrap=False, max_depth=40, max_features=auto, min_samples_leaf=5, n_estimators=120; total time=  17.8s\n",
            "[CV] END bootstrap=False, max_depth=40, max_features=auto, min_samples_leaf=5, n_estimators=120; total time=  17.8s\n",
            "[CV] END bootstrap=False, max_depth=40, max_features=auto, min_samples_leaf=5, n_estimators=120; total time=  17.9s\n",
            "[CV] END bootstrap=False, max_depth=40, max_features=auto, min_samples_leaf=5, n_estimators=122; total time=  18.1s\n",
            "[CV] END bootstrap=False, max_depth=40, max_features=auto, min_samples_leaf=5, n_estimators=122; total time=  18.1s\n",
            "[CV] END bootstrap=False, max_depth=40, max_features=auto, min_samples_leaf=5, n_estimators=122; total time=  18.1s\n",
            "[CV] END bootstrap=False, max_depth=40, max_features=auto, min_samples_leaf=5, n_estimators=122; total time=  18.2s\n",
            "[CV] END bootstrap=False, max_depth=40, max_features=auto, min_samples_leaf=5, n_estimators=122; total time=  18.2s\n",
            "[CV] END bootstrap=False, max_depth=40, max_features=auto, min_samples_leaf=5, n_estimators=125; total time=  18.6s\n",
            "[CV] END bootstrap=False, max_depth=40, max_features=auto, min_samples_leaf=5, n_estimators=125; total time=  18.4s\n",
            "[CV] END bootstrap=False, max_depth=40, max_features=auto, min_samples_leaf=5, n_estimators=125; total time=  18.6s\n",
            "[CV] END bootstrap=False, max_depth=40, max_features=auto, min_samples_leaf=5, n_estimators=125; total time=  18.6s\n",
            "[CV] END bootstrap=False, max_depth=40, max_features=auto, min_samples_leaf=5, n_estimators=125; total time=  18.7s\n",
            "[CV] END bootstrap=False, max_depth=40, max_features=auto, min_samples_leaf=5, n_estimators=130; total time=  19.3s\n",
            "[CV] END bootstrap=False, max_depth=40, max_features=auto, min_samples_leaf=5, n_estimators=130; total time=  19.3s\n",
            "[CV] END bootstrap=False, max_depth=40, max_features=auto, min_samples_leaf=5, n_estimators=130; total time=  19.3s\n",
            "[CV] END bootstrap=False, max_depth=40, max_features=auto, min_samples_leaf=5, n_estimators=130; total time=  19.4s\n",
            "[CV] END bootstrap=False, max_depth=40, max_features=auto, min_samples_leaf=5, n_estimators=130; total time=  19.4s\n",
            "[CV] END bootstrap=False, max_depth=40, max_features=auto, min_samples_leaf=5, n_estimators=140; total time=  20.8s\n",
            "[CV] END bootstrap=False, max_depth=40, max_features=auto, min_samples_leaf=5, n_estimators=140; total time=  20.7s\n",
            "[CV] END bootstrap=False, max_depth=40, max_features=auto, min_samples_leaf=5, n_estimators=140; total time=  20.8s\n",
            "[CV] END bootstrap=False, max_depth=40, max_features=auto, min_samples_leaf=5, n_estimators=140; total time=  20.9s\n",
            "[CV] END bootstrap=False, max_depth=40, max_features=auto, min_samples_leaf=5, n_estimators=140; total time=  20.9s\n",
            "[CV] END bootstrap=False, max_depth=40, max_features=sqrt, min_samples_leaf=3, n_estimators=120; total time=   6.2s\n",
            "[CV] END bootstrap=False, max_depth=40, max_features=sqrt, min_samples_leaf=3, n_estimators=120; total time=   6.2s\n",
            "[CV] END bootstrap=False, max_depth=40, max_features=sqrt, min_samples_leaf=3, n_estimators=120; total time=   6.2s\n",
            "[CV] END bootstrap=False, max_depth=40, max_features=sqrt, min_samples_leaf=3, n_estimators=120; total time=   6.2s\n",
            "[CV] END bootstrap=False, max_depth=40, max_features=sqrt, min_samples_leaf=3, n_estimators=120; total time=   6.3s\n",
            "[CV] END bootstrap=False, max_depth=40, max_features=sqrt, min_samples_leaf=3, n_estimators=122; total time=   6.3s\n",
            "[CV] END bootstrap=False, max_depth=40, max_features=sqrt, min_samples_leaf=3, n_estimators=122; total time=   6.3s\n",
            "[CV] END bootstrap=False, max_depth=40, max_features=sqrt, min_samples_leaf=3, n_estimators=122; total time=   6.3s\n"
          ]
        }
      ],
      "source": [
        "%%time\n",
        "g_search.fit(X_train, y_train);\n",
        "\n",
        "print(g_search.best_params_)"
      ]
    },
    {
      "cell_type": "code",
      "execution_count": null,
      "metadata": {
        "id": "uY82EhLYPitq"
      },
      "outputs": [],
      "source": [
        "%%time\n",
        "y_pred_train = rdf.predict(X_train)\n",
        "y_pred_test = rdf.predict(X_test)\n",
        "Performance_Metrices(y_train, y_test,y_pred_train,y_pred_test,g_search)\n"
      ]
    },
    {
      "cell_type": "code",
      "execution_count": null,
      "metadata": {
        "id": "GeeFrhvOLJv0"
      },
      "outputs": [],
      "source": [
        "Training R2 Score: 0.9871786072023802\n",
        "Testing R2 Score . 0.9060833307925076\n",
        "Training Root Mean Square Error: 351.81964781907436\n",
        "Testing Root Mean Square Error . 925.9014783370799\n",
        "Training MSE : 123777.0645915375\n",
        "Testing MSE: 857293.54758679\n",
        "Training MAPE 0.03716074235312536\n",
        "Testing MAPE : 0.09793668556611002"
      ]
    },
    {
      "cell_type": "code",
      "execution_count": null,
      "metadata": {
        "id": "8b8TYxMsJQLK"
      },
      "outputs": [],
      "source": [
        "print(best_grid.score(X_test,y_test))"
      ]
    },
    {
      "cell_type": "markdown",
      "metadata": {
        "id": "wzHUcqldK2ML"
      },
      "source": [
        "#### Implementation of Model Using Randomized SearchCV"
      ]
    },
    {
      "cell_type": "code",
      "execution_count": null,
      "metadata": {
        "id": "eCHQ2e_AuIPP"
      },
      "outputs": [],
      "source": [
        "param_grid = {\n",
        "    'bootstrap' : [True, False],\n",
        "    'max_depth': [20,30,40,50,55],\n",
        "    'max_features' : ['auto', 'sqrt'],\n",
        "    'min_samples_leaf': [3, 4, 5],\n",
        "    #'min_samples_split': [8, 10, 12],\n",
        "    'n_estimators': [120,122,125,130,140]}"
      ]
    },
    {
      "cell_type": "code",
      "execution_count": null,
      "metadata": {
        "id": "xvXOT-OAtk-Y"
      },
      "outputs": [],
      "source": [
        "def evaluate(model, test_features, test_labels):\n",
        "    predictions = model.predict(test_features)\n",
        "    errors = abs(predictions - test_labels)\n",
        "    mape = 100 * np.mean(errors / test_labels)\n",
        "    accuracy = 100 - mape\n",
        "    print('Model Performance')\n",
        "    print('Average Error: {:0.4f} degrees.'.format(np.mean(errors)))\n",
        "    print('Accuracy = {:0.2f}%.'.format(accuracy))\n",
        "    \n",
        "    return accuracy"
      ]
    },
    {
      "cell_type": "code",
      "execution_count": null,
      "metadata": {
        "id": "bugnuXdPLBOL"
      },
      "outputs": [],
      "source": [
        "rfr_random = RandomizedSearchCV(estimator=rfr,\n",
        "                                param_distributions=param_grid,\n",
        "                                n_iter = 80,\n",
        "                                scoring='neg_mean_absolute_error',\n",
        "                                cv = 3,\n",
        "                                verbose=2, \n",
        "                                random_state=42                              \n",
        "                                )\n"
      ]
    },
    {
      "cell_type": "code",
      "execution_count": null,
      "metadata": {
        "colab": {
          "base_uri": "https://localhost:8080/"
        },
        "id": "tulMR_rpzfPJ",
        "outputId": "2feb6d13-b3d1-419c-86a6-b028b4888bf3"
      },
      "outputs": [
        {
          "name": "stdout",
          "output_type": "stream",
          "text": [
            "Fitting 3 folds for each of 80 candidates, totalling 240 fits\n",
            "[CV] END bootstrap=True, max_depth=30, max_features=auto, min_samples_leaf=3, n_estimators=120; total time=  10.4s\n",
            "[CV] END bootstrap=True, max_depth=30, max_features=auto, min_samples_leaf=3, n_estimators=120; total time=  10.4s\n",
            "[CV] END bootstrap=True, max_depth=30, max_features=auto, min_samples_leaf=3, n_estimators=120; total time=  10.4s\n",
            "[CV] END bootstrap=True, max_depth=20, max_features=auto, min_samples_leaf=4, n_estimators=130; total time=  10.6s\n",
            "[CV] END bootstrap=True, max_depth=20, max_features=auto, min_samples_leaf=4, n_estimators=130; total time=  10.6s\n",
            "[CV] END bootstrap=True, max_depth=20, max_features=auto, min_samples_leaf=4, n_estimators=130; total time=  10.6s\n",
            "[CV] END bootstrap=True, max_depth=50, max_features=sqrt, min_samples_leaf=5, n_estimators=122; total time=   3.3s\n",
            "[CV] END bootstrap=True, max_depth=50, max_features=sqrt, min_samples_leaf=5, n_estimators=122; total time=   3.3s\n",
            "[CV] END bootstrap=True, max_depth=50, max_features=sqrt, min_samples_leaf=5, n_estimators=122; total time=   3.3s\n",
            "[CV] END bootstrap=True, max_depth=55, max_features=sqrt, min_samples_leaf=3, n_estimators=122; total time=   3.6s\n",
            "[CV] END bootstrap=True, max_depth=55, max_features=sqrt, min_samples_leaf=3, n_estimators=122; total time=   3.6s\n",
            "[CV] END bootstrap=True, max_depth=55, max_features=sqrt, min_samples_leaf=3, n_estimators=122; total time=   3.6s\n",
            "[CV] END bootstrap=True, max_depth=55, max_features=auto, min_samples_leaf=5, n_estimators=120; total time=   9.3s\n",
            "[CV] END bootstrap=True, max_depth=55, max_features=auto, min_samples_leaf=5, n_estimators=120; total time=  10.1s\n",
            "[CV] END bootstrap=True, max_depth=55, max_features=auto, min_samples_leaf=5, n_estimators=120; total time=   9.3s\n",
            "[CV] END bootstrap=False, max_depth=40, max_features=auto, min_samples_leaf=4, n_estimators=120; total time=  16.0s\n",
            "[CV] END bootstrap=False, max_depth=40, max_features=auto, min_samples_leaf=4, n_estimators=120; total time=  15.6s\n",
            "[CV] END bootstrap=False, max_depth=40, max_features=auto, min_samples_leaf=4, n_estimators=120; total time=  15.6s\n",
            "[CV] END bootstrap=False, max_depth=55, max_features=sqrt, min_samples_leaf=4, n_estimators=122; total time=   5.0s\n",
            "[CV] END bootstrap=False, max_depth=55, max_features=sqrt, min_samples_leaf=4, n_estimators=122; total time=   5.1s\n",
            "[CV] END bootstrap=False, max_depth=55, max_features=sqrt, min_samples_leaf=4, n_estimators=122; total time=   5.1s\n",
            "[CV] END bootstrap=True, max_depth=50, max_features=sqrt, min_samples_leaf=3, n_estimators=130; total time=   3.9s\n",
            "[CV] END bootstrap=True, max_depth=50, max_features=sqrt, min_samples_leaf=3, n_estimators=130; total time=   3.9s\n",
            "[CV] END bootstrap=True, max_depth=50, max_features=sqrt, min_samples_leaf=3, n_estimators=130; total time=   3.9s\n",
            "[CV] END bootstrap=True, max_depth=20, max_features=auto, min_samples_leaf=5, n_estimators=122; total time=   9.5s\n",
            "[CV] END bootstrap=True, max_depth=20, max_features=auto, min_samples_leaf=5, n_estimators=122; total time=   9.5s\n",
            "[CV] END bootstrap=True, max_depth=20, max_features=auto, min_samples_leaf=5, n_estimators=122; total time=   9.5s\n",
            "[CV] END bootstrap=False, max_depth=20, max_features=sqrt, min_samples_leaf=5, n_estimators=140; total time=   5.5s\n",
            "[CV] END bootstrap=False, max_depth=20, max_features=sqrt, min_samples_leaf=5, n_estimators=140; total time=   5.5s\n",
            "[CV] END bootstrap=False, max_depth=20, max_features=sqrt, min_samples_leaf=5, n_estimators=140; total time=   5.6s\n",
            "[CV] END bootstrap=True, max_depth=30, max_features=sqrt, min_samples_leaf=5, n_estimators=122; total time=   3.3s\n",
            "[CV] END bootstrap=True, max_depth=30, max_features=sqrt, min_samples_leaf=5, n_estimators=122; total time=   3.3s\n",
            "[CV] END bootstrap=True, max_depth=30, max_features=sqrt, min_samples_leaf=5, n_estimators=122; total time=   3.3s\n",
            "[CV] END bootstrap=False, max_depth=50, max_features=sqrt, min_samples_leaf=3, n_estimators=130; total time=   5.7s\n",
            "[CV] END bootstrap=False, max_depth=50, max_features=sqrt, min_samples_leaf=3, n_estimators=130; total time=   5.8s\n",
            "[CV] END bootstrap=False, max_depth=50, max_features=sqrt, min_samples_leaf=3, n_estimators=130; total time=   5.8s\n",
            "[CV] END bootstrap=True, max_depth=55, max_features=sqrt, min_samples_leaf=4, n_estimators=130; total time=   3.6s\n",
            "[CV] END bootstrap=True, max_depth=55, max_features=sqrt, min_samples_leaf=4, n_estimators=130; total time=   3.6s\n",
            "[CV] END bootstrap=True, max_depth=55, max_features=sqrt, min_samples_leaf=4, n_estimators=130; total time=   3.7s\n",
            "[CV] END bootstrap=False, max_depth=40, max_features=auto, min_samples_leaf=3, n_estimators=120; total time=  16.3s\n",
            "[CV] END bootstrap=False, max_depth=40, max_features=auto, min_samples_leaf=3, n_estimators=120; total time=  16.4s\n",
            "[CV] END bootstrap=False, max_depth=40, max_features=auto, min_samples_leaf=3, n_estimators=120; total time=  16.5s\n",
            "[CV] END bootstrap=True, max_depth=55, max_features=sqrt, min_samples_leaf=4, n_estimators=122; total time=   3.4s\n",
            "[CV] END bootstrap=True, max_depth=55, max_features=sqrt, min_samples_leaf=4, n_estimators=122; total time=   3.4s\n",
            "[CV] END bootstrap=True, max_depth=55, max_features=sqrt, min_samples_leaf=4, n_estimators=122; total time=   3.4s\n",
            "[CV] END bootstrap=False, max_depth=55, max_features=sqrt, min_samples_leaf=3, n_estimators=130; total time=   5.8s\n",
            "[CV] END bootstrap=False, max_depth=55, max_features=sqrt, min_samples_leaf=3, n_estimators=130; total time=   5.8s\n",
            "[CV] END bootstrap=False, max_depth=55, max_features=sqrt, min_samples_leaf=3, n_estimators=130; total time=   5.8s\n",
            "[CV] END bootstrap=False, max_depth=40, max_features=sqrt, min_samples_leaf=4, n_estimators=122; total time=   5.0s\n",
            "[CV] END bootstrap=False, max_depth=40, max_features=sqrt, min_samples_leaf=4, n_estimators=122; total time=   5.1s\n",
            "[CV] END bootstrap=False, max_depth=40, max_features=sqrt, min_samples_leaf=4, n_estimators=122; total time=   5.1s\n",
            "[CV] END bootstrap=True, max_depth=20, max_features=sqrt, min_samples_leaf=3, n_estimators=140; total time=   4.1s\n",
            "[CV] END bootstrap=True, max_depth=20, max_features=sqrt, min_samples_leaf=3, n_estimators=140; total time=   4.2s\n",
            "[CV] END bootstrap=True, max_depth=20, max_features=sqrt, min_samples_leaf=3, n_estimators=140; total time=   4.2s\n",
            "[CV] END bootstrap=False, max_depth=30, max_features=auto, min_samples_leaf=5, n_estimators=120; total time=  14.7s\n",
            "[CV] END bootstrap=False, max_depth=30, max_features=auto, min_samples_leaf=5, n_estimators=120; total time=  14.9s\n",
            "[CV] END bootstrap=False, max_depth=30, max_features=auto, min_samples_leaf=5, n_estimators=120; total time=  15.0s\n",
            "[CV] END bootstrap=False, max_depth=20, max_features=auto, min_samples_leaf=4, n_estimators=122; total time=  16.1s\n",
            "[CV] END bootstrap=False, max_depth=20, max_features=auto, min_samples_leaf=4, n_estimators=122; total time=  15.9s\n",
            "[CV] END bootstrap=False, max_depth=20, max_features=auto, min_samples_leaf=4, n_estimators=122; total time=  15.9s\n",
            "[CV] END bootstrap=False, max_depth=20, max_features=auto, min_samples_leaf=4, n_estimators=140; total time=  17.9s\n",
            "[CV] END bootstrap=False, max_depth=20, max_features=auto, min_samples_leaf=4, n_estimators=140; total time=  18.1s\n",
            "[CV] END bootstrap=False, max_depth=20, max_features=auto, min_samples_leaf=4, n_estimators=140; total time=  18.1s\n",
            "[CV] END bootstrap=True, max_depth=20, max_features=sqrt, min_samples_leaf=4, n_estimators=140; total time=   3.9s\n",
            "[CV] END bootstrap=True, max_depth=20, max_features=sqrt, min_samples_leaf=4, n_estimators=140; total time=   3.9s\n",
            "[CV] END bootstrap=True, max_depth=20, max_features=sqrt, min_samples_leaf=4, n_estimators=140; total time=   3.9s\n",
            "[CV] END bootstrap=False, max_depth=55, max_features=sqrt, min_samples_leaf=4, n_estimators=140; total time=   5.8s\n",
            "[CV] END bootstrap=False, max_depth=55, max_features=sqrt, min_samples_leaf=4, n_estimators=140; total time=   5.8s\n",
            "[CV] END bootstrap=False, max_depth=55, max_features=sqrt, min_samples_leaf=4, n_estimators=140; total time=   5.9s\n",
            "[CV] END bootstrap=True, max_depth=30, max_features=auto, min_samples_leaf=4, n_estimators=130; total time=  10.6s\n",
            "[CV] END bootstrap=True, max_depth=30, max_features=auto, min_samples_leaf=4, n_estimators=130; total time=  10.6s\n",
            "[CV] END bootstrap=True, max_depth=30, max_features=auto, min_samples_leaf=4, n_estimators=130; total time=  10.6s\n",
            "[CV] END bootstrap=False, max_depth=40, max_features=auto, min_samples_leaf=5, n_estimators=120; total time=  14.7s\n",
            "[CV] END bootstrap=False, max_depth=40, max_features=auto, min_samples_leaf=5, n_estimators=120; total time=  14.9s\n",
            "[CV] END bootstrap=False, max_depth=40, max_features=auto, min_samples_leaf=5, n_estimators=120; total time=  15.0s\n",
            "[CV] END bootstrap=False, max_depth=30, max_features=auto, min_samples_leaf=4, n_estimators=130; total time=  16.6s\n",
            "[CV] END bootstrap=False, max_depth=30, max_features=auto, min_samples_leaf=4, n_estimators=130; total time=  16.8s\n",
            "[CV] END bootstrap=False, max_depth=30, max_features=auto, min_samples_leaf=4, n_estimators=130; total time=  16.9s\n",
            "[CV] END bootstrap=True, max_depth=20, max_features=auto, min_samples_leaf=5, n_estimators=130; total time=  10.1s\n",
            "[CV] END bootstrap=True, max_depth=20, max_features=auto, min_samples_leaf=5, n_estimators=130; total time=  10.1s\n",
            "[CV] END bootstrap=True, max_depth=20, max_features=auto, min_samples_leaf=5, n_estimators=130; total time=  10.1s\n",
            "[CV] END bootstrap=False, max_depth=50, max_features=auto, min_samples_leaf=5, n_estimators=122; total time=  15.0s\n",
            "[CV] END bootstrap=False, max_depth=50, max_features=auto, min_samples_leaf=5, n_estimators=122; total time=  15.1s\n",
            "[CV] END bootstrap=False, max_depth=50, max_features=auto, min_samples_leaf=5, n_estimators=122; total time=  15.2s\n",
            "[CV] END bootstrap=False, max_depth=55, max_features=sqrt, min_samples_leaf=5, n_estimators=122; total time=   4.8s\n",
            "[CV] END bootstrap=False, max_depth=55, max_features=sqrt, min_samples_leaf=5, n_estimators=122; total time=   4.9s\n",
            "[CV] END bootstrap=False, max_depth=55, max_features=sqrt, min_samples_leaf=5, n_estimators=122; total time=   4.9s\n",
            "[CV] END bootstrap=False, max_depth=30, max_features=auto, min_samples_leaf=5, n_estimators=122; total time=  15.0s\n",
            "[CV] END bootstrap=False, max_depth=30, max_features=auto, min_samples_leaf=5, n_estimators=122; total time=  15.1s\n",
            "[CV] END bootstrap=False, max_depth=30, max_features=auto, min_samples_leaf=5, n_estimators=122; total time=  15.2s\n",
            "[CV] END bootstrap=True, max_depth=55, max_features=auto, min_samples_leaf=3, n_estimators=120; total time=  10.4s\n",
            "[CV] END bootstrap=True, max_depth=55, max_features=auto, min_samples_leaf=3, n_estimators=120; total time=  10.4s\n",
            "[CV] END bootstrap=True, max_depth=55, max_features=auto, min_samples_leaf=3, n_estimators=120; total time=  10.4s\n",
            "[CV] END bootstrap=False, max_depth=55, max_features=sqrt, min_samples_leaf=3, n_estimators=120; total time=   5.3s\n",
            "[CV] END bootstrap=False, max_depth=55, max_features=sqrt, min_samples_leaf=3, n_estimators=120; total time=   5.3s\n",
            "[CV] END bootstrap=False, max_depth=55, max_features=sqrt, min_samples_leaf=3, n_estimators=120; total time=   5.3s\n",
            "[CV] END bootstrap=True, max_depth=30, max_features=auto, min_samples_leaf=3, n_estimators=122; total time=  10.6s\n",
            "[CV] END bootstrap=True, max_depth=30, max_features=auto, min_samples_leaf=3, n_estimators=122; total time=  10.6s\n",
            "[CV] END bootstrap=True, max_depth=30, max_features=auto, min_samples_leaf=3, n_estimators=122; total time=  10.5s\n",
            "[CV] END bootstrap=False, max_depth=40, max_features=sqrt, min_samples_leaf=3, n_estimators=130; total time=   5.7s\n",
            "[CV] END bootstrap=False, max_depth=40, max_features=sqrt, min_samples_leaf=3, n_estimators=130; total time=   5.8s\n",
            "[CV] END bootstrap=False, max_depth=40, max_features=sqrt, min_samples_leaf=3, n_estimators=130; total time=   5.8s\n",
            "[CV] END bootstrap=True, max_depth=20, max_features=sqrt, min_samples_leaf=4, n_estimators=130; total time=   3.6s\n",
            "[CV] END bootstrap=True, max_depth=20, max_features=sqrt, min_samples_leaf=4, n_estimators=130; total time=   3.6s\n",
            "[CV] END bootstrap=True, max_depth=20, max_features=sqrt, min_samples_leaf=4, n_estimators=130; total time=   3.6s\n",
            "[CV] END bootstrap=True, max_depth=40, max_features=sqrt, min_samples_leaf=5, n_estimators=122; total time=   3.3s\n",
            "[CV] END bootstrap=True, max_depth=40, max_features=sqrt, min_samples_leaf=5, n_estimators=122; total time=   3.3s\n",
            "[CV] END bootstrap=True, max_depth=40, max_features=sqrt, min_samples_leaf=5, n_estimators=122; total time=   3.2s\n",
            "[CV] END bootstrap=False, max_depth=50, max_features=auto, min_samples_leaf=3, n_estimators=120; total time=  16.2s\n",
            "[CV] END bootstrap=False, max_depth=50, max_features=auto, min_samples_leaf=3, n_estimators=120; total time=  16.5s\n",
            "[CV] END bootstrap=False, max_depth=50, max_features=auto, min_samples_leaf=3, n_estimators=120; total time=  16.5s\n",
            "[CV] END bootstrap=True, max_depth=40, max_features=auto, min_samples_leaf=4, n_estimators=140; total time=  11.4s\n",
            "[CV] END bootstrap=True, max_depth=40, max_features=auto, min_samples_leaf=4, n_estimators=140; total time=  11.4s\n",
            "[CV] END bootstrap=True, max_depth=40, max_features=auto, min_samples_leaf=4, n_estimators=140; total time=  11.4s\n",
            "[CV] END bootstrap=True, max_depth=50, max_features=auto, min_samples_leaf=4, n_estimators=140; total time=  11.4s\n",
            "[CV] END bootstrap=True, max_depth=50, max_features=auto, min_samples_leaf=4, n_estimators=140; total time=  11.4s\n",
            "[CV] END bootstrap=True, max_depth=50, max_features=auto, min_samples_leaf=4, n_estimators=140; total time=  11.4s\n",
            "[CV] END bootstrap=False, max_depth=40, max_features=auto, min_samples_leaf=4, n_estimators=140; total time=  17.9s\n",
            "[CV] END bootstrap=False, max_depth=40, max_features=auto, min_samples_leaf=4, n_estimators=140; total time=  18.2s\n",
            "[CV] END bootstrap=False, max_depth=40, max_features=auto, min_samples_leaf=4, n_estimators=140; total time=  18.2s\n",
            "[CV] END bootstrap=False, max_depth=55, max_features=auto, min_samples_leaf=5, n_estimators=140; total time=  17.2s\n",
            "[CV] END bootstrap=False, max_depth=55, max_features=auto, min_samples_leaf=5, n_estimators=140; total time=  17.3s\n",
            "[CV] END bootstrap=False, max_depth=55, max_features=auto, min_samples_leaf=5, n_estimators=140; total time=  17.5s\n",
            "[CV] END bootstrap=True, max_depth=55, max_features=sqrt, min_samples_leaf=4, n_estimators=120; total time=   3.4s\n",
            "[CV] END bootstrap=True, max_depth=55, max_features=sqrt, min_samples_leaf=4, n_estimators=120; total time=   3.4s\n",
            "[CV] END bootstrap=True, max_depth=55, max_features=sqrt, min_samples_leaf=4, n_estimators=120; total time=   3.4s\n",
            "[CV] END bootstrap=False, max_depth=55, max_features=auto, min_samples_leaf=4, n_estimators=122; total time=  15.6s\n",
            "[CV] END bootstrap=False, max_depth=55, max_features=auto, min_samples_leaf=4, n_estimators=122; total time=  15.8s\n",
            "[CV] END bootstrap=False, max_depth=55, max_features=auto, min_samples_leaf=4, n_estimators=122; total time=  15.9s\n",
            "[CV] END bootstrap=True, max_depth=20, max_features=sqrt, min_samples_leaf=4, n_estimators=120; total time=   3.4s\n",
            "[CV] END bootstrap=True, max_depth=20, max_features=sqrt, min_samples_leaf=4, n_estimators=120; total time=   3.4s\n",
            "[CV] END bootstrap=True, max_depth=20, max_features=sqrt, min_samples_leaf=4, n_estimators=120; total time=   3.4s\n",
            "[CV] END bootstrap=False, max_depth=30, max_features=sqrt, min_samples_leaf=3, n_estimators=120; total time=   5.3s\n",
            "[CV] END bootstrap=False, max_depth=30, max_features=sqrt, min_samples_leaf=3, n_estimators=120; total time=   5.3s\n",
            "[CV] END bootstrap=False, max_depth=30, max_features=sqrt, min_samples_leaf=3, n_estimators=120; total time=   5.4s\n",
            "[CV] END bootstrap=True, max_depth=40, max_features=sqrt, min_samples_leaf=4, n_estimators=130; total time=   3.6s\n",
            "[CV] END bootstrap=True, max_depth=40, max_features=sqrt, min_samples_leaf=4, n_estimators=130; total time=   3.6s\n",
            "[CV] END bootstrap=True, max_depth=40, max_features=sqrt, min_samples_leaf=4, n_estimators=130; total time=   3.7s\n",
            "[CV] END bootstrap=False, max_depth=30, max_features=sqrt, min_samples_leaf=5, n_estimators=122; total time=   4.8s\n",
            "[CV] END bootstrap=False, max_depth=30, max_features=sqrt, min_samples_leaf=5, n_estimators=122; total time=   4.9s\n",
            "[CV] END bootstrap=False, max_depth=30, max_features=sqrt, min_samples_leaf=5, n_estimators=122; total time=   4.9s\n",
            "[CV] END bootstrap=True, max_depth=30, max_features=sqrt, min_samples_leaf=3, n_estimators=130; total time=   3.9s\n",
            "[CV] END bootstrap=True, max_depth=30, max_features=sqrt, min_samples_leaf=3, n_estimators=130; total time=   3.9s\n",
            "[CV] END bootstrap=True, max_depth=30, max_features=sqrt, min_samples_leaf=3, n_estimators=130; total time=   3.9s\n",
            "[CV] END bootstrap=False, max_depth=20, max_features=sqrt, min_samples_leaf=4, n_estimators=140; total time=   5.8s\n",
            "[CV] END bootstrap=False, max_depth=20, max_features=sqrt, min_samples_leaf=4, n_estimators=140; total time=   5.9s\n",
            "[CV] END bootstrap=False, max_depth=20, max_features=sqrt, min_samples_leaf=4, n_estimators=140; total time=   5.9s\n",
            "[CV] END bootstrap=True, max_depth=40, max_features=sqrt, min_samples_leaf=3, n_estimators=120; total time=   3.6s\n",
            "[CV] END bootstrap=True, max_depth=40, max_features=sqrt, min_samples_leaf=3, n_estimators=120; total time=   3.6s\n",
            "[CV] END bootstrap=True, max_depth=40, max_features=sqrt, min_samples_leaf=3, n_estimators=120; total time=   3.5s\n",
            "[CV] END bootstrap=False, max_depth=50, max_features=sqrt, min_samples_leaf=3, n_estimators=120; total time=   5.3s\n",
            "[CV] END bootstrap=False, max_depth=50, max_features=sqrt, min_samples_leaf=3, n_estimators=120; total time=   5.4s\n",
            "[CV] END bootstrap=False, max_depth=50, max_features=sqrt, min_samples_leaf=3, n_estimators=120; total time=   5.4s\n",
            "[CV] END bootstrap=False, max_depth=40, max_features=sqrt, min_samples_leaf=4, n_estimators=130; total time=   5.3s\n",
            "[CV] END bootstrap=False, max_depth=40, max_features=sqrt, min_samples_leaf=4, n_estimators=130; total time=   5.4s\n",
            "[CV] END bootstrap=False, max_depth=40, max_features=sqrt, min_samples_leaf=4, n_estimators=130; total time=   5.4s\n",
            "[CV] END bootstrap=False, max_depth=50, max_features=sqrt, min_samples_leaf=3, n_estimators=140; total time=   6.2s\n",
            "[CV] END bootstrap=False, max_depth=50, max_features=sqrt, min_samples_leaf=3, n_estimators=140; total time=   6.3s\n",
            "[CV] END bootstrap=False, max_depth=50, max_features=sqrt, min_samples_leaf=3, n_estimators=140; total time=   6.3s\n",
            "[CV] END bootstrap=False, max_depth=50, max_features=auto, min_samples_leaf=3, n_estimators=122; total time=  16.6s\n",
            "[CV] END bootstrap=False, max_depth=50, max_features=auto, min_samples_leaf=3, n_estimators=122; total time=  16.7s\n",
            "[CV] END bootstrap=False, max_depth=50, max_features=auto, min_samples_leaf=3, n_estimators=122; total time=  16.8s\n",
            "[CV] END bootstrap=False, max_depth=55, max_features=auto, min_samples_leaf=5, n_estimators=120; total time=  14.8s\n",
            "[CV] END bootstrap=False, max_depth=55, max_features=auto, min_samples_leaf=5, n_estimators=120; total time=  14.9s\n",
            "[CV] END bootstrap=False, max_depth=55, max_features=auto, min_samples_leaf=5, n_estimators=120; total time=  15.0s\n",
            "[CV] END bootstrap=False, max_depth=50, max_features=sqrt, min_samples_leaf=4, n_estimators=122; total time=   5.0s\n",
            "[CV] END bootstrap=False, max_depth=50, max_features=sqrt, min_samples_leaf=4, n_estimators=122; total time=   5.1s\n",
            "[CV] END bootstrap=False, max_depth=50, max_features=sqrt, min_samples_leaf=4, n_estimators=122; total time=   5.1s\n",
            "[CV] END bootstrap=True, max_depth=55, max_features=sqrt, min_samples_leaf=4, n_estimators=140; total time=   4.0s\n",
            "[CV] END bootstrap=True, max_depth=55, max_features=sqrt, min_samples_leaf=4, n_estimators=140; total time=   3.9s\n",
            "[CV] END bootstrap=True, max_depth=55, max_features=sqrt, min_samples_leaf=4, n_estimators=140; total time=   4.0s\n",
            "[CV] END bootstrap=False, max_depth=55, max_features=auto, min_samples_leaf=3, n_estimators=140; total time=  19.0s\n",
            "[CV] END bootstrap=False, max_depth=55, max_features=auto, min_samples_leaf=3, n_estimators=140; total time=  19.2s\n",
            "[CV] END bootstrap=False, max_depth=55, max_features=auto, min_samples_leaf=3, n_estimators=140; total time=  19.3s\n",
            "[CV] END bootstrap=True, max_depth=50, max_features=auto, min_samples_leaf=3, n_estimators=122; total time=  10.6s\n",
            "[CV] END bootstrap=True, max_depth=50, max_features=auto, min_samples_leaf=3, n_estimators=122; total time=  10.6s\n",
            "[CV] END bootstrap=True, max_depth=50, max_features=auto, min_samples_leaf=3, n_estimators=122; total time=  10.6s\n",
            "[CV] END bootstrap=False, max_depth=20, max_features=sqrt, min_samples_leaf=4, n_estimators=120; total time=   5.0s\n",
            "[CV] END bootstrap=False, max_depth=20, max_features=sqrt, min_samples_leaf=4, n_estimators=120; total time=   5.0s\n",
            "[CV] END bootstrap=False, max_depth=20, max_features=sqrt, min_samples_leaf=4, n_estimators=120; total time=   5.0s\n",
            "[CV] END bootstrap=True, max_depth=50, max_features=sqrt, min_samples_leaf=5, n_estimators=140; total time=   3.8s\n",
            "[CV] END bootstrap=True, max_depth=50, max_features=sqrt, min_samples_leaf=5, n_estimators=140; total time=   3.8s\n",
            "[CV] END bootstrap=True, max_depth=50, max_features=sqrt, min_samples_leaf=5, n_estimators=140; total time=   3.8s\n",
            "[CV] END bootstrap=False, max_depth=20, max_features=auto, min_samples_leaf=4, n_estimators=130; total time=  16.6s\n",
            "[CV] END bootstrap=False, max_depth=20, max_features=auto, min_samples_leaf=4, n_estimators=130; total time=  16.9s\n",
            "[CV] END bootstrap=False, max_depth=20, max_features=auto, min_samples_leaf=4, n_estimators=130; total time=  16.9s\n",
            "[CV] END bootstrap=False, max_depth=20, max_features=auto, min_samples_leaf=3, n_estimators=120; total time=  16.3s\n",
            "[CV] END bootstrap=False, max_depth=20, max_features=auto, min_samples_leaf=3, n_estimators=120; total time=  16.3s\n",
            "[CV] END bootstrap=False, max_depth=20, max_features=auto, min_samples_leaf=3, n_estimators=120; total time=  16.5s\n",
            "[CV] END bootstrap=True, max_depth=40, max_features=sqrt, min_samples_leaf=4, n_estimators=140; total time=   3.9s\n",
            "[CV] END bootstrap=True, max_depth=40, max_features=sqrt, min_samples_leaf=4, n_estimators=140; total time=   4.0s\n",
            "[CV] END bootstrap=True, max_depth=40, max_features=sqrt, min_samples_leaf=4, n_estimators=140; total time=   4.0s\n",
            "[CV] END bootstrap=True, max_depth=55, max_features=auto, min_samples_leaf=4, n_estimators=122; total time=  10.0s\n",
            "[CV] END bootstrap=True, max_depth=55, max_features=auto, min_samples_leaf=4, n_estimators=122; total time=  10.0s\n",
            "[CV] END bootstrap=True, max_depth=55, max_features=auto, min_samples_leaf=4, n_estimators=122; total time=  10.0s\n",
            "[CV] END bootstrap=True, max_depth=40, max_features=sqrt, min_samples_leaf=5, n_estimators=120; total time=   3.2s\n",
            "[CV] END bootstrap=True, max_depth=40, max_features=sqrt, min_samples_leaf=5, n_estimators=120; total time=   3.2s\n",
            "[CV] END bootstrap=True, max_depth=40, max_features=sqrt, min_samples_leaf=5, n_estimators=120; total time=   3.2s\n",
            "[CV] END bootstrap=True, max_depth=55, max_features=sqrt, min_samples_leaf=3, n_estimators=120; total time=   3.6s\n",
            "[CV] END bootstrap=True, max_depth=55, max_features=sqrt, min_samples_leaf=3, n_estimators=120; total time=   3.6s\n",
            "[CV] END bootstrap=True, max_depth=55, max_features=sqrt, min_samples_leaf=3, n_estimators=120; total time=   3.6s\n",
            "[CV] END bootstrap=True, max_depth=50, max_features=sqrt, min_samples_leaf=3, n_estimators=120; total time=   3.6s\n",
            "[CV] END bootstrap=True, max_depth=50, max_features=sqrt, min_samples_leaf=3, n_estimators=120; total time=   3.6s\n",
            "[CV] END bootstrap=True, max_depth=50, max_features=sqrt, min_samples_leaf=3, n_estimators=120; total time=   3.6s\n",
            "[CV] END bootstrap=True, max_depth=55, max_features=sqrt, min_samples_leaf=5, n_estimators=122; total time=   3.3s\n",
            "[CV] END bootstrap=True, max_depth=55, max_features=sqrt, min_samples_leaf=5, n_estimators=122; total time=   3.3s\n",
            "[CV] END bootstrap=True, max_depth=55, max_features=sqrt, min_samples_leaf=5, n_estimators=122; total time=   3.3s\n",
            "[CV] END bootstrap=False, max_depth=50, max_features=auto, min_samples_leaf=3, n_estimators=130; total time=  17.7s\n",
            "[CV] END bootstrap=False, max_depth=50, max_features=auto, min_samples_leaf=3, n_estimators=130; total time=  17.9s\n",
            "[CV] END bootstrap=False, max_depth=50, max_features=auto, min_samples_leaf=3, n_estimators=130; total time=  17.9s\n",
            "[CV] END bootstrap=False, max_depth=40, max_features=auto, min_samples_leaf=5, n_estimators=122; total time=  15.0s\n",
            "[CV] END bootstrap=False, max_depth=40, max_features=auto, min_samples_leaf=5, n_estimators=122; total time=  15.2s\n",
            "[CV] END bootstrap=False, max_depth=40, max_features=auto, min_samples_leaf=5, n_estimators=122; total time=  15.2s\n",
            "[CV] END bootstrap=True, max_depth=55, max_features=sqrt, min_samples_leaf=3, n_estimators=140; total time=   4.2s\n",
            "[CV] END bootstrap=True, max_depth=55, max_features=sqrt, min_samples_leaf=3, n_estimators=140; total time=   4.2s\n",
            "[CV] END bootstrap=True, max_depth=55, max_features=sqrt, min_samples_leaf=3, n_estimators=140; total time=   4.2s\n",
            "[CV] END bootstrap=True, max_depth=30, max_features=auto, min_samples_leaf=4, n_estimators=122; total time=  10.0s\n",
            "[CV] END bootstrap=True, max_depth=30, max_features=auto, min_samples_leaf=4, n_estimators=122; total time=   9.9s\n",
            "[CV] END bootstrap=True, max_depth=30, max_features=auto, min_samples_leaf=4, n_estimators=122; total time=  10.0s\n",
            "[CV] END bootstrap=False, max_depth=20, max_features=auto, min_samples_leaf=4, n_estimators=120; total time=  15.3s\n",
            "[CV] END bootstrap=False, max_depth=20, max_features=auto, min_samples_leaf=4, n_estimators=120; total time=  15.5s\n",
            "[CV] END bootstrap=False, max_depth=20, max_features=auto, min_samples_leaf=4, n_estimators=120; total time=  15.6s\n",
            "[CV] END bootstrap=True, max_depth=50, max_features=auto, min_samples_leaf=3, n_estimators=140; total time=  12.2s\n",
            "[CV] END bootstrap=True, max_depth=50, max_features=auto, min_samples_leaf=3, n_estimators=140; total time=  12.1s\n",
            "[CV] END bootstrap=True, max_depth=50, max_features=auto, min_samples_leaf=3, n_estimators=140; total time=  12.1s\n",
            "[CV] END bootstrap=True, max_depth=50, max_features=auto, min_samples_leaf=5, n_estimators=130; total time=  10.1s\n",
            "[CV] END bootstrap=True, max_depth=50, max_features=auto, min_samples_leaf=5, n_estimators=130; total time=  10.2s\n",
            "[CV] END bootstrap=True, max_depth=50, max_features=auto, min_samples_leaf=5, n_estimators=130; total time=  10.2s\n",
            "[CV] END bootstrap=True, max_depth=20, max_features=auto, min_samples_leaf=4, n_estimators=122; total time=   9.9s\n",
            "[CV] END bootstrap=True, max_depth=20, max_features=auto, min_samples_leaf=4, n_estimators=122; total time=  10.0s\n",
            "[CV] END bootstrap=True, max_depth=20, max_features=auto, min_samples_leaf=4, n_estimators=122; total time=  10.0s\n",
            "[CV] END bootstrap=True, max_depth=40, max_features=auto, min_samples_leaf=5, n_estimators=120; total time=   9.4s\n",
            "[CV] END bootstrap=True, max_depth=40, max_features=auto, min_samples_leaf=5, n_estimators=120; total time=   9.4s\n",
            "[CV] END bootstrap=True, max_depth=40, max_features=auto, min_samples_leaf=5, n_estimators=120; total time=   9.4s\n",
            "[CV] END bootstrap=False, max_depth=30, max_features=sqrt, min_samples_leaf=5, n_estimators=120; total time=   4.7s\n",
            "[CV] END bootstrap=False, max_depth=30, max_features=sqrt, min_samples_leaf=5, n_estimators=120; total time=   4.8s\n",
            "[CV] END bootstrap=False, max_depth=30, max_features=sqrt, min_samples_leaf=5, n_estimators=120; total time=   4.8s\n",
            "[CV] END bootstrap=False, max_depth=30, max_features=sqrt, min_samples_leaf=3, n_estimators=140; total time=   6.2s\n",
            "[CV] END bootstrap=False, max_depth=30, max_features=sqrt, min_samples_leaf=3, n_estimators=140; total time=   6.3s\n",
            "[CV] END bootstrap=False, max_depth=30, max_features=sqrt, min_samples_leaf=3, n_estimators=140; total time=   6.2s\n"
          ]
        },
        {
          "data": {
            "text/plain": [
              "RandomizedSearchCV(cv=3, estimator=RandomForestRegressor(random_state=0),\n",
              "                   n_iter=80,\n",
              "                   param_distributions={'bootstrap': [True, False],\n",
              "                                        'max_depth': [20, 30, 40, 50, 55],\n",
              "                                        'max_features': ['auto', 'sqrt'],\n",
              "                                        'min_samples_leaf': [3, 4, 5],\n",
              "                                        'n_estimators': [120, 122, 130, 140]},\n",
              "                   random_state=42, scoring='neg_mean_absolute_error',\n",
              "                   verbose=2)"
            ]
          },
          "execution_count": 72,
          "metadata": {},
          "output_type": "execute_result"
        }
      ],
      "source": [
        "rfr_random.fit(X_train, y_train)"
      ]
    },
    {
      "cell_type": "code",
      "execution_count": null,
      "metadata": {
        "colab": {
          "base_uri": "https://localhost:8080/"
        },
        "id": "fL216KUy519W",
        "outputId": "0270b565-c183-4089-9e1b-9e6ac7762f80"
      },
      "outputs": [
        {
          "name": "stdout",
          "output_type": "stream",
          "text": [
            "{'n_estimators': 120, 'min_samples_leaf': 3, 'max_features': 'auto', 'max_depth': 50, 'bootstrap': True}\n"
          ]
        }
      ],
      "source": [
        "print(rfr_random.best_params_)"
      ]
    },
    {
      "cell_type": "code",
      "execution_count": null,
      "metadata": {
        "colab": {
          "base_uri": "https://localhost:8080/"
        },
        "id": "27igQd8cMkg-",
        "outputId": "78da7ce4-097f-4f0b-f076-bcc6d4eb7b75"
      },
      "outputs": [
        {
          "name": "stdout",
          "output_type": "stream",
          "text": [
            "{'n_estimators': 122, 'min_samples_leaf': 3, 'max_features': 'auto', 'max_depth': 30, 'bootstrap': True}\n"
          ]
        }
      ],
      "source": [
        "print(rfr_random.best_params_)"
      ]
    },
    {
      "cell_type": "code",
      "execution_count": null,
      "metadata": {
        "id": "LfnT9CGm6gbN"
      },
      "outputs": [],
      "source": [
        "def evaluate(model, test_features, test_labels):\n",
        "    predictions = model.predict(test_features)\n",
        "    errors = abs(predictions - test_labels)\n",
        "    mape = 100 * np.mean(errors / test_labels)\n",
        "    accuracy = 100 - mape\n",
        "    print('Model Performance')\n",
        "    print('Average Error: {:0.4f} degrees.'.format(np.mean(errors)))\n",
        "    print('Accuracy = {:0.2f}%.'.format(accuracy))\n",
        "    \n",
        "    return accuracy"
      ]
    },
    {
      "cell_type": "code",
      "execution_count": null,
      "metadata": {
        "colab": {
          "base_uri": "https://localhost:8080/"
        },
        "id": "zpCccThSLkdE",
        "outputId": "c4cc9404-c0a1-4d29-b2b0-effd80edbe0e"
      },
      "outputs": [
        {
          "name": "stdout",
          "output_type": "stream",
          "text": [
            "Training R2 Score: 0.9670593014690911\n",
            "Testing R2 Score . 0.9046658664665191\n",
            "Training Root Mean Square Error: 563.9218067717609\n",
            "Testing Root Mean Square Error . 932.8625283927832\n",
            "Training MSE : 318007.80415272724\n",
            "Testing MSE: 870232.4968793762\n",
            "Training MAPE 0.05777741688850214\n",
            "Testing MAPE : 0.09947997148625518\n",
            "CPU times: user 1.76 s, sys: 7.96 ms, total: 1.77 s\n",
            "Wall time: 2.12 s\n"
          ]
        }
      ],
      "source": [
        "%%time\n",
        "y_pred_train = rfr_random.predict(X_train)\n",
        "y_pred_test = rfr_random.predict(X_test)\n",
        "Performance_Metrices(y_train,\n",
        "                     y_test,y_pred_train,y_pred_test,rfr_random)\n"
      ]
    },
    {
      "cell_type": "code",
      "execution_count": null,
      "metadata": {
        "id": "kDlfSdEw6uTL"
      },
      "outputs": [],
      "source": [
        ""
      ]
    },
    {
      "cell_type": "code",
      "execution_count": null,
      "metadata": {
        "id": "FOw1F6Ye53PY"
      },
      "outputs": [],
      "source": [
        "evaluate(rfr_random, test_features, test_labels)"
      ]
    },
    {
      "cell_type": "code",
      "execution_count": null,
      "metadata": {
        "id": "tEcsqgurUVmB"
      },
      "outputs": [],
      "source": [
        "import xgboost as xgb"
      ]
    },
    {
      "cell_type": "code",
      "execution_count": null,
      "metadata": {
        "id": "GlMQ47DMVoqY"
      },
      "outputs": [],
      "source": [
        "xgb_model = xgb.XGBRegressor()\n",
        "xgb_model.fit(X_train,y_train)"
      ]
    },
    {
      "cell_type": "code",
      "execution_count": null,
      "metadata": {
        "id": "V9ac40UKXo9H"
      },
      "outputs": [],
      "source": [
        "validation_metrics(X_train, X_test, y_train, y_test,xgb_model)\n"
      ]
    },
    {
      "cell_type": "code",
      "execution_count": null,
      "metadata": {
        "id": "sZjiOKQvW7GE"
      },
      "outputs": [],
      "source": [
        "validation_metrics(X_train, X_test, y_train, y_test,xgb_model)"
      ]
    },
    {
      "cell_type": "code",
      "execution_count": null,
      "metadata": {
        "id": "beztaltiaf6V"
      },
      "outputs": [],
      "source": [
        "import warnings\n",
        "\n",
        "from sklearn.model_selection import train_test_split\n",
        "from sklearn.preprocessing import OneHotEncoder\n",
        "from sklearn.model_selection import GridSearchCV\n",
        "from sklearn.model_selection import RandomizedSearchCV\n",
        "from sklearn.model_selection import train_test_split\n",
        "#from skopt import BayesSearchCV\n",
        "#from skopt.space import Real,Categorical,Integer\n",
        "from sklearn import ensemble"
      ]
    },
    {
      "cell_type": "code",
      "execution_count": null,
      "metadata": {
        "id": "_gpsWMHYav9C"
      },
      "outputs": [],
      "source": [
        "param_dict_lr = {\n",
        "    'C':[1e-6,1e-5,1e-4,1e-3,1e-2,1e-1,1,10,100,1e+3,1e+4,1e+5,1e+6]\n",
        "}"
      ]
    },
    {
      "cell_type": "code",
      "execution_count": null,
      "metadata": {
        "id": "gv40yf62a3oq"
      },
      "outputs": [],
      "source": [
        "param_dict_xgb = {\n",
        "    'max_depth' : range(2,10,1),\n",
        "    'n_estimators':range(60,220,40),\n",
        "    'learning_rate':[0.1,0.05,0.01,0.005]\n",
        "}"
      ]
    },
    {
      "cell_type": "code",
      "execution_count": null,
      "metadata": {
        "id": "XNynbEvMaz0o"
      },
      "outputs": [],
      "source": [
        "param_dict_rf = {\n",
        "    # Maximum depth of trees\n",
        "    'max_depth': [4,6,8],\n",
        "    # Minimum number of samples required to split a node\n",
        "    'min_samples_split':[50,100,150],\n",
        "    # Minimum number of samples required at each leaf node\n",
        "    'min_samples_leaf':[40,50],  \n",
        "    # Number of trees\n",
        "    'n_estimators':[50,80,100]\n",
        "    \n",
        "}"
      ]
    },
    {
      "cell_type": "code",
      "execution_count": null,
      "metadata": {
        "id": "_W7ZEfuBbyqM"
      },
      "outputs": [],
      "source": [
        "(n_estimators=100, *, criterion=\"squared_error\", \n",
        " max_depth=None, \n",
        " min_samples_split=2,\n",
        " min_samples_leaf=1,\n",
        " min_weight_fraction_leaf=0,\n",
        " max_features=\"auto\",\n",
        " max_leaf_nodes=None, \n",
        " min_impurity_decrease=0,\n",
        " bootstrap=True, \n",
        " oob_score=False,\n",
        " n_jobs=None, \n",
        " random_state=None, \n",
        " verbose=0, \n",
        " warm_start=False,\n",
        " ccp_alpha=0,\n",
        " max_samples=None) -> None"
      ]
    },
    {
      "cell_type": "markdown",
      "metadata": {
        "id": "6BjIssJJlZwv"
      },
      "source": [
        "IT is taking too much of the time so we are taking random sample of 1,00,000"
      ]
    },
    {
      "cell_type": "code",
      "execution_count": null,
      "metadata": {
        "id": "7EdmGxC9n3qF"
      },
      "outputs": [],
      "source": [
        "new_sample = df1.sample(n= 50000, random_state= 3)"
      ]
    },
    {
      "cell_type": "code",
      "execution_count": null,
      "metadata": {
        "id": "1OBBEVRVlnkc"
      },
      "outputs": [],
      "source": [
        "new_sample = n"
      ]
    },
    {
      "cell_type": "code",
      "execution_count": null,
      "metadata": {
        "id": "alKyiCM0o5QB"
      },
      "outputs": [],
      "source": [
        "# Dividing the dataset into dependent variables and independent variablesY\n",
        "y = new_sample['Sales']\n",
        "X = new_sample.drop(['Sales'],axis = 1)"
      ]
    },
    {
      "cell_type": "code",
      "execution_count": null,
      "metadata": {
        "id": "OdCFIHyOorUw"
      },
      "outputs": [],
      "source": [
        "X_train, X_test, y_train, y_test = train_test_split( X,y,\n",
        "                                                    test_size = 0.2,\n",
        "                                                    random_state = 0) \n",
        "print(X_train.shape)\n",
        "print(X_test.shape)"
      ]
    },
    {
      "cell_type": "code",
      "execution_count": null,
      "metadata": {
        "id": "Yo7vJ_kea6fV"
      },
      "outputs": [],
      "source": [
        "#Grid Search\n",
        "lr_grid = GridSearchCV(estimator = rdf,\n",
        "                       param_grid = param_dict_rf,\n",
        "                       cv = 5,\n",
        "                       verbose = 2\n",
        "                        )\n",
        "lr_grid.fit(X_train,y_train)"
      ]
    },
    {
      "cell_type": "code",
      "execution_count": null,
      "metadata": {
        "id": "TS8vfdAHunlQ"
      },
      "outputs": [],
      "source": [
        "validation_metrics(X_train, X_test, y_train, y_test,lr_grid)"
      ]
    },
    {
      "cell_type": "code",
      "execution_count": null,
      "metadata": {
        "id": "cICWoxanwRiT"
      },
      "outputs": [],
      "source": [
        "rdf.fit(X_train,y_train)"
      ]
    },
    {
      "cell_type": "code",
      "execution_count": null,
      "metadata": {
        "id": "PEsHqsIvvUUb"
      },
      "outputs": [],
      "source": [
        ""
      ]
    },
    {
      "cell_type": "code",
      "execution_count": null,
      "metadata": {
        "id": "98xBNMZrxsi6"
      },
      "outputs": [],
      "source": [
        "validation_metrics(X_train, X_test, y_train, y_test,reg)"
      ]
    },
    {
      "cell_type": "code",
      "execution_count": null,
      "metadata": {
        "id": "jc7lduXZqxKl"
      },
      "outputs": [],
      "source": [
        "df.columns"
      ]
    },
    {
      "cell_type": "code",
      "execution_count": null,
      "metadata": {
        "id": "mV8WcqdZZzje"
      },
      "outputs": [],
      "source": [
        "print('Accuracy of Train Data:',cross_val_score(rdf,X_train,y_train,cv = 5))\n",
        "print('Accuracy of Test Data:',cross_val_score(rdf,X_test,y_test,cv = 5))\n",
        "predicted = reg.predict(X_test[:2])\n",
        "print(predicted)"
      ]
    },
    {
      "cell_type": "code",
      "execution_count": null,
      "metadata": {
        "id": "ChrLmqMuqBMY"
      },
      "outputs": [],
      "source": [
        "features = X_train.columns"
      ]
    },
    {
      "cell_type": "code",
      "execution_count": null,
      "metadata": {
        "id": "TixpVuqsrROZ"
      },
      "outputs": [],
      "source": [
        "features"
      ]
    },
    {
      "cell_type": "code",
      "execution_count": null,
      "metadata": {
        "id": "IgRlQQTGo6OC"
      },
      "outputs": [],
      "source": [
        "features = X_train.columns\n",
        "importances = xgb_model.feature_importances_\n",
        "indices = np.argsort(importances)\n",
        "plt.figure(figsize=(8,10))\n",
        "plt.title('Feature Importances', fontsize=20)\n",
        "plt.barh(range(len(indices)), importances[indices], color='pink', align='center')\n",
        "plt.yticks(range(len(indices)), features[indices])\n",
        "plt.xlabel('Relative Importance')"
      ]
    },
    {
      "cell_type": "code",
      "execution_count": null,
      "metadata": {
        "id": "143rGEVZpeDS"
      },
      "outputs": [],
      "source": [
        "!pip install shap"
      ]
    },
    {
      "cell_type": "code",
      "execution_count": null,
      "metadata": {
        "id": "mZOgUDwGRTRU"
      },
      "outputs": [],
      "source": [
        "import shap\n",
        "shap.initjs()"
      ]
    },
    {
      "cell_type": "code",
      "execution_count": null,
      "metadata": {
        "id": "ibmA_EAsRYlr"
      },
      "outputs": [],
      "source": [
        "explainer_train = shap.TreeExplainer(rdf)\n",
        "shap_values_train = explainer_train.shap_values(X_train)"
      ]
    },
    {
      "cell_type": "code",
      "execution_count": null,
      "metadata": {
        "id": "VG65p1FvRdio"
      },
      "outputs": [],
      "source": [
        ""
      ]
    }
  ],
  "metadata": {
    "colab": {
      "collapsed_sections": [],
      "name": "Rossmann Sales Prediction.ipynb",
      "provenance": [],
      "mount_file_id": "15f4wL3JeFWnxcCWV8C40-IkMUsseXkEK",
      "authorship_tag": "ABX9TyNuwC00jz5F9Ou/OMvdkNPI",
      "include_colab_link": true
    },
    "kernelspec": {
      "display_name": "Python 3",
      "name": "python3"
    },
    "language_info": {
      "name": "python"
    }
  },
  "nbformat": 4,
  "nbformat_minor": 0
}